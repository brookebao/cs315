{
 "cells": [
  {
   "cell_type": "markdown",
   "id": "644e74d1-7750-4f87-9758-b2a4d369ddd9",
   "metadata": {},
   "source": [
    "# Week 6 Tasks: NYT API Data and Cosine Similarity for Text \n",
    "\n",
    "These tasks were discussed during week 6 and you had to work on them with your group.  \n",
    "Below are the solutions and additional tasks that will be helpful for your project.\n",
    "\n",
    "**Table of Content**\n",
    "* [Part 1: Working with the NYT API](#sec1)\n",
    "* [Part 2: Cosine Similarity for Text](#sec2)\n",
    "* [Part 3: Similarity of Spring and Summer sentences](#sec3)"
   ]
  },
  {
   "cell_type": "markdown",
   "id": "47288b9e-1d91-4df6-8c98-01d8082c6172",
   "metadata": {},
   "source": [
    "<a id=\"sec1\"></a>\n",
    "## Part 1: Working with the NYT API \n",
    "\n",
    "We have the following goals:\n",
    "\n",
    "1. Use the API to get all articles from a month\n",
    "2. Verify the number of articles\n",
    "3. Find the distribution of articles by section"
   ]
  },
  {
   "cell_type": "markdown",
   "id": "2ed5235f-e011-42c5-afcd-4678c615fcf1",
   "metadata": {},
   "source": [
    "### Important: replace the string below with your API key"
   ]
  },
  {
   "cell_type": "code",
   "execution_count": 1,
   "id": "5eded646-a519-4488-9efb-dd5e68c1d473",
   "metadata": {},
   "outputs": [],
   "source": [
    "myAPIkey = \"hRcnkkTexpLCsv0IOxnI0vjufa8rU97p\""
   ]
  },
  {
   "cell_type": "markdown",
   "id": "28d637cf-7eac-45b1-b6c9-a3c28dd06813",
   "metadata": {},
   "source": [
    "We will write a function that given a date (month and year) will talk to the NYT API and get the articles for that time period. We will store the results in a JSON file to process when needed. "
   ]
  },
  {
   "cell_type": "code",
   "execution_count": 2,
   "id": "977e6acc-2c29-43ec-8f9a-99de35b5eeda",
   "metadata": {},
   "outputs": [],
   "source": [
    "import requests, json\n",
    "\n",
    "def getNYTArticles(year, month, apiKey):\n",
    "    \"\"\"Function that sends a request to the NYT API for all articles in a month\n",
    "    and then stores the results in a JSON file.\n",
    "    \"\"\"\n",
    "    # create URL\n",
    "    URL = f\"https://api.nytimes.com/svc/archive/v1/{year}/{month}.json?api-key={apiKey}\"\n",
    "\n",
    "    # send the request to get the data\n",
    "    data = requests.get(URL)\n",
    "    if data.status_code == 200:\n",
    "        print(\"Successfully got the data.\")\n",
    "\n",
    "    dataJson = data.json() # get response as JSON\n",
    "\n",
    "    with open(f\"NYT_{year}-{month}.json\", 'w') as fout:\n",
    "        json.dump(dataJson, fout)"
   ]
  },
  {
   "cell_type": "markdown",
   "id": "cab5a98c-0641-4336-8d34-35c626579eab",
   "metadata": {},
   "source": [
    "Let's test the function for the months of February 2024:"
   ]
  },
  {
   "cell_type": "code",
   "execution_count": 3,
   "id": "eef9ff83-df33-4037-ad86-b029bd53116f",
   "metadata": {},
   "outputs": [
    {
     "name": "stdout",
     "output_type": "stream",
     "text": [
      "Successfully got the data.\n"
     ]
    }
   ],
   "source": [
    "getNYTArticles(2024, 2, myAPIkey)"
   ]
  },
  {
   "cell_type": "markdown",
   "id": "dff1d927-2713-4a74-9d2d-05cfde14e136",
   "metadata": {},
   "source": [
    "## Explore the NYT Data\n",
    "\n",
    "Now that we have the data, we will look into how to retrieve things like article title, section, etc."
   ]
  },
  {
   "cell_type": "code",
   "execution_count": 4,
   "id": "75d2c5c4-696d-4518-a513-443d3db5fd85",
   "metadata": {},
   "outputs": [
    {
     "name": "stdout",
     "output_type": "stream",
     "text": [
      "<class 'dict'>\n"
     ]
    }
   ],
   "source": [
    "with open(\"NYT_2024-2.json\") as fin:\n",
    "    articles = json.load(fin)\n",
    "\n",
    "print(type(articles))"
   ]
  },
  {
   "cell_type": "markdown",
   "id": "dfe47492-d11a-45d4-b1a9-3ebf1aeed9cf",
   "metadata": {},
   "source": [
    "We can check the keys of this dictionary:"
   ]
  },
  {
   "cell_type": "code",
   "execution_count": 5,
   "id": "b32c6639-9d09-47e0-8299-b1733379e50e",
   "metadata": {},
   "outputs": [
    {
     "data": {
      "text/plain": [
       "dict_keys(['copyright', 'response'])"
      ]
     },
     "execution_count": 5,
     "metadata": {},
     "output_type": "execute_result"
    }
   ],
   "source": [
    "articles.keys()"
   ]
  },
  {
   "cell_type": "markdown",
   "id": "9414a10a-b15a-44b4-805f-70877b0f6c3f",
   "metadata": {},
   "source": [
    "Then we check what values are stored under each key, without printing the values, but checking for their type:"
   ]
  },
  {
   "cell_type": "code",
   "execution_count": 6,
   "id": "86c542d6-248d-40aa-a580-443f4b68aa33",
   "metadata": {},
   "outputs": [
    {
     "name": "stdout",
     "output_type": "stream",
     "text": [
      "copyright <class 'str'>\n",
      "response <class 'dict'>\n"
     ]
    }
   ],
   "source": [
    "for key in articles:\n",
    "    print(key, type(articles[key]))"
   ]
  },
  {
   "cell_type": "code",
   "execution_count": 6,
   "id": "133b5d15-0bac-47c0-8acd-57a4e3d0f659",
   "metadata": {},
   "outputs": [
    {
     "data": {
      "text/plain": [
       "'Copyright (c) 2024 The New York Times Company. All Rights Reserved.'"
      ]
     },
     "execution_count": 6,
     "metadata": {},
     "output_type": "execute_result"
    }
   ],
   "source": [
    "articles['copyright']"
   ]
  },
  {
   "cell_type": "markdown",
   "id": "f9a7ac7a-003a-4413-ad3d-aaaa4f893c24",
   "metadata": {},
   "source": [
    "Let's look at the keys for 'response':"
   ]
  },
  {
   "cell_type": "code",
   "execution_count": 7,
   "id": "27f21c0e-0fd0-45b1-b80b-d82cd6672472",
   "metadata": {},
   "outputs": [
    {
     "data": {
      "text/plain": [
       "dict_keys(['docs', 'meta'])"
      ]
     },
     "execution_count": 7,
     "metadata": {},
     "output_type": "execute_result"
    }
   ],
   "source": [
    "articles['response'].keys()"
   ]
  },
  {
   "cell_type": "markdown",
   "id": "27d43299-30db-404b-a80d-1ed2c75fc453",
   "metadata": {},
   "source": [
    "One more time, we look what kind of information is stored under each of these keys:"
   ]
  },
  {
   "cell_type": "code",
   "execution_count": 8,
   "id": "8affb171-a949-4507-928d-bde3c03ca065",
   "metadata": {},
   "outputs": [
    {
     "name": "stdout",
     "output_type": "stream",
     "text": [
      "docs <class 'list'>\n",
      "meta <class 'dict'>\n"
     ]
    }
   ],
   "source": [
    "for key in articles['response']:\n",
    "    print(key, type(articles['response'][key]))"
   ]
  },
  {
   "cell_type": "code",
   "execution_count": 9,
   "id": "13648859-3869-4274-98ca-4ed39e8ebc10",
   "metadata": {},
   "outputs": [
    {
     "data": {
      "text/plain": [
       "{'hits': 3791}"
      ]
     },
     "execution_count": 9,
     "metadata": {},
     "output_type": "execute_result"
    }
   ],
   "source": [
    "# what is under the \"meta\" key?\n",
    "\n",
    "articles['response']['meta']"
   ]
  },
  {
   "cell_type": "markdown",
   "id": "eeac6aee-0f8a-4ac2-a51d-eb57cad8664d",
   "metadata": {},
   "source": [
    "So, this shows how many articles are in the data. We can verify this:"
   ]
  },
  {
   "cell_type": "code",
   "execution_count": 10,
   "id": "22f30f73-eb9e-4865-801d-54fb7452eba5",
   "metadata": {},
   "outputs": [
    {
     "data": {
      "text/plain": [
       "3791"
      ]
     },
     "execution_count": 10,
     "metadata": {},
     "output_type": "execute_result"
    }
   ],
   "source": [
    "len(articles['response']['docs'])"
   ]
  },
  {
   "cell_type": "markdown",
   "id": "40b437bb-dc0d-4162-8369-ce547030d873",
   "metadata": {},
   "source": [
    "It's the same number, which is a good thing. Now let's look at what one of the articles (or docs) looks like:"
   ]
  },
  {
   "cell_type": "code",
   "execution_count": 11,
   "id": "085e6715-f6ec-4d9a-bdd6-23cb86fee3a6",
   "metadata": {},
   "outputs": [
    {
     "data": {
      "text/plain": [
       "{'abstract': 'Periods of backlash take shape after surges of Black progress. We have entered another such period.',\n",
       " 'web_url': 'https://www.nytimes.com/2024/01/31/opinion/racist-backlash-history.html',\n",
       " 'snippet': 'Periods of backlash take shape after surges of Black progress. We have entered another such period.',\n",
       " 'lead_paragraph': 'I am fascinated, and alarmed, by the swiftness with which periods of backlash take shape after surges of Black progress, and I believe that we have entered another such period.',\n",
       " 'print_section': 'A',\n",
       " 'print_page': '21',\n",
       " 'source': 'The New York Times',\n",
       " 'multimedia': [{'rank': 0,\n",
       "   'subtype': 'xlarge',\n",
       "   'caption': None,\n",
       "   'credit': None,\n",
       "   'type': 'image',\n",
       "   'url': 'images/2024/02/01/multimedia/31blow1-hvfq/31blow1-hvfq-articleLarge.jpg',\n",
       "   'height': 800,\n",
       "   'width': 600,\n",
       "   'subType': 'xlarge',\n",
       "   'crop_name': 'articleLarge',\n",
       "   'legacy': {'xlarge': 'images/2024/02/01/multimedia/31blow1-hvfq/31blow1-hvfq-articleLarge.jpg',\n",
       "    'xlargewidth': 600,\n",
       "    'xlargeheight': 800}},\n",
       "  {'rank': 0,\n",
       "   'subtype': 'jumbo',\n",
       "   'caption': None,\n",
       "   'credit': None,\n",
       "   'type': 'image',\n",
       "   'url': 'images/2024/02/01/multimedia/31blow1-hvfq/31blow1-hvfq-jumbo.jpg',\n",
       "   'height': 1024,\n",
       "   'width': 768,\n",
       "   'subType': 'jumbo',\n",
       "   'crop_name': 'jumbo',\n",
       "   'legacy': {}},\n",
       "  {'rank': 0,\n",
       "   'subtype': 'superJumbo',\n",
       "   'caption': None,\n",
       "   'credit': None,\n",
       "   'type': 'image',\n",
       "   'url': 'images/2024/02/01/multimedia/31blow1-hvfq/31blow1-hvfq-superJumbo.jpg',\n",
       "   'height': 2048,\n",
       "   'width': 1536,\n",
       "   'subType': 'superJumbo',\n",
       "   'crop_name': 'superJumbo',\n",
       "   'legacy': {}},\n",
       "  {'rank': 0,\n",
       "   'subtype': 'thumbnail',\n",
       "   'caption': None,\n",
       "   'credit': None,\n",
       "   'type': 'image',\n",
       "   'url': 'images/2024/02/01/multimedia/31blow1-hvfq/31blow1-hvfq-thumbStandard.jpg',\n",
       "   'height': 75,\n",
       "   'width': 75,\n",
       "   'subType': 'thumbnail',\n",
       "   'crop_name': 'thumbStandard',\n",
       "   'legacy': {'thumbnail': 'images/2024/02/01/multimedia/31blow1-hvfq/31blow1-hvfq-thumbStandard.jpg',\n",
       "    'thumbnailwidth': 75,\n",
       "    'thumbnailheight': 75}},\n",
       "  {'rank': 0,\n",
       "   'subtype': 'thumbLarge',\n",
       "   'caption': None,\n",
       "   'credit': None,\n",
       "   'type': 'image',\n",
       "   'url': 'images/2024/02/01/multimedia/31blow1-hvfq/31blow1-hvfq-thumbLarge.jpg',\n",
       "   'height': 150,\n",
       "   'width': 150,\n",
       "   'subType': 'thumbLarge',\n",
       "   'crop_name': 'thumbLarge',\n",
       "   'legacy': {}}],\n",
       " 'headline': {'main': 'The Dawn of a New Era of Oppression',\n",
       "  'kicker': 'Charles M. Blow',\n",
       "  'content_kicker': None,\n",
       "  'print_headline': 'The Dawn of a New Era of Oppression',\n",
       "  'name': None,\n",
       "  'seo': None,\n",
       "  'sub': None},\n",
       " 'keywords': [{'name': 'subject',\n",
       "   'value': 'Hate Crimes',\n",
       "   'rank': 1,\n",
       "   'major': 'N'},\n",
       "  {'name': 'subject', 'value': 'Black People', 'rank': 2, 'major': 'N'},\n",
       "  {'name': 'subject', 'value': 'Blacks', 'rank': 3, 'major': 'N'},\n",
       "  {'name': 'subject', 'value': 'Discrimination', 'rank': 4, 'major': 'N'},\n",
       "  {'name': 'subject',\n",
       "   'value': 'Civil Rights Movement (1954-68)',\n",
       "   'rank': 5,\n",
       "   'major': 'N'},\n",
       "  {'name': 'subject', 'value': 'Reconstruction Era', 'rank': 6, 'major': 'N'},\n",
       "  {'name': 'subject',\n",
       "   'value': 'Segregation and Desegregation',\n",
       "   'rank': 7,\n",
       "   'major': 'N'},\n",
       "  {'name': 'persons',\n",
       "   'value': 'Nixon, Richard Milhous',\n",
       "   'rank': 8,\n",
       "   'major': 'N'}],\n",
       " 'pub_date': '2024-02-01T00:00:08+0000',\n",
       " 'document_type': 'article',\n",
       " 'news_desk': 'OpEd',\n",
       " 'section_name': 'Opinion',\n",
       " 'byline': {'original': 'By Charles M. Blow',\n",
       "  'person': [{'firstname': 'Charles',\n",
       "    'middlename': None,\n",
       "    'lastname': '',\n",
       "    'qualifier': None,\n",
       "    'title': None,\n",
       "    'role': 'reported',\n",
       "    'organization': '',\n",
       "    'rank': 1}],\n",
       "  'organization': None},\n",
       " 'type_of_material': 'Op-Ed',\n",
       " '_id': 'nyt://article/f2a4bafd-6333-5aee-8bd7-08fa9572ec5e',\n",
       " 'word_count': 928,\n",
       " 'uri': 'nyt://article/f2a4bafd-6333-5aee-8bd7-08fa9572ec5e'}"
      ]
     },
     "execution_count": 11,
     "metadata": {},
     "output_type": "execute_result"
    }
   ],
   "source": [
    "articles['response']['docs'][0] # using indexing, because we know that the data is stored in a list"
   ]
  },
  {
   "cell_type": "code",
   "execution_count": 18,
   "id": "2f8d3fd0",
   "metadata": {},
   "outputs": [
    {
     "data": {
      "text/plain": [
       "'2024-02-01T00:00:08+0000'"
      ]
     },
     "execution_count": 18,
     "metadata": {},
     "output_type": "execute_result"
    }
   ],
   "source": [
    "articles['response']['docs'][0]['pub_date']"
   ]
  },
  {
   "cell_type": "markdown",
   "id": "e50978e8-b3aa-41c5-b549-4b4f99941214",
   "metadata": {},
   "source": [
    "We can see tha an article is a somewhat nested data structure, it's a dictionary, but many of the keys point to list of other dictionaries. Let's look at the top fields: "
   ]
  },
  {
   "cell_type": "code",
   "execution_count": 13,
   "id": "48c0c987-974d-4e76-aa5e-afb05fa33ff2",
   "metadata": {},
   "outputs": [
    {
     "name": "stdout",
     "output_type": "stream",
     "text": [
      "abstract <class 'str'>\n",
      "web_url <class 'str'>\n",
      "snippet <class 'str'>\n",
      "lead_paragraph <class 'str'>\n",
      "print_section <class 'str'>\n",
      "print_page <class 'str'>\n",
      "source <class 'str'>\n",
      "multimedia <class 'list'>\n",
      "headline <class 'dict'>\n",
      "keywords <class 'list'>\n",
      "pub_date <class 'str'>\n",
      "document_type <class 'str'>\n",
      "news_desk <class 'str'>\n",
      "section_name <class 'str'>\n",
      "byline <class 'dict'>\n",
      "type_of_material <class 'str'>\n",
      "_id <class 'str'>\n",
      "word_count <class 'int'>\n",
      "uri <class 'str'>\n"
     ]
    }
   ],
   "source": [
    "oneArticle = articles['response']['docs'][0]\n",
    "for key in oneArticle:\n",
    "    print(key, type(oneArticle[key]))"
   ]
  },
  {
   "cell_type": "markdown",
   "id": "7ccc22ee-0748-4850-bc23-272d0dbc6340",
   "metadata": {},
   "source": [
    "### Find the distribution of articles by section\n",
    "\n",
    "As we saw above, every article has a section name, so we can easily collect all those names:"
   ]
  },
  {
   "cell_type": "code",
   "execution_count": 14,
   "id": "83e0f050-8a06-45a6-b33d-b6b2a485abc1",
   "metadata": {},
   "outputs": [
    {
     "data": {
      "text/plain": [
       "['Opinion', 'New York', 'Opinion', 'World', 'U.S.']"
      ]
     },
     "execution_count": 14,
     "metadata": {},
     "output_type": "execute_result"
    }
   ],
   "source": [
    "sections = [article['section_name'] for article in articles['response']['docs']]\n",
    "\n",
    "# Let's look up a few of them\n",
    "sections[:5]"
   ]
  },
  {
   "cell_type": "code",
   "execution_count": 15,
   "id": "9890db0b-3c4f-46a1-8338-b31a4cf4acb4",
   "metadata": {},
   "outputs": [
    {
     "data": {
      "text/plain": [
       "[('U.S.', 734),\n",
       " ('World', 513),\n",
       " ('Arts', 326),\n",
       " ('Opinion', 272),\n",
       " ('Business Day', 244),\n",
       " ('New York', 200),\n",
       " ('Style', 174),\n",
       " ('Books', 139),\n",
       " ('Crosswords & Games', 125),\n",
       " ('Movies', 123)]"
      ]
     },
     "execution_count": 15,
     "metadata": {},
     "output_type": "execute_result"
    }
   ],
   "source": [
    "from collections import Counter\n",
    "\n",
    "distDct = Counter(sections) # count the occurrences of each section name\n",
    "\n",
    "distDct.most_common(10)"
   ]
  },
  {
   "cell_type": "markdown",
   "id": "f383daa6-b200-45dd-a49f-fdf15f040518",
   "metadata": {},
   "source": [
    "## Tasks for you:\n",
    "\n",
    "1. Write a Python function that takes a date, for example, \"2024-02-12\", and returns the list of articles for that day.\n",
    "2. Write some code that explores whether the fields \"abstract\" and \"snippet\" are always the same or they differ. Which one has more information?\n",
    "3. Write a function that given one article (in its nested structure), creates a flat dictionary with keys that are relevant for analysis: either the abstract or snippet (see point 2); lead paragraph; headline; keywords concatenated via semicolon; pub_date; document_type; section_name; and type_of_material\n",
    "4. Write another function that calls the function from point 3 on every article, to create a list of article dictionaries, and convert this list into a dataframe and then store it as a CSV file with the date-month in the title (this is important for point 5 below).\n",
    "5. Once you have done all of these in the notebook, create a Python script that can be called with a date (from a TikTok video). First, the script looks whether a CSV with cleaned articles is in our folder. If not, calls first the API function to get the articles and then the function that converts them into a CSV. Then, it loads the CSV into a datafram and it uses filtering to get the articles for the desired date. These articles will be used for the Semantic Similarity portion of the TikTok Project."
   ]
  },
  {
   "cell_type": "markdown",
   "id": "56a720fc",
   "metadata": {},
   "source": [
    "### Problem 1"
   ]
  },
  {
   "cell_type": "code",
   "execution_count": 20,
   "id": "4c037c5f",
   "metadata": {},
   "outputs": [],
   "source": [
    "from datetime import datetime"
   ]
  },
  {
   "cell_type": "code",
   "execution_count": null,
   "id": "b3990059",
   "metadata": {},
   "outputs": [],
   "source": [
    "#testing\n",
    "#date_obj = datetime.strptime('2024-02-01T00:00:08+0000', \"%Y-%m-%dT%H:%M:%S%z\")\n",
    "#year = date_obj.year\n",
    "#month = date_obj.month\n",
    "#day = date_obj.day  \n",
    "#print(year, month, day)"
   ]
  },
  {
   "cell_type": "code",
   "execution_count": 98,
   "id": "0cb2581b-de88-4e84-8a1c-cb0287025661",
   "metadata": {},
   "outputs": [],
   "source": [
    "#1 \n",
    "def articlestoday(year, month, day, apiKey):\n",
    "    articlesreleasedtoday = []\n",
    "    getNYTArticles(year, month, apiKey) #get the months data\n",
    "    with open(f\"NYT_{year}-{month}.json\") as fin:\n",
    "        articles = json.load(fin)\n",
    "    for article in articles['response']['docs']:   #for each article, look at the date\n",
    "        date_obj = datetime.strptime(article['pub_date'], \"%Y-%m-%dT%H:%M:%S%z\")#*     Also use datetime to get year, month, day from the given date\n",
    "        pubyear = date_obj.year\n",
    "        pubmonth = date_obj.month\n",
    "        pubday = date_obj.day\n",
    "        if pubyear == year and pubmonth == month and pubday == day:  #if the date is equal to the day we want, add article to list\n",
    "            articlesreleasedtoday.append(article)\n",
    "    return articlesreleasedtoday\n",
    "#*used ChatGPT here to do the generic formatting of the date"
   ]
  },
  {
   "cell_type": "code",
   "execution_count": 57,
   "metadata": {},
   "outputs": [
    {
     "name": "stdout",
     "output_type": "stream",
     "text": [
      "Successfully got the data.\n",
      "[{'abstract': 'The tentative deal for the men’s golf circuits to join forces had a Dec. 31 deadline, but significant questions remained.', 'web_url': 'https://www.nytimes.com/2023/12/31/business/dealbook/pga-tour-saudi-deal-deadline.html', 'snippet': 'The tentative deal for the men’s golf circuits to join forces had a Dec. 31 deadline, but significant questions remained.', 'lead_paragraph': 'When the PGA Tour and the upstart LIV Golf league, which is bankrolled by Saudi Arabia’s sovereign wealth fund, announced their groundbreaking deal in June for the men’s golf circuits to join forces, they left most details unanswered and set a Dec. 31 deadline to figure them out.', 'print_section': 'B', 'print_page': '6', 'source': 'The New York Times', 'multimedia': [{'rank': 0, 'subtype': 'xlarge', 'caption': None, 'credit': None, 'type': 'image', 'url': 'images/2023/12/27/multimedia/27pga-saudi-hptl/27pga-saudi-hptl-articleLarge.jpg', 'height': 400, 'width': 600, 'subType': 'xlarge', 'crop_name': 'articleLarge', 'legacy': {'xlarge': 'images/2023/12/27/multimedia/27pga-saudi-hptl/27pga-saudi-hptl-articleLarge.jpg', 'xlargewidth': 600, 'xlargeheight': 400}}, {'rank': 0, 'subtype': 'jumbo', 'caption': None, 'credit': None, 'type': 'image', 'url': 'images/2023/12/27/multimedia/27pga-saudi-hptl/27pga-saudi-hptl-jumbo.jpg', 'height': 683, 'width': 1024, 'subType': 'jumbo', 'crop_name': 'jumbo', 'legacy': {}}, {'rank': 0, 'subtype': 'superJumbo', 'caption': None, 'credit': None, 'type': 'image', 'url': 'images/2023/12/27/multimedia/27pga-saudi-hptl/27pga-saudi-hptl-superJumbo.jpg', 'height': 1365, 'width': 2048, 'subType': 'superJumbo', 'crop_name': 'superJumbo', 'legacy': {}}, {'rank': 0, 'subtype': 'thumbnail', 'caption': None, 'credit': None, 'type': 'image', 'url': 'images/2023/12/27/multimedia/27pga-saudi-hptl/27pga-saudi-hptl-thumbStandard.jpg', 'height': 75, 'width': 75, 'subType': 'thumbnail', 'crop_name': 'thumbStandard', 'legacy': {'thumbnail': 'images/2023/12/27/multimedia/27pga-saudi-hptl/27pga-saudi-hptl-thumbStandard.jpg', 'thumbnailwidth': 75, 'thumbnailheight': 75}}, {'rank': 0, 'subtype': 'thumbLarge', 'caption': None, 'credit': None, 'type': 'image', 'url': 'images/2023/12/27/multimedia/27pga-saudi-hptl/27pga-saudi-hptl-thumbLarge.jpg', 'height': 150, 'width': 150, 'subType': 'thumbLarge', 'crop_name': 'thumbLarge', 'legacy': {}}], 'headline': {'main': 'PGA Tour and Saudi-Backed LIV Extend Deadline to Finalize Deal', 'kicker': None, 'content_kicker': None, 'print_headline': 'Two Golf Tours Extend Talks On Joining Up', 'name': None, 'seo': None, 'sub': None}, 'keywords': [{'name': 'subject', 'value': 'Golf', 'rank': 1, 'major': 'N'}, {'name': 'subject', 'value': 'Mergers, Acquisitions and Divestitures', 'rank': 2, 'major': 'N'}, {'name': 'subject', 'value': 'Sovereign Wealth Funds', 'rank': 3, 'major': 'N'}, {'name': 'organizations', 'value': 'LIV Golf', 'rank': 4, 'major': 'N'}, {'name': 'organizations', 'value': 'PGA Tour Inc', 'rank': 5, 'major': 'N'}, {'name': 'organizations', 'value': 'Public Investment Fund (Saudi Arabia)', 'rank': 6, 'major': 'N'}, {'name': 'glocations', 'value': 'Saudi Arabia', 'rank': 7, 'major': 'N'}, {'name': 'organizations', 'value': 'Fenway Sports Group', 'rank': 8, 'major': 'N'}], 'pub_date': '2024-01-01T00:25:32+0000', 'document_type': 'article', 'news_desk': 'Business', 'section_name': 'Business Day', 'subsection_name': 'DealBook', 'byline': {'original': 'By Lauren Hirsch', 'person': [{'firstname': 'Lauren', 'middlename': None, 'lastname': 'Hirsch', 'qualifier': None, 'title': None, 'role': 'reported', 'organization': '', 'rank': 1}], 'organization': None}, 'type_of_material': 'News', '_id': 'nyt://article/0b16df62-9eba-5e67-a6dd-ae457d1362aa', 'word_count': 558, 'uri': 'nyt://article/0b16df62-9eba-5e67-a6dd-ae457d1362aa'}, {'abstract': 'Harry Zheng makes his New York Times debut.', 'web_url': 'https://www.nytimes.com/2023/12/31/crosswords/daily-puzzle-2024-01-01.html', 'snippet': 'Harry Zheng makes his New York Times debut.', 'lead_paragraph': 'Jump to: Today’s Theme | Tricky Clues', 'source': 'The New York Times', 'multimedia': [{'rank': 0, 'subtype': 'xlarge', 'caption': None, 'credit': None, 'type': 'image', 'url': 'images/2023/12/27/crosswords/01wordplay-hiphip/oakImage-1703696027558-articleLarge.jpg', 'height': 400, 'width': 600, 'subType': 'xlarge', 'crop_name': 'articleLarge', 'legacy': {'xlarge': 'images/2023/12/27/crosswords/01wordplay-hiphip/oakImage-1703696027558-articleLarge.jpg', 'xlargewidth': 600, 'xlargeheight': 400}}, {'rank': 0, 'subtype': 'jumbo', 'caption': None, 'credit': None, 'type': 'image', 'url': 'images/2023/12/27/crosswords/01wordplay-hiphip/oakImage-1703696027558-jumbo.jpg', 'height': 683, 'width': 1024, 'subType': 'jumbo', 'crop_name': 'jumbo', 'legacy': {}}, {'rank': 0, 'subtype': 'superJumbo', 'caption': None, 'credit': None, 'type': 'image', 'url': 'images/2023/12/27/crosswords/01wordplay-hiphip/oakImage-1703696027558-superJumbo.jpg', 'height': 683, 'width': 1024, 'subType': 'superJumbo', 'crop_name': 'superJumbo', 'legacy': {}}, {'rank': 0, 'subtype': 'thumbnail', 'caption': None, 'credit': None, 'type': 'image', 'url': 'images/2023/12/27/crosswords/01wordplay-hiphip/oakImage-1703696027558-thumbStandard.jpg', 'height': 75, 'width': 75, 'subType': 'thumbnail', 'crop_name': 'thumbStandard', 'legacy': {'thumbnail': 'images/2023/12/27/crosswords/01wordplay-hiphip/oakImage-1703696027558-thumbStandard.jpg', 'thumbnailwidth': 75, 'thumbnailheight': 75}}, {'rank': 0, 'subtype': 'thumbLarge', 'caption': None, 'credit': None, 'type': 'image', 'url': 'images/2023/12/27/crosswords/01wordplay-hiphip/oakImage-1703696027558-thumbLarge.jpg', 'height': 150, 'width': 150, 'subType': 'thumbLarge', 'crop_name': 'thumbLarge', 'legacy': {}}], 'headline': {'main': 'Something to Whistle', 'kicker': 'wordplay, the crossword column', 'content_kicker': None, 'print_headline': '', 'name': None, 'seo': None, 'sub': None}, 'keywords': [{'name': 'subject', 'value': 'Crossword Puzzles', 'rank': 1, 'major': 'N'}, {'name': 'subject', 'value': 'Games', 'rank': 2, 'major': 'N'}], 'pub_date': '2024-01-01T00:32:06+0000', 'document_type': 'article', 'news_desk': 'Games', 'section_name': 'Crosswords & Games', 'byline': {'original': 'By Sam Corbin', 'person': [{'firstname': 'Sam', 'middlename': None, 'lastname': 'Corbin', 'qualifier': None, 'title': None, 'role': 'reported', 'organization': '', 'rank': 1}], 'organization': None}, 'type_of_material': 'News', '_id': 'nyt://article/e78e4da6-d5b5-5636-a0c2-1b13e62cf65b', 'word_count': 855, 'uri': 'nyt://article/e78e4da6-d5b5-5636-a0c2-1b13e62cf65b'}, {'abstract': 'Iranian-backed Houthi gunmen from Yemen had fired on American helicopters responding to an attack on a commercial ship, American officials said.', 'web_url': 'https://www.nytimes.com/2023/12/31/world/middleeast/us-houthi-clash.html', 'snippet': 'Iranian-backed Houthi gunmen from Yemen had fired on American helicopters responding to an attack on a commercial ship, American officials said.', 'lead_paragraph': 'A clash between Iranian-backed Houthi fighters who were attacking a commercial freighter and U.S. Navy helicopters responding to the ship’s distress call ended on Sunday morning with the killing of all the crew members on three Houthi boats, the Pentagon said, a sharp escalation of violence at a moment when the White House is considering direct strikes on Iran’s proxies in the Middle East.', 'source': 'The New York Times', 'multimedia': [{'rank': 0, 'subtype': 'xlarge', 'caption': None, 'credit': None, 'type': 'image', 'url': 'images/2023/12/31/multimedia/31israel-hamas-ship-attack-qzlm/31israel-hamas-ship-attack-qzlm-articleLarge.jpg', 'height': 400, 'width': 600, 'subType': 'xlarge', 'crop_name': 'articleLarge', 'legacy': {'xlarge': 'images/2023/12/31/multimedia/31israel-hamas-ship-attack-qzlm/31israel-hamas-ship-attack-qzlm-articleLarge.jpg', 'xlargewidth': 600, 'xlargeheight': 400}}, {'rank': 0, 'subtype': 'jumbo', 'caption': None, 'credit': None, 'type': 'image', 'url': 'images/2023/12/31/multimedia/31israel-hamas-ship-attack-qzlm/31israel-hamas-ship-attack-qzlm-jumbo.jpg', 'height': 682, 'width': 1024, 'subType': 'jumbo', 'crop_name': 'jumbo', 'legacy': {}}, {'rank': 0, 'subtype': 'superJumbo', 'caption': None, 'credit': None, 'type': 'image', 'url': 'images/2023/12/31/multimedia/31israel-hamas-ship-attack-qzlm/31israel-hamas-ship-attack-qzlm-superJumbo.jpg', 'height': 1365, 'width': 2048, 'subType': 'superJumbo', 'crop_name': 'superJumbo', 'legacy': {}}, {'rank': 0, 'subtype': 'thumbnail', 'caption': None, 'credit': None, 'type': 'image', 'url': 'images/2023/12/31/multimedia/31israel-hamas-ship-attack-qzlm/31israel-hamas-ship-attack-qzlm-thumbStandard.jpg', 'height': 75, 'width': 75, 'subType': 'thumbnail', 'crop_name': 'thumbStandard', 'legacy': {'thumbnail': 'images/2023/12/31/multimedia/31israel-hamas-ship-attack-qzlm/31israel-hamas-ship-attack-qzlm-thumbStandard.jpg', 'thumbnailwidth': 75, 'thumbnailheight': 75}}, {'rank': 0, 'subtype': 'thumbLarge', 'caption': None, 'credit': None, 'type': 'image', 'url': 'images/2023/12/31/multimedia/31israel-hamas-ship-attack-qzlm/31israel-hamas-ship-attack-qzlm-thumbLarge.jpg', 'height': 150, 'width': 150, 'subType': 'thumbLarge', 'crop_name': 'thumbLarge', 'legacy': {}}], 'headline': {'main': 'U.S. Helicopters Sink 3 Houthi Boats in Red Sea, Pentagon Says', 'kicker': None, 'content_kicker': None, 'print_headline': 'U.S. Helicopters Sink 3 Houthi Boats in the Red Sea, Pentagon Says', 'name': None, 'seo': None, 'sub': None}, 'keywords': [{'name': 'subject', 'value': 'Israel-Gaza War (2023- )', 'rank': 1, 'major': 'N'}, {'name': 'subject', 'value': 'Ships and Shipping', 'rank': 2, 'major': 'N'}, {'name': 'subject', 'value': 'Freight (Cargo)', 'rank': 3, 'major': 'N'}, {'name': 'subject', 'value': 'United States Defense and Military Forces', 'rank': 4, 'major': 'N'}, {'name': 'subject', 'value': 'International Relations', 'rank': 5, 'major': 'N'}, {'name': 'organizations', 'value': 'Houthis', 'rank': 6, 'major': 'N'}, {'name': 'organizations', 'value': 'United States Navy', 'rank': 7, 'major': 'N'}, {'name': 'glocations', 'value': 'Red Sea', 'rank': 8, 'major': 'N'}, {'name': 'glocations', 'value': 'Yemen', 'rank': 9, 'major': 'N'}, {'name': 'glocations', 'value': 'Iran', 'rank': 10, 'major': 'N'}, {'name': 'glocations', 'value': 'Gaza Strip', 'rank': 11, 'major': 'N'}, {'name': 'glocations', 'value': 'Israel', 'rank': 12, 'major': 'N'}], 'pub_date': '2024-01-01T00:53:23+0000', 'document_type': 'article', 'news_desk': 'Foreign', 'section_name': 'World', 'subsection_name': 'Middle East', 'byline': {'original': 'By David E. Sanger, Eric Schmitt and Vivek Shankar', 'person': [{'firstname': 'David', 'middlename': 'E.', 'lastname': 'Sanger', 'qualifier': None, 'title': None, 'role': 'reported', 'organization': '', 'rank': 1}, {'firstname': 'Eric', 'middlename': None, 'lastname': 'Schmitt', 'qualifier': None, 'title': None, 'role': 'reported', 'organization': '', 'rank': 2}, {'firstname': 'Vivek', 'middlename': None, 'lastname': 'Shankar', 'qualifier': None, 'title': None, 'role': 'reported', 'organization': '', 'rank': 3}], 'organization': None}, 'type_of_material': 'News', '_id': 'nyt://article/2b16c6ee-54aa-593c-a6cb-89d414215401', 'word_count': 1218, 'uri': 'nyt://article/2b16c6ee-54aa-593c-a6cb-89d414215401'}, {'abstract': 'New Year’s celebrations took place as protesters against the Israel-Hamas war staged demonstrations in Midtown Manhattan.', 'web_url': 'https://www.nytimes.com/2023/12/31/nyregion/times-square-new-years-eve.html', 'snippet': 'New Year’s celebrations took place as protesters against the Israel-Hamas war staged demonstrations in Midtown Manhattan.', 'lead_paragraph': 'Hundreds of thousands of people crowded into Times Square on Sunday night to ring in the New Year, amid heightened security and scattered demonstrations in Midtown Manhattan over the Israel-Hamas war.', 'source': 'The New York Times', 'multimedia': [{'rank': 0, 'subtype': 'xlarge', 'caption': None, 'credit': None, 'type': 'image', 'url': 'images/2024/01/31/multimedia/31nye-celebrations-update-nye-mzwq/31nye-celebrations-update-nye-mzwq-articleLarge.jpg', 'height': 400, 'width': 600, 'subType': 'xlarge', 'crop_name': 'articleLarge', 'legacy': {'xlarge': 'images/2024/01/31/multimedia/31nye-celebrations-update-nye-mzwq/31nye-celebrations-update-nye-mzwq-articleLarge.jpg', 'xlargewidth': 600, 'xlargeheight': 400}}, {'rank': 0, 'subtype': 'jumbo', 'caption': None, 'credit': None, 'type': 'image', 'url': 'images/2024/01/31/multimedia/31nye-celebrations-update-nye-mzwq/31nye-celebrations-update-nye-mzwq-jumbo.jpg', 'height': 683, 'width': 1024, 'subType': 'jumbo', 'crop_name': 'jumbo', 'legacy': {}}, {'rank': 0, 'subtype': 'superJumbo', 'caption': None, 'credit': None, 'type': 'image', 'url': 'images/2024/01/31/multimedia/31nye-celebrations-update-nye-mzwq/31nye-celebrations-update-nye-mzwq-superJumbo.jpg', 'height': 1365, 'width': 2048, 'subType': 'superJumbo', 'crop_name': 'superJumbo', 'legacy': {}}, {'rank': 0, 'subtype': 'thumbnail', 'caption': None, 'credit': None, 'type': 'image', 'url': 'images/2024/01/31/multimedia/31nye-celebrations-update-nye-mzwq/31nye-celebrations-update-nye-mzwq-thumbStandard.jpg', 'height': 75, 'width': 75, 'subType': 'thumbnail', 'crop_name': 'thumbStandard', 'legacy': {'thumbnail': 'images/2024/01/31/multimedia/31nye-celebrations-update-nye-mzwq/31nye-celebrations-update-nye-mzwq-thumbStandard.jpg', 'thumbnailwidth': 75, 'thumbnailheight': 75}}, {'rank': 0, 'subtype': 'thumbLarge', 'caption': None, 'credit': None, 'type': 'image', 'url': 'images/2024/01/31/multimedia/31nye-celebrations-update-nye-mzwq/31nye-celebrations-update-nye-mzwq-thumbLarge.jpg', 'height': 150, 'width': 150, 'subType': 'thumbLarge', 'crop_name': 'thumbLarge', 'legacy': {}}], 'headline': {'main': 'In Times Square, Hundreds of Thousands Ring In 2024', 'kicker': None, 'content_kicker': None, 'print_headline': '', 'name': None, 'seo': None, 'sub': None}, 'keywords': [{'name': 'subject', 'value': 'New Year', 'rank': 1, 'major': 'N'}, {'name': 'subject', 'value': 'Demonstrations, Protests and Riots', 'rank': 2, 'major': 'N'}, {'name': 'subject', 'value': 'Israel-Gaza War (2023- )', 'rank': 3, 'major': 'N'}, {'name': 'glocations', 'value': 'Times Square and 42nd Street (Manhattan, NY)', 'rank': 4, 'major': 'N'}, {'name': 'subject', 'value': 'Two Thousand Twenty Four', 'rank': 5, 'major': 'N'}], 'pub_date': '2024-01-01T02:09:45+0000', 'document_type': 'article', 'news_desk': 'Metro', 'section_name': 'New York', 'byline': {'original': 'By Andy Newman, Camille Baker and Sean Piccoli', 'person': [{'firstname': 'Andy', 'middlename': None, 'lastname': 'Newman', 'qualifier': None, 'title': None, 'role': 'reported', 'organization': '', 'rank': 1}, {'firstname': 'Camille', 'middlename': None, 'lastname': 'Baker', 'qualifier': None, 'title': None, 'role': 'reported', 'organization': '', 'rank': 2}, {'firstname': 'Sean', 'middlename': None, 'lastname': 'Piccoli', 'qualifier': None, 'title': None, 'role': 'reported', 'organization': '', 'rank': 3}], 'organization': None}, 'type_of_material': 'News', '_id': 'nyt://article/814aee78-1ecc-580f-9294-21f668326d76', 'word_count': 608, 'uri': 'nyt://article/814aee78-1ecc-580f-9294-21f668326d76'}, {'abstract': 'Quotation of the Day for Monday, January 1, 2024.', 'web_url': 'https://www.nytimes.com/2023/12/31/pageoneplus/quotation-of-the-day-in-a-jewish-arab-school-an-oasis-from-division-but-not-from-deep-fears.html', 'snippet': 'Quotation of the Day for Monday, January 1, 2024.', 'lead_paragraph': '“It feels fun, a religious Jew being friends with an Arab.”', 'print_section': 'A', 'print_page': '2', 'source': 'The New York Times', 'multimedia': [], 'headline': {'main': 'Quotation of the Day: In a Jewish-Arab School, an Oasis From Division but Not From Deep Fears', 'kicker': None, 'content_kicker': None, 'print_headline': 'Quote of the Day', 'name': None, 'seo': None, 'sub': None}, 'keywords': [], 'pub_date': '2024-01-01T03:59:09+0000', 'document_type': 'article', 'news_desk': 'Summary', 'section_name': 'Corrections', 'byline': {'original': '', 'person': [], 'organization': None}, 'type_of_material': 'Quote', '_id': 'nyt://article/66b6b6a7-c436-5ab9-9318-b2bb3cbef49a', 'word_count': 36, 'uri': 'nyt://article/66b6b6a7-c436-5ab9-9318-b2bb3cbef49a'}, {'abstract': 'More than 90 percent of Palestinians in the territory say they have regularly gone without food for a whole day, according to the United Nations.', 'web_url': 'https://www.nytimes.com/2024/01/01/world/middleeast/gaza-israel-hunger.html', 'snippet': 'More than 90 percent of Palestinians in the territory say they have regularly gone without food for a whole day, according to the United Nations.', 'lead_paragraph': 'Walaa Zaiter’s four children have been hungry for weeks, but she can barely find them food.', 'print_section': 'A', 'print_page': '1', 'source': 'The New York Times', 'multimedia': [{'rank': 0, 'subtype': 'xlarge', 'caption': None, 'credit': None, 'type': 'image', 'url': 'images/2023/12/28/multimedia/gaza-hunger-kjfz/gaza-hunger-kjfz-articleLarge.jpg', 'height': 400, 'width': 600, 'subType': 'xlarge', 'crop_name': 'articleLarge', 'legacy': {'xlarge': 'images/2023/12/28/multimedia/gaza-hunger-kjfz/gaza-hunger-kjfz-articleLarge.jpg', 'xlargewidth': 600, 'xlargeheight': 400}}, {'rank': 0, 'subtype': 'jumbo', 'caption': None, 'credit': None, 'type': 'image', 'url': 'images/2023/12/28/multimedia/gaza-hunger-kjfz/gaza-hunger-kjfz-jumbo.jpg', 'height': 683, 'width': 1024, 'subType': 'jumbo', 'crop_name': 'jumbo', 'legacy': {}}, {'rank': 0, 'subtype': 'superJumbo', 'caption': None, 'credit': None, 'type': 'image', 'url': 'images/2023/12/28/multimedia/gaza-hunger-kjfz/gaza-hunger-kjfz-superJumbo.jpg', 'height': 1365, 'width': 2048, 'subType': 'superJumbo', 'crop_name': 'superJumbo', 'legacy': {}}, {'rank': 0, 'subtype': 'thumbnail', 'caption': None, 'credit': None, 'type': 'image', 'url': 'images/2023/12/28/multimedia/gaza-hunger-kjfz/gaza-hunger-kjfz-thumbStandard.jpg', 'height': 75, 'width': 75, 'subType': 'thumbnail', 'crop_name': 'thumbStandard', 'legacy': {'thumbnail': 'images/2023/12/28/multimedia/gaza-hunger-kjfz/gaza-hunger-kjfz-thumbStandard.jpg', 'thumbnailwidth': 75, 'thumbnailheight': 75}}, {'rank': 0, 'subtype': 'thumbLarge', 'caption': None, 'credit': None, 'type': 'image', 'url': 'images/2023/12/28/multimedia/gaza-hunger-kjfz/gaza-hunger-kjfz-thumbLarge.jpg', 'height': 150, 'width': 150, 'subType': 'thumbLarge', 'crop_name': 'thumbLarge', 'legacy': {}}], 'headline': {'main': 'Half of Gazans Are at Risk of Starving, U.N. Warns', 'kicker': None, 'content_kicker': None, 'print_headline': 'Half of Gazans Face Risk of Starvation, the U.N. Warns', 'name': None, 'seo': None, 'sub': None}, 'keywords': [{'name': 'subject', 'value': 'Israel-Gaza War (2023- )', 'rank': 1, 'major': 'N'}, {'name': 'subject', 'value': 'Food Insecurity', 'rank': 2, 'major': 'N'}, {'name': 'subject', 'value': 'Palestinians', 'rank': 3, 'major': 'N'}, {'name': 'subject', 'value': 'Refugees and Displaced Persons', 'rank': 4, 'major': 'N'}, {'name': 'organizations', 'value': 'Hamas', 'rank': 5, 'major': 'N'}, {'name': 'glocations', 'value': 'Israel', 'rank': 6, 'major': 'N'}, {'name': 'glocations', 'value': 'Gaza Strip', 'rank': 7, 'major': 'N'}], 'pub_date': '2024-01-01T05:01:23+0000', 'document_type': 'article', 'news_desk': 'Foreign', 'section_name': 'World', 'subsection_name': 'Middle East', 'byline': {'original': 'By Liam Stack, Gaya Gupta and Abu Bakr Bashir', 'person': [{'firstname': 'Liam', 'middlename': None, 'lastname': 'Stack', 'qualifier': None, 'title': None, 'role': 'reported', 'organization': '', 'rank': 1}, {'firstname': 'Gaya', 'middlename': None, 'lastname': 'Gupta', 'qualifier': None, 'title': None, 'role': 'reported', 'organization': '', 'rank': 2}, {'firstname': 'Abu', 'middlename': 'Bakr', 'lastname': 'Bashir', 'qualifier': None, 'title': None, 'role': 'reported', 'organization': '', 'rank': 3}], 'organization': None}, 'type_of_material': 'News', '_id': 'nyt://article/61d662df-7ed4-570b-9095-90791a3e2d27', 'word_count': 1513, 'uri': 'nyt://article/61d662df-7ed4-570b-9095-90791a3e2d27'}, {'abstract': 'Followers of Afro-Brazilian religions have been displaced by New Year’s revelers. But they still find ways to make their offerings to the ocean.', 'web_url': 'https://www.nytimes.com/2024/01/01/world/americas/brazil-umbanda-religion-new-years.html', 'snippet': 'Followers of Afro-Brazilian religions have been displaced by New Year’s revelers. But they still find ways to make their offerings to the ocean.', 'lead_paragraph': 'Each New Year’s Eve, more than two million revelers — twice as many as typically fill Times Square — dress in white and pack Copacabana Beach in Rio de Janeiro to watch a 15-minute midnight fireworks extravaganza.', 'print_section': 'A', 'print_page': '7', 'source': 'The New York Times', 'multimedia': [{'rank': 0, 'subtype': 'xlarge', 'caption': None, 'credit': None, 'type': 'image', 'url': 'images/2023/01/01/multimedia/01brazil-sea-goddess-promo/01brazil-sea-goddess-jvmk-articleLarge.jpg', 'height': 400, 'width': 600, 'subType': 'xlarge', 'crop_name': 'articleLarge', 'legacy': {'xlarge': 'images/2023/01/01/multimedia/01brazil-sea-goddess-promo/01brazil-sea-goddess-jvmk-articleLarge.jpg', 'xlargewidth': 600, 'xlargeheight': 400}}, {'rank': 0, 'subtype': 'jumbo', 'caption': None, 'credit': None, 'type': 'image', 'url': 'images/2023/01/01/multimedia/01brazil-sea-goddess-promo/01brazil-sea-goddess-jvmk-jumbo.jpg', 'height': 683, 'width': 1024, 'subType': 'jumbo', 'crop_name': 'jumbo', 'legacy': {}}, {'rank': 0, 'subtype': 'superJumbo', 'caption': None, 'credit': None, 'type': 'image', 'url': 'images/2023/01/01/multimedia/01brazil-sea-goddess-promo/01brazil-sea-goddess-jvmk-superJumbo.jpg', 'height': 1365, 'width': 2048, 'subType': 'superJumbo', 'crop_name': 'superJumbo', 'legacy': {}}, {'rank': 0, 'subtype': 'thumbnail', 'caption': None, 'credit': None, 'type': 'image', 'url': 'images/2023/01/01/multimedia/01brazil-sea-goddess-promo/01brazil-sea-goddess-jvmk-thumbStandard.jpg', 'height': 75, 'width': 75, 'subType': 'thumbnail', 'crop_name': 'thumbStandard', 'legacy': {'thumbnail': 'images/2023/01/01/multimedia/01brazil-sea-goddess-promo/01brazil-sea-goddess-jvmk-thumbStandard.jpg', 'thumbnailwidth': 75, 'thumbnailheight': 75}}, {'rank': 0, 'subtype': 'thumbLarge', 'caption': None, 'credit': None, 'type': 'image', 'url': 'images/2023/01/01/multimedia/01brazil-sea-goddess-promo/01brazil-sea-goddess-jvmk-thumbLarge.jpg', 'height': 150, 'width': 150, 'subType': 'thumbLarge', 'crop_name': 'thumbLarge', 'legacy': {}}], 'headline': {'main': 'How to Start the New Year? Keep the Sea Goddess Happy.', 'kicker': 'RIO DE JANEIro DISPATCH', 'content_kicker': None, 'print_headline': 'In Rio, Celebrating the New Year With Offerings to an Afro-Brazilian Sea Goddess', 'name': None, 'seo': None, 'sub': None}, 'keywords': [{'name': 'subject', 'value': 'Religion and Belief', 'rank': 1, 'major': 'N'}, {'name': 'subject', 'value': 'New Year', 'rank': 2, 'major': 'N'}, {'name': 'subject', 'value': 'Beaches', 'rank': 3, 'major': 'N'}, {'name': 'glocations', 'value': 'Brazil', 'rank': 4, 'major': 'N'}, {'name': 'glocations', 'value': 'Copacabana (Rio de Janeiro, Brazil)', 'rank': 5, 'major': 'N'}, {'name': 'glocations', 'value': 'Rio de Janeiro (Brazil)', 'rank': 6, 'major': 'N'}, {'name': 'subject', 'value': 'vis-photo', 'rank': 7, 'major': 'N'}], 'pub_date': '2024-01-01T05:01:27+0000', 'document_type': 'article', 'news_desk': 'Foreign', 'section_name': 'World', 'subsection_name': 'Americas', 'byline': {'original': 'By Jack Nicas and Dado Galdieri', 'person': [{'firstname': 'Jack', 'middlename': None, 'lastname': 'Nicas', 'qualifier': None, 'title': None, 'role': 'reported', 'organization': '', 'rank': 1}, {'firstname': 'Dado', 'middlename': None, 'lastname': 'Galdieri', 'qualifier': None, 'title': None, 'role': 'reported', 'organization': '', 'rank': 2}], 'organization': None}, 'type_of_material': 'News', '_id': 'nyt://article/51a3d293-71dd-59f8-a322-ec977af34a3b', 'word_count': 980, 'uri': 'nyt://article/51a3d293-71dd-59f8-a322-ec977af34a3b'}, {'abstract': 'Your results will help you figure out how to have a more energetic 2024.', 'web_url': 'https://www.nytimes.com/interactive/2024/01/01/well/live/energy-challenge-quiz.html', 'snippet': 'Your results will help you figure out how to have a more energetic 2024.', 'lead_paragraph': 'Your results will help you figure out how to have a more energetic 2024.', 'source': 'The New York Times', 'multimedia': [{'rank': 0, 'subtype': 'xlarge', 'caption': None, 'credit': None, 'type': 'image', 'url': 'images/2024/01/01/well/01Well-Challenge-PROMO-STATIC/01Well-Challenge-PROMO-STATIC-articleLarge.jpg', 'height': 400, 'width': 600, 'subType': 'xlarge', 'crop_name': 'articleLarge', 'legacy': {'xlarge': 'images/2024/01/01/well/01Well-Challenge-PROMO-STATIC/01Well-Challenge-PROMO-STATIC-articleLarge.jpg', 'xlargewidth': 600, 'xlargeheight': 400}}, {'rank': 0, 'subtype': 'jumbo', 'caption': None, 'credit': None, 'type': 'image', 'url': 'images/2024/01/01/well/01Well-Challenge-PROMO-STATIC/01Well-Challenge-PROMO-STATIC-jumbo.jpg', 'height': 682, 'width': 1024, 'subType': 'jumbo', 'crop_name': 'jumbo', 'legacy': {}}, {'rank': 0, 'subtype': 'superJumbo', 'caption': None, 'credit': None, 'type': 'image', 'url': 'images/2024/01/01/well/01Well-Challenge-PROMO-STATIC/01Well-Challenge-PROMO-STATIC-superJumbo.jpg', 'height': 1075, 'width': 1613, 'subType': 'superJumbo', 'crop_name': 'superJumbo', 'legacy': {}}, {'rank': 0, 'subtype': 'thumbnail', 'caption': None, 'credit': None, 'type': 'image', 'url': 'images/2024/01/01/well/01Well-Challenge-PROMO-STATIC/01Well-Challenge-PROMO-STATIC-thumbStandard.jpg', 'height': 75, 'width': 75, 'subType': 'thumbnail', 'crop_name': 'thumbStandard', 'legacy': {'thumbnail': 'images/2024/01/01/well/01Well-Challenge-PROMO-STATIC/01Well-Challenge-PROMO-STATIC-thumbStandard.jpg', 'thumbnailwidth': 75, 'thumbnailheight': 75}}, {'rank': 0, 'subtype': 'thumbLarge', 'caption': None, 'credit': None, 'type': 'image', 'url': 'images/2024/01/01/well/01Well-Challenge-PROMO-STATIC/01Well-Challenge-PROMO-STATIC-thumbLarge.jpg', 'height': 150, 'width': 150, 'subType': 'thumbLarge', 'crop_name': 'thumbLarge', 'legacy': {}}], 'headline': {'main': 'What’s Sapping Your Energy?', 'kicker': 'The 6-Day Energy Challenge', 'content_kicker': None, 'print_headline': '', 'name': None, 'seo': None, 'sub': None}, 'keywords': [{'name': 'subject', 'value': 'Content Type: Quiz', 'rank': 1, 'major': 'N'}, {'name': 'subject', 'value': 'Content Type: Service', 'rank': 2, 'major': 'N'}, {'name': 'subject', 'value': 'Sleep', 'rank': 3, 'major': 'N'}, {'name': 'subject', 'value': 'Mental Health and Disorders', 'rank': 4, 'major': 'N'}, {'name': 'subject', 'value': 'Dating and Relationships', 'rank': 5, 'major': 'N'}, {'name': 'subject', 'value': 'Diet and Nutrition', 'rank': 6, 'major': 'N'}, {'name': 'subject', 'value': 'Exercise', 'rank': 7, 'major': 'N'}, {'name': 'subject', 'value': 'vis-design', 'rank': 8, 'major': 'N'}], 'pub_date': '2024-01-01T05:05:23+0000', 'document_type': 'multimedia', 'news_desk': 'Well', 'section_name': 'Well', 'subsection_name': 'Live', 'byline': {'original': 'By Jancee Dunn', 'person': [{'firstname': 'Jancee', 'middlename': None, 'lastname': 'Dunn', 'qualifier': None, 'title': None, 'role': 'reported', 'organization': '', 'rank': 1}], 'organization': None}, 'type_of_material': 'Interactive Feature', '_id': 'nyt://interactive/438d36f3-0d7e-5897-9fe9-7be134fb4bee', 'word_count': 0, 'uri': 'nyt://interactive/438d36f3-0d7e-5897-9fe9-7be134fb4bee'}, {'abstract': 'Today’s challenge involves a little daytime rest.', 'web_url': 'https://www.nytimes.com/2024/01/01/well/mind/energy-challenge-daytime-rest.html', 'snippet': 'Today’s challenge involves a little daytime rest.', 'lead_paragraph': 'To kick off our 6-Day Energy Challenge, we’re focusing on daytime rest.', 'print_section': 'A', 'print_page': '3', 'source': 'The New York Times', 'multimedia': [], 'headline': {'main': 'Day 1: A 5-Minute Trick for More Energy', 'kicker': 'the 6-day energy challenge', 'content_kicker': None, 'print_headline': 'Here to Help; The Energy Challenge, Day 1: Daytime Rest', 'name': None, 'seo': None, 'sub': None}, 'keywords': [{'name': 'subject', 'value': 'Content Type: Service', 'rank': 1, 'major': 'N'}, {'name': 'subject', 'value': 'Sleep', 'rank': 2, 'major': 'N'}], 'pub_date': '2024-01-01T05:09:24+0000', 'document_type': 'article', 'news_desk': 'Well', 'section_name': 'Well', 'subsection_name': 'Mind', 'byline': {'original': 'By Jancee Dunn', 'person': [{'firstname': 'Jancee', 'middlename': None, 'lastname': 'Dunn', 'qualifier': None, 'title': None, 'role': 'reported', 'organization': '', 'rank': 1}], 'organization': None}, 'type_of_material': 'News', '_id': 'nyt://article/8cba8136-930e-576a-beaa-06a9459ae451', 'word_count': 699, 'uri': 'nyt://article/8cba8136-930e-576a-beaa-06a9459ae451'}, {'abstract': 'Friction between the U.S. and Israel.', 'web_url': 'https://www.nytimes.com/2024/01/01/briefing/israel-relationship-ukraine-denmark.html', 'snippet': 'Friction between the U.S. and Israel.', 'lead_paragraph': 'No other episode in the past half-century has tested the ties between the U.S. and Israel so significantly as the current war in Gaza. President Biden’s initial resolve to stand by Israel has given way to frustrating phone calls, sharp public comments and exhausting marathon meetings as the relationship has grown fraught.', 'source': 'The New York Times', 'multimedia': [{'rank': 0, 'subtype': 'xlarge', 'caption': None, 'credit': None, 'type': 'image', 'url': 'images/2023/12/31/multimedia/01ambriefing-europe-nl-israel-PROMO/01ambriefing-europe-nl-israel-articleLarge.jpg', 'height': 600, 'width': 600, 'subType': 'xlarge', 'crop_name': 'articleLarge', 'legacy': {'xlarge': 'images/2023/12/31/multimedia/01ambriefing-europe-nl-israel-PROMO/01ambriefing-europe-nl-israel-articleLarge.jpg', 'xlargewidth': 600, 'xlargeheight': 600}}, {'rank': 0, 'subtype': 'jumbo', 'caption': None, 'credit': None, 'type': 'image', 'url': 'images/2023/12/31/multimedia/01ambriefing-europe-nl-israel-PROMO/01ambriefing-europe-nl-israel-jumbo.jpg', 'height': 1024, 'width': 1024, 'subType': 'jumbo', 'crop_name': 'jumbo', 'legacy': {}}, {'rank': 0, 'subtype': 'superJumbo', 'caption': None, 'credit': None, 'type': 'image', 'url': 'images/2023/12/31/multimedia/01ambriefing-europe-nl-israel-PROMO/01ambriefing-europe-nl-israel-superJumbo.jpg', 'height': 2048, 'width': 2048, 'subType': 'superJumbo', 'crop_name': 'superJumbo', 'legacy': {}}, {'rank': 0, 'subtype': 'thumbnail', 'caption': None, 'credit': None, 'type': 'image', 'url': 'images/2023/12/31/multimedia/01ambriefing-europe-nl-israel-PROMO/31dc-us-israel-biden1-gkjp-thumbStandard.jpg', 'height': 75, 'width': 75, 'subType': 'thumbnail', 'crop_name': 'thumbStandard', 'legacy': {'thumbnail': 'images/2023/12/31/multimedia/01ambriefing-europe-nl-israel-PROMO/31dc-us-israel-biden1-gkjp-thumbStandard.jpg', 'thumbnailwidth': 75, 'thumbnailheight': 75}}, {'rank': 0, 'subtype': 'thumbLarge', 'caption': None, 'credit': None, 'type': 'image', 'url': 'images/2023/12/31/multimedia/01ambriefing-europe-nl-israel-PROMO/31dc-us-israel-biden1-gkjp-thumbLarge.jpg', 'height': 150, 'width': 150, 'subType': 'thumbLarge', 'crop_name': 'thumbLarge', 'legacy': {}}], 'headline': {'main': 'Monday Briefing', 'kicker': None, 'content_kicker': None, 'print_headline': '', 'name': None, 'seo': None, 'sub': None}, 'keywords': [], 'pub_date': '2024-01-01T05:49:05+0000', 'document_type': 'article', 'news_desk': 'NYTNow', 'section_name': 'Briefing', 'byline': {'original': 'By Natasha Frost', 'person': [{'firstname': 'Natasha', 'middlename': None, 'lastname': 'Frost', 'qualifier': None, 'title': None, 'role': 'reported', 'organization': '', 'rank': 1}], 'organization': None}, 'type_of_material': 'briefing', '_id': 'nyt://article/535ea474-fff2-54ae-8dc0-de0ab0788993', 'word_count': 1107, 'uri': 'nyt://article/535ea474-fff2-54ae-8dc0-de0ab0788993'}, {'abstract': 'The competition show featuring drag queens comes back for a 16th season. The annual award show airs on CBS.', 'web_url': 'https://www.nytimes.com/2024/01/01/arts/television/whats-on-tv-this-week-rupauls-drag-race-and-the-golden-globes.html', 'snippet': 'The competition show featuring drag queens comes back for a 16th season. The annual award show airs on CBS.', 'lead_paragraph': 'Between network, cable and streaming, the modern television landscape is a vast one. Here are some of the shows, specials and movies coming to TV this week, Jan. 1-7. Details and times are subject to change.', 'print_section': 'C', 'print_page': '4', 'source': 'The New York Times', 'multimedia': [{'rank': 0, 'subtype': 'xlarge', 'caption': None, 'credit': None, 'type': 'image', 'url': 'images/2024/01/01/arts/01tvcol-rupaul/01tvcol-rupaul-articleLarge.jpg', 'height': 400, 'width': 600, 'subType': 'xlarge', 'crop_name': 'articleLarge', 'legacy': {'xlarge': 'images/2024/01/01/arts/01tvcol-rupaul/01tvcol-rupaul-articleLarge.jpg', 'xlargewidth': 600, 'xlargeheight': 400}}, {'rank': 0, 'subtype': 'jumbo', 'caption': None, 'credit': None, 'type': 'image', 'url': 'images/2024/01/01/arts/01tvcol-rupaul/01tvcol-rupaul-jumbo.jpg', 'height': 682, 'width': 1024, 'subType': 'jumbo', 'crop_name': 'jumbo', 'legacy': {}}, {'rank': 0, 'subtype': 'superJumbo', 'caption': None, 'credit': None, 'type': 'image', 'url': 'images/2024/01/01/arts/01tvcol-rupaul/01tvcol-rupaul-superJumbo.jpg', 'height': 1364, 'width': 2048, 'subType': 'superJumbo', 'crop_name': 'superJumbo', 'legacy': {}}, {'rank': 0, 'subtype': 'thumbnail', 'caption': None, 'credit': None, 'type': 'image', 'url': 'images/2024/01/01/arts/01tvcol-rupaul/01tvcol-rupaul-thumbStandard.jpg', 'height': 75, 'width': 75, 'subType': 'thumbnail', 'crop_name': 'thumbStandard', 'legacy': {'thumbnail': 'images/2024/01/01/arts/01tvcol-rupaul/01tvcol-rupaul-thumbStandard.jpg', 'thumbnailwidth': 75, 'thumbnailheight': 75}}, {'rank': 0, 'subtype': 'thumbLarge', 'caption': None, 'credit': None, 'type': 'image', 'url': 'images/2024/01/01/arts/01tvcol-rupaul/01tvcol-rupaul-thumbLarge.jpg', 'height': 150, 'width': 150, 'subType': 'thumbLarge', 'crop_name': 'thumbLarge', 'legacy': {}}], 'headline': {'main': 'What’s on TV This Week: ‘RuPaul’s Drag Race’ and the Golden Globes', 'kicker': None, 'content_kicker': None, 'print_headline': 'This Week on TV', 'name': None, 'seo': None, 'sub': None}, 'keywords': [{'name': 'subject', 'value': 'Television', 'rank': 1, 'major': 'N'}, {'name': 'subject', 'value': 'Movies', 'rank': 2, 'major': 'N'}], 'pub_date': '2024-01-01T06:00:14+0000', 'document_type': 'article', 'news_desk': 'Culture', 'section_name': 'Arts', 'subsection_name': 'Television', 'byline': {'original': 'By Shivani Gonzalez', 'person': [{'firstname': 'Shivani', 'middlename': None, 'lastname': 'Gonzalez', 'qualifier': None, 'title': None, 'role': 'reported', 'organization': '', 'rank': 1}], 'organization': None}, 'type_of_material': 'News', '_id': 'nyt://article/594e4b8c-3bf8-576a-8095-79c242fb7e21', 'word_count': 785, 'uri': 'nyt://article/594e4b8c-3bf8-576a-8095-79c242fb7e21'}, {'abstract': 'In case you need some puzzle help.', 'web_url': 'https://www.nytimes.com/2024/01/01/crosswords/wordle-review.html', 'snippet': 'In case you need some puzzle help.', 'lead_paragraph': 'Welcome to The Wordle Review. Be warned: This page contains spoilers for today’s puzzle. Solve Wordle first, or scroll at your own risk.', 'source': 'The New York Times', 'multimedia': [{'rank': 0, 'subtype': 'xlarge', 'caption': None, 'credit': None, 'type': 'image', 'url': 'images/2024/01/01/crosswords/01wordle-review-art/01wordle-review-art-articleLarge.jpg', 'height': 400, 'width': 600, 'subType': 'xlarge', 'crop_name': 'articleLarge', 'legacy': {'xlarge': 'images/2024/01/01/crosswords/01wordle-review-art/01wordle-review-art-articleLarge.jpg', 'xlargewidth': 600, 'xlargeheight': 400}}, {'rank': 0, 'subtype': 'jumbo', 'caption': None, 'credit': None, 'type': 'image', 'url': 'images/2024/01/01/crosswords/01wordle-review-art/01wordle-review-art-jumbo.jpg', 'height': 683, 'width': 1024, 'subType': 'jumbo', 'crop_name': 'jumbo', 'legacy': {}}, {'rank': 0, 'subtype': 'superJumbo', 'caption': None, 'credit': None, 'type': 'image', 'url': 'images/2024/01/01/crosswords/01wordle-review-art/01wordle-review-art-superJumbo.jpg', 'height': 1354, 'width': 2030, 'subType': 'superJumbo', 'crop_name': 'superJumbo', 'legacy': {}}, {'rank': 0, 'subtype': 'thumbnail', 'caption': None, 'credit': None, 'type': 'image', 'url': 'images/2024/01/01/crosswords/01wordle-review-art/01wordle-review-art-thumbStandard.jpg', 'height': 75, 'width': 75, 'subType': 'thumbnail', 'crop_name': 'thumbStandard', 'legacy': {'thumbnail': 'images/2024/01/01/crosswords/01wordle-review-art/01wordle-review-art-thumbStandard.jpg', 'thumbnailwidth': 75, 'thumbnailheight': 75}}, {'rank': 0, 'subtype': 'thumbLarge', 'caption': None, 'credit': None, 'type': 'image', 'url': 'images/2024/01/01/crosswords/01wordle-review-art/01wordle-review-art-thumbLarge.jpg', 'height': 150, 'width': 150, 'subType': 'thumbLarge', 'crop_name': 'thumbLarge', 'legacy': {}}], 'headline': {'main': 'Today’s Wordle Review', 'kicker': None, 'content_kicker': None, 'print_headline': '', 'name': None, 'seo': None, 'sub': None}, 'keywords': [{'name': 'subject', 'value': 'Wordle (Puzzle)', 'rank': 1, 'major': 'N'}], 'pub_date': '2024-01-01T08:00:02+0000', 'document_type': 'article', 'news_desk': 'Games', 'section_name': 'Crosswords & Games', 'byline': {'original': 'By New York Times Games', 'person': [], 'organization': 'The New York Times'}, 'type_of_material': 'News', '_id': 'nyt://article/ea490c64-9744-5dbc-b515-94fd2ee4d340', 'word_count': 364, 'uri': 'nyt://article/ea490c64-9744-5dbc-b515-94fd2ee4d340'}, {'abstract': 'Feeling stuck on today’s puzzle? We can help.', 'web_url': 'https://www.nytimes.com/2024/01/01/crosswords/spelling-bee-forum.html', 'snippet': 'Feeling stuck on today’s puzzle? We can help.', 'lead_paragraph': 'Hi busy bees! Welcome to today’s Spelling Bee forum. There are a number of terms that appear in both this article and other online discussions of the Spelling Bee; a glossary of those terms compiled by Monicat, a Times reader, can be found below.', 'source': 'The New York Times', 'multimedia': [{'rank': 0, 'subtype': 'xlarge', 'caption': None, 'credit': None, 'type': 'image', 'url': 'images/2024/01/01/crosswords/01bee-forum-mon/01bee-forum-mon-articleLarge.jpg', 'height': 771, 'width': 600, 'subType': 'xlarge', 'crop_name': 'articleLarge', 'legacy': {'xlarge': 'images/2024/01/01/crosswords/01bee-forum-mon/01bee-forum-mon-articleLarge.jpg', 'xlargewidth': 600, 'xlargeheight': 771}}, {'rank': 0, 'subtype': 'jumbo', 'caption': None, 'credit': None, 'type': 'image', 'url': 'images/2024/01/01/crosswords/01bee-forum-mon/01bee-forum-mon-jumbo.jpg', 'height': 1024, 'width': 797, 'subType': 'jumbo', 'crop_name': 'jumbo', 'legacy': {}}, {'rank': 0, 'subtype': 'superJumbo', 'caption': None, 'credit': None, 'type': 'image', 'url': 'images/2024/01/01/crosswords/01bee-forum-mon/01bee-forum-mon-superJumbo.jpg', 'height': 1024, 'width': 797, 'subType': 'superJumbo', 'crop_name': 'superJumbo', 'legacy': {}}, {'rank': 0, 'subtype': 'thumbnail', 'caption': None, 'credit': None, 'type': 'image', 'url': 'images/2024/01/01/crosswords/01bee-forum-mon/01bee-forum-mon-thumbStandard.jpg', 'height': 75, 'width': 75, 'subType': 'thumbnail', 'crop_name': 'thumbStandard', 'legacy': {'thumbnail': 'images/2024/01/01/crosswords/01bee-forum-mon/01bee-forum-mon-thumbStandard.jpg', 'thumbnailwidth': 75, 'thumbnailheight': 75}}, {'rank': 0, 'subtype': 'thumbLarge', 'caption': None, 'credit': None, 'type': 'image', 'url': 'images/2024/01/01/crosswords/01bee-forum-mon/01bee-forum-mon-thumbLarge.jpg', 'height': 150, 'width': 150, 'subType': 'thumbLarge', 'crop_name': 'thumbLarge', 'legacy': {}}], 'headline': {'main': 'Spelling Bee Forum', 'kicker': None, 'content_kicker': None, 'print_headline': '', 'name': None, 'seo': None, 'sub': None}, 'keywords': [{'name': 'creative_works', 'value': 'Spelling Bee (Game)', 'rank': 1, 'major': 'N'}], 'pub_date': '2024-01-01T08:00:03+0000', 'document_type': 'article', 'news_desk': 'Games', 'section_name': 'Crosswords & Games', 'byline': {'original': 'By New York Times Games', 'person': [], 'organization': 'The New York Times'}, 'type_of_material': 'News', '_id': 'nyt://article/0c688f59-fe6f-5dd4-bce2-d2bd04571844', 'word_count': 215, 'uri': 'nyt://article/0c688f59-fe6f-5dd4-bce2-d2bd04571844'}, {'abstract': 'In case you need some puzzle help.', 'web_url': 'https://www.nytimes.com/2024/01/01/crosswords/connections-companion.html', 'snippet': 'In case you need some puzzle help.', 'lead_paragraph': 'Good morning, dear connectors. Welcome to today’s Connections forum, where you can give and receive puzzle — and emotional — support.', 'source': 'The New York Times', 'multimedia': [{'rank': 0, 'subtype': 'xlarge', 'caption': None, 'credit': None, 'type': 'image', 'url': 'images/2024/01/01/crosswords/01connections-204/01connections-204-articleLarge.jpg', 'height': 400, 'width': 600, 'subType': 'xlarge', 'crop_name': 'articleLarge', 'legacy': {'xlarge': 'images/2024/01/01/crosswords/01connections-204/01connections-204-articleLarge.jpg', 'xlargewidth': 600, 'xlargeheight': 400}}, {'rank': 0, 'subtype': 'jumbo', 'caption': None, 'credit': None, 'type': 'image', 'url': 'images/2024/01/01/crosswords/01connections-204/01connections-204-jumbo.jpg', 'height': 683, 'width': 1024, 'subType': 'jumbo', 'crop_name': 'jumbo', 'legacy': {}}, {'rank': 0, 'subtype': 'superJumbo', 'caption': None, 'credit': None, 'type': 'image', 'url': 'images/2024/01/01/crosswords/01connections-204/01connections-204-superJumbo.jpg', 'height': 1366, 'width': 2048, 'subType': 'superJumbo', 'crop_name': 'superJumbo', 'legacy': {}}, {'rank': 0, 'subtype': 'thumbnail', 'caption': None, 'credit': None, 'type': 'image', 'url': 'images/2024/01/01/crosswords/01connections-204/01connections-204-thumbStandard.jpg', 'height': 75, 'width': 75, 'subType': 'thumbnail', 'crop_name': 'thumbStandard', 'legacy': {'thumbnail': 'images/2024/01/01/crosswords/01connections-204/01connections-204-thumbStandard.jpg', 'thumbnailwidth': 75, 'thumbnailheight': 75}}, {'rank': 0, 'subtype': 'thumbLarge', 'caption': None, 'credit': None, 'type': 'image', 'url': 'images/2024/01/01/crosswords/01connections-204/01connections-204-thumbLarge.jpg', 'height': 150, 'width': 150, 'subType': 'thumbLarge', 'crop_name': 'thumbLarge', 'legacy': {}}], 'headline': {'main': 'The Connections Companion', 'kicker': None, 'content_kicker': None, 'print_headline': '', 'name': None, 'seo': None, 'sub': None}, 'keywords': [{'name': 'subject', 'value': 'Crossword Puzzles', 'rank': 1, 'major': 'N'}, {'name': 'creative_works', 'value': 'Connections (Game)', 'rank': 2, 'major': 'N'}], 'pub_date': '2024-01-01T08:00:03+0000', 'document_type': 'article', 'news_desk': 'Games', 'section_name': 'Crosswords & Games', 'byline': {'original': 'By New York Times Games', 'person': [], 'organization': 'The New York Times'}, 'type_of_material': 'News', '_id': 'nyt://article/649a36d9-2c4f-544b-9bb9-e004139a7ab4', 'word_count': 267, 'uri': 'nyt://article/649a36d9-2c4f-544b-9bb9-e004139a7ab4'}, {'abstract': 'Legislation touching on nearly every aspect of life in the state, including wages, health care and education, is going into effect in the coming months.', 'web_url': 'https://www.nytimes.com/2024/01/01/nyregion/new-york-state-laws.html', 'snippet': 'Legislation touching on nearly every aspect of life in the state, including wages, health care and education, is going into effect in the coming months.', 'lead_paragraph': 'Gov. Kathy Hochul signed roughly 900 bills in 2023. Those laws — many of which are scheduled to take effect in the new year — touch nearly every aspect of New Yorkers’ lives. There are measures recognizing additional school holidays (the Lunar New Year and Diwali), and others that establish broader protections for freelance workers and create new requirements for licensed cosmetologists.', 'print_section': 'MB', 'print_page': '3', 'source': 'The New York Times', 'multimedia': [{'rank': 0, 'subtype': 'xlarge', 'caption': None, 'credit': None, 'type': 'image', 'url': 'images/2024/01/07/nyregion/07ny-2024-laws-hfbt/ny-2024-laws-hfbt-articleLarge.jpg', 'height': 400, 'width': 600, 'subType': 'xlarge', 'crop_name': 'articleLarge', 'legacy': {'xlarge': 'images/2024/01/07/nyregion/07ny-2024-laws-hfbt/ny-2024-laws-hfbt-articleLarge.jpg', 'xlargewidth': 600, 'xlargeheight': 400}}, {'rank': 0, 'subtype': 'jumbo', 'caption': None, 'credit': None, 'type': 'image', 'url': 'images/2024/01/07/nyregion/07ny-2024-laws-hfbt/ny-2024-laws-hfbt-jumbo.jpg', 'height': 683, 'width': 1024, 'subType': 'jumbo', 'crop_name': 'jumbo', 'legacy': {}}, {'rank': 0, 'subtype': 'superJumbo', 'caption': None, 'credit': None, 'type': 'image', 'url': 'images/2024/01/07/nyregion/07ny-2024-laws-hfbt/ny-2024-laws-hfbt-superJumbo.jpg', 'height': 1365, 'width': 2048, 'subType': 'superJumbo', 'crop_name': 'superJumbo', 'legacy': {}}, {'rank': 0, 'subtype': 'thumbnail', 'caption': None, 'credit': None, 'type': 'image', 'url': 'images/2024/01/07/nyregion/07ny-2024-laws-hfbt/ny-2024-laws-hfbt-thumbStandard.jpg', 'height': 75, 'width': 75, 'subType': 'thumbnail', 'crop_name': 'thumbStandard', 'legacy': {'thumbnail': 'images/2024/01/07/nyregion/07ny-2024-laws-hfbt/ny-2024-laws-hfbt-thumbStandard.jpg', 'thumbnailwidth': 75, 'thumbnailheight': 75}}, {'rank': 0, 'subtype': 'thumbLarge', 'caption': None, 'credit': None, 'type': 'image', 'url': 'images/2024/01/07/nyregion/07ny-2024-laws-hfbt/ny-2024-laws-hfbt-thumbLarge.jpg', 'height': 150, 'width': 150, 'subType': 'thumbLarge', 'crop_name': 'thumbLarge', 'legacy': {}}], 'headline': {'main': 'It’s 2024. Here Are the New Laws That New Yorkers Should Know About.', 'kicker': None, 'content_kicker': None, 'print_headline': 'New Rules and Regulations Come With the New Year', 'name': None, 'seo': None, 'sub': None}, 'keywords': [{'name': 'subject', 'value': 'Two Thousand Twenty Four', 'rank': 1, 'major': 'N'}, {'name': 'glocations', 'value': 'New York State', 'rank': 2, 'major': 'N'}, {'name': 'subject', 'value': 'Law and Legislation', 'rank': 3, 'major': 'N'}, {'name': 'subject', 'value': 'Minimum Wage', 'rank': 4, 'major': 'N'}, {'name': 'subject', 'value': 'Voting Rights, Registration and Requirements', 'rank': 5, 'major': 'N'}, {'name': 'subject', 'value': 'Menstruation', 'rank': 6, 'major': 'N'}, {'name': 'subject', 'value': 'Politics and Government', 'rank': 7, 'major': 'N'}, {'name': 'subject', 'value': 'Elderly', 'rank': 8, 'major': 'N'}, {'name': 'subject', 'value': 'Prisons and Prisoners', 'rank': 9, 'major': 'N'}, {'name': 'subject', 'value': 'Midwives and Doulas', 'rank': 10, 'major': 'N'}, {'name': 'subject', 'value': 'Nursing Homes', 'rank': 11, 'major': 'N'}, {'name': 'persons', 'value': 'Hochul, Kathleen C', 'rank': 12, 'major': 'N'}, {'name': 'subject', 'value': 'Medicaid', 'rank': 13, 'major': 'N'}, {'name': 'subject', 'value': 'Discrimination', 'rank': 14, 'major': 'N'}, {'name': 'subject', 'value': 'Homosexuality and Bisexuality', 'rank': 15, 'major': 'N'}], 'pub_date': '2024-01-01T08:00:15+0000', 'document_type': 'article', 'news_desk': 'Metropolitan', 'section_name': 'New York', 'byline': {'original': 'By Erin Nolan', 'person': [{'firstname': 'Erin', 'middlename': None, 'lastname': 'Nolan', 'qualifier': None, 'title': None, 'role': 'reported', 'organization': '', 'rank': 1}], 'organization': None}, 'type_of_material': 'News', '_id': 'nyt://article/a8c26d86-2a05-5c74-bbf7-5887ed60be38', 'word_count': 843, 'uri': 'nyt://article/a8c26d86-2a05-5c74-bbf7-5887ed60be38'}, {'abstract': 'The Well desk’s energy challenge is the product of months of research and test runs with friends and family.', 'web_url': 'https://www.nytimes.com/2024/01/01/insider/well-challenges.html', 'snippet': 'The Well desk’s energy challenge is the product of months of research and test runs with friends and family.', 'lead_paragraph': 'When around a dozen reporters and editors on The New York Times’s Well desk sat around a long table in a conference room in July to brainstorm ideas for a challenge readers could complete to jump-start their 2024, a variety of suggestions were thrown out: How to live a more joyful life. A week’s worth of decluttering exercises. A relationship challenge.', 'print_section': 'A', 'print_page': '2', 'source': 'The New York Times', 'multimedia': [{'rank': 0, 'subtype': 'xlarge', 'caption': None, 'credit': None, 'type': 'image', 'url': 'images/2024/01/01/pageoneplus/01a2_insider-new/01a2_insider-new-articleLarge.jpg', 'height': 400, 'width': 600, 'subType': 'xlarge', 'crop_name': 'articleLarge', 'legacy': {'xlarge': 'images/2024/01/01/pageoneplus/01a2_insider-new/01a2_insider-new-articleLarge.jpg', 'xlargewidth': 600, 'xlargeheight': 400}}, {'rank': 0, 'subtype': 'jumbo', 'caption': None, 'credit': None, 'type': 'image', 'url': 'images/2024/01/01/pageoneplus/01a2_insider-new/01a2_insider-new-jumbo.jpg', 'height': 683, 'width': 1024, 'subType': 'jumbo', 'crop_name': 'jumbo', 'legacy': {}}, {'rank': 0, 'subtype': 'superJumbo', 'caption': None, 'credit': None, 'type': 'image', 'url': 'images/2024/01/01/pageoneplus/01a2_insider-new/01a2_insider-new-superJumbo.jpg', 'height': 1365, 'width': 2048, 'subType': 'superJumbo', 'crop_name': 'superJumbo', 'legacy': {}}, {'rank': 0, 'subtype': 'thumbnail', 'caption': None, 'credit': None, 'type': 'image', 'url': 'images/2024/01/01/pageoneplus/01a2_insider-new/01a2_insider-new-thumbStandard.jpg', 'height': 75, 'width': 75, 'subType': 'thumbnail', 'crop_name': 'thumbStandard', 'legacy': {'thumbnail': 'images/2024/01/01/pageoneplus/01a2_insider-new/01a2_insider-new-thumbStandard.jpg', 'thumbnailwidth': 75, 'thumbnailheight': 75}}, {'rank': 0, 'subtype': 'thumbLarge', 'caption': None, 'credit': None, 'type': 'image', 'url': 'images/2024/01/01/pageoneplus/01a2_insider-new/01a2_insider-new-thumbLarge.jpg', 'height': 150, 'width': 150, 'subType': 'thumbLarge', 'crop_name': 'thumbLarge', 'legacy': {}}], 'headline': {'main': 'The Well Team Knows You’re Tired. And They’re Here to Help.', 'kicker': 'Times Insider', 'content_kicker': None, 'print_headline': 'They Know You’re Tired, and Want to Help', 'name': None, 'seo': None, 'sub': None}, 'keywords': [{'name': 'subject', 'value': 'Medicine and Health', 'rank': 1, 'major': 'N'}, {'name': 'subject', 'value': 'Content Type: Service', 'rank': 2, 'major': 'N'}, {'name': 'persons', 'value': 'Winfrey, Oprah', 'rank': 3, 'major': 'N'}, {'name': 'persons', 'value': 'King, Gayle', 'rank': 4, 'major': 'N'}], 'pub_date': '2024-01-01T08:00:17+0000', 'document_type': 'article', 'news_desk': 'Insider', 'section_name': 'Times Insider', 'byline': {'original': 'By Sarah Bahr', 'person': [{'firstname': 'Sarah', 'middlename': None, 'lastname': 'Bahr', 'qualifier': None, 'title': None, 'role': 'reported', 'organization': '', 'rank': 1}], 'organization': None}, 'type_of_material': 'News', '_id': 'nyt://article/3997703c-f476-57c1-8eaf-bf7b2de16dd1', 'word_count': 950, 'uri': 'nyt://article/3997703c-f476-57c1-8eaf-bf7b2de16dd1'}, {'abstract': 'Many state laws take effect on the first day of 2024, including new rules on gun safety, a ban on diversity programs and a curb on telemarketing calls.', 'web_url': 'https://www.nytimes.com/2024/01/01/us/new-state-laws-2024.html', 'snippet': 'Many state laws take effect on the first day of 2024, including new rules on gun safety, a ban on diversity programs and a curb on telemarketing calls.', 'lead_paragraph': 'A spate of new state laws, including on guns, minimum wage and gender transition care, went into effect as the calendar flipped to 2024. Perhaps the most significant change bans programs that promote diversity, equity and inclusion at publicly funded colleges and universities in Texas.', 'print_section': 'A', 'print_page': '11', 'source': 'The New York Times', 'multimedia': [{'rank': 0, 'subtype': 'xlarge', 'caption': None, 'credit': None, 'type': 'image', 'url': 'images/2024/01/01/us/01nat-new-laws/01nat-new-laws-articleLarge.jpg', 'height': 400, 'width': 600, 'subType': 'xlarge', 'crop_name': 'articleLarge', 'legacy': {'xlarge': 'images/2024/01/01/us/01nat-new-laws/01nat-new-laws-articleLarge.jpg', 'xlargewidth': 600, 'xlargeheight': 400}}, {'rank': 0, 'subtype': 'jumbo', 'caption': None, 'credit': None, 'type': 'image', 'url': 'images/2024/01/01/us/01nat-new-laws/01nat-new-laws-jumbo.jpg', 'height': 683, 'width': 1024, 'subType': 'jumbo', 'crop_name': 'jumbo', 'legacy': {}}, {'rank': 0, 'subtype': 'superJumbo', 'caption': None, 'credit': None, 'type': 'image', 'url': 'images/2024/01/01/us/01nat-new-laws/01nat-new-laws-superJumbo.jpg', 'height': 1365, 'width': 2048, 'subType': 'superJumbo', 'crop_name': 'superJumbo', 'legacy': {}}, {'rank': 0, 'subtype': 'thumbnail', 'caption': None, 'credit': None, 'type': 'image', 'url': 'images/2024/01/01/us/01nat-new-laws/01nat-new-laws-thumbStandard.jpg', 'height': 75, 'width': 75, 'subType': 'thumbnail', 'crop_name': 'thumbStandard', 'legacy': {'thumbnail': 'images/2024/01/01/us/01nat-new-laws/01nat-new-laws-thumbStandard.jpg', 'thumbnailwidth': 75, 'thumbnailheight': 75}}, {'rank': 0, 'subtype': 'thumbLarge', 'caption': None, 'credit': None, 'type': 'image', 'url': 'images/2024/01/01/us/01nat-new-laws/01nat-new-laws-thumbLarge.jpg', 'height': 150, 'width': 150, 'subType': 'thumbLarge', 'crop_name': 'thumbLarge', 'legacy': {}}], 'headline': {'main': 'New State Laws on Hot-Button Issues Take Effect Today', 'kicker': None, 'content_kicker': None, 'print_headline': 'A Diversity Program Ban and a Higher Minimum Wage', 'name': None, 'seo': None, 'sub': None}, 'keywords': [{'name': 'subject', 'value': 'States (US)', 'rank': 1, 'major': 'N'}, {'name': 'subject', 'value': 'State Legislatures', 'rank': 2, 'major': 'N'}, {'name': 'subject', 'value': 'Law and Legislation', 'rank': 3, 'major': 'N'}, {'name': 'subject', 'value': 'Gun Control', 'rank': 4, 'major': 'N'}, {'name': 'subject', 'value': 'Minimum Wage', 'rank': 5, 'major': 'N'}, {'name': 'subject', 'value': 'Labor and Jobs', 'rank': 6, 'major': 'N'}, {'name': 'subject', 'value': 'Roads and Traffic', 'rank': 7, 'major': 'N'}, {'name': 'subject', 'value': 'Consumer Protection', 'rank': 8, 'major': 'N'}, {'name': 'subject', 'value': 'Transgender', 'rank': 9, 'major': 'N'}, {'name': 'subject', 'value': 'Abortion', 'rank': 10, 'major': 'N'}, {'name': 'subject', 'value': 'Wages and Salaries', 'rank': 11, 'major': 'N'}, {'name': 'subject', 'value': 'Marijuana', 'rank': 12, 'major': 'N'}, {'name': 'subject', 'value': 'Unemployment', 'rank': 13, 'major': 'N'}, {'name': 'subject', 'value': 'Pregnancy and Childbirth', 'rank': 14, 'major': 'N'}, {'name': 'subject', 'value': 'Prisons and Prisoners', 'rank': 15, 'major': 'N'}, {'name': 'subject', 'value': 'Mental Health and Disorders', 'rank': 16, 'major': 'N'}, {'name': 'subject', 'value': 'Book Bans', 'rank': 17, 'major': 'N'}, {'name': 'subject', 'value': 'Education', 'rank': 18, 'major': 'N'}, {'name': 'subject', 'value': 'Online Dating', 'rank': 19, 'major': 'N'}, {'name': 'glocations', 'value': 'United States', 'rank': 20, 'major': 'N'}], 'pub_date': '2024-01-01T08:00:30+0000', 'document_type': 'article', 'news_desk': 'National', 'section_name': 'U.S.', 'byline': {'original': 'By Adeel Hassan', 'person': [{'firstname': 'Adeel', 'middlename': None, 'lastname': 'Hassan', 'qualifier': None, 'title': None, 'role': 'reported', 'organization': '', 'rank': 1}], 'organization': None}, 'type_of_material': 'News', '_id': 'nyt://article/3651f7fc-3788-5fdb-ba59-da7218312988', 'word_count': 1269, 'uri': 'nyt://article/3651f7fc-3788-5fdb-ba59-da7218312988'}, {'abstract': 'The city has long been known as a pizza town. Now other places seem to be trying to cash in on the hype.', 'web_url': 'https://www.nytimes.com/2024/01/01/nyregion/new-haven-pizza.html', 'snippet': 'The city has long been known as a pizza town. Now other places seem to be trying to cash in on the hype.', 'lead_paragraph': 'For generations, New Haven has been a pizza town.', 'print_section': 'MB', 'print_page': '1', 'source': 'The New York Times', 'multimedia': [{'rank': 0, 'subtype': 'xlarge', 'caption': None, 'credit': None, 'type': 'image', 'url': 'images/2023/12/22/multimedia/00newhaven-pizza--01-hbmg/00newhaven-pizza--01-hbmg-articleLarge.jpg', 'height': 400, 'width': 600, 'subType': 'xlarge', 'crop_name': 'articleLarge', 'legacy': {'xlarge': 'images/2023/12/22/multimedia/00newhaven-pizza--01-hbmg/00newhaven-pizza--01-hbmg-articleLarge.jpg', 'xlargewidth': 600, 'xlargeheight': 400}}, {'rank': 0, 'subtype': 'jumbo', 'caption': None, 'credit': None, 'type': 'image', 'url': 'images/2023/12/22/multimedia/00newhaven-pizza--01-hbmg/00newhaven-pizza--01-hbmg-jumbo.jpg', 'height': 683, 'width': 1024, 'subType': 'jumbo', 'crop_name': 'jumbo', 'legacy': {}}, {'rank': 0, 'subtype': 'superJumbo', 'caption': None, 'credit': None, 'type': 'image', 'url': 'images/2023/12/22/multimedia/00newhaven-pizza--01-hbmg/00newhaven-pizza--01-hbmg-superJumbo.jpg', 'height': 1365, 'width': 2048, 'subType': 'superJumbo', 'crop_name': 'superJumbo', 'legacy': {}}, {'rank': 0, 'subtype': 'thumbnail', 'caption': None, 'credit': None, 'type': 'image', 'url': 'images/2023/12/22/multimedia/00newhaven-pizza--01-hbmg/00newhaven-pizza--01-hbmg-thumbStandard.jpg', 'height': 75, 'width': 75, 'subType': 'thumbnail', 'crop_name': 'thumbStandard', 'legacy': {'thumbnail': 'images/2023/12/22/multimedia/00newhaven-pizza--01-hbmg/00newhaven-pizza--01-hbmg-thumbStandard.jpg', 'thumbnailwidth': 75, 'thumbnailheight': 75}}, {'rank': 0, 'subtype': 'thumbLarge', 'caption': None, 'credit': None, 'type': 'image', 'url': 'images/2023/12/22/multimedia/00newhaven-pizza--01-hbmg/00newhaven-pizza--01-hbmg-thumbLarge.jpg', 'height': 150, 'width': 150, 'subType': 'thumbLarge', 'crop_name': 'thumbLarge', 'legacy': {}}], 'headline': {'main': 'Can New Haven’s Legendary Pizza Joints Play on the National Stage?', 'kicker': None, 'content_kicker': None, 'print_headline': 'Ready for a Bigger Slice of the Pie', 'name': None, 'seo': None, 'sub': None}, 'keywords': [{'name': 'subject', 'value': 'Pizza', 'rank': 1, 'major': 'N'}, {'name': 'subject', 'value': 'Family Business', 'rank': 2, 'major': 'N'}, {'name': 'glocations', 'value': 'New Haven (Conn)', 'rank': 3, 'major': 'N'}], 'pub_date': '2024-01-01T08:00:34+0000', 'document_type': 'article', 'news_desk': 'Metropolitan', 'section_name': 'New York', 'byline': {'original': 'By Amelia Nierenberg and Joe Buglewicz', 'person': [{'firstname': 'Amelia', 'middlename': None, 'lastname': 'Nierenberg', 'qualifier': None, 'title': None, 'role': 'reported', 'organization': '', 'rank': 1}, {'firstname': 'Joe', 'middlename': None, 'lastname': 'Buglewicz', 'qualifier': None, 'title': None, 'role': 'reported', 'organization': '', 'rank': 2}], 'organization': None}, 'type_of_material': 'News', '_id': 'nyt://article/8a7a7d61-c071-5853-bbc6-895154c4c66f', 'word_count': 1298, 'uri': 'nyt://article/8a7a7d61-c071-5853-bbc6-895154c4c66f'}, {'abstract': 'The slowdown in the residential real estate market, a crucial cog in the American economy, is threatening sectors like home improvement and storage.', 'web_url': 'https://www.nytimes.com/2024/01/01/business/housing-market-services-retailers.html', 'snippet': 'The slowdown in the residential real estate market, a crucial cog in the American economy, is threatening sectors like home improvement and storage.', 'lead_paragraph': 'John Matheson, a home inspector in Alameda, Calif., kept busy during the pandemic when the housing market was red hot. But as interest rates started to rise about halfway through 2022, he noticed that his workload began to drop. Last year, the number of jobs plummeted.', 'print_section': 'B', 'print_page': '1', 'source': 'The New York Times', 'multimedia': [{'rank': 0, 'subtype': 'xlarge', 'caption': None, 'credit': None, 'type': 'image', 'url': 'images/2023/12/30/multimedia/00housing-spillover-01-gplb/00housing-spillover-01-gplb-articleLarge.jpg', 'height': 399, 'width': 600, 'subType': 'xlarge', 'crop_name': 'articleLarge', 'legacy': {'xlarge': 'images/2023/12/30/multimedia/00housing-spillover-01-gplb/00housing-spillover-01-gplb-articleLarge.jpg', 'xlargewidth': 600, 'xlargeheight': 399}}, {'rank': 0, 'subtype': 'jumbo', 'caption': None, 'credit': None, 'type': 'image', 'url': 'images/2023/12/30/multimedia/00housing-spillover-01-gplb/00housing-spillover-01-gplb-jumbo.jpg', 'height': 681, 'width': 1024, 'subType': 'jumbo', 'crop_name': 'jumbo', 'legacy': {}}, {'rank': 0, 'subtype': 'superJumbo', 'caption': None, 'credit': None, 'type': 'image', 'url': 'images/2023/12/30/multimedia/00housing-spillover-01-gplb/00housing-spillover-01-gplb-superJumbo.jpg', 'height': 1363, 'width': 2048, 'subType': 'superJumbo', 'crop_name': 'superJumbo', 'legacy': {}}, {'rank': 0, 'subtype': 'thumbnail', 'caption': None, 'credit': None, 'type': 'image', 'url': 'images/2023/12/30/multimedia/00housing-spillover-01-gplb/00housing-spillover-01-gplb-thumbStandard.jpg', 'height': 75, 'width': 75, 'subType': 'thumbnail', 'crop_name': 'thumbStandard', 'legacy': {'thumbnail': 'images/2023/12/30/multimedia/00housing-spillover-01-gplb/00housing-spillover-01-gplb-thumbStandard.jpg', 'thumbnailwidth': 75, 'thumbnailheight': 75}}, {'rank': 0, 'subtype': 'thumbLarge', 'caption': None, 'credit': None, 'type': 'image', 'url': 'images/2023/12/30/multimedia/00housing-spillover-01-gplb/00housing-spillover-01-gplb-thumbLarge.jpg', 'height': 150, 'width': 150, 'subType': 'thumbLarge', 'crop_name': 'thumbLarge', 'legacy': {}}], 'headline': {'main': 'Chill in the Housing Market Seeps Into Other Industries', 'kicker': 'Square Feet', 'content_kicker': None, 'print_headline': 'Chill in the Housing Market Seeps Into Other Industries', 'name': None, 'seo': None, 'sub': None}, 'keywords': [{'name': 'subject', 'value': 'Real Estate and Housing (Residential)', 'rank': 1, 'major': 'N'}, {'name': 'subject', 'value': 'Interest Rates', 'rank': 2, 'major': 'N'}, {'name': 'subject', 'value': 'Real Estate Brokers', 'rank': 3, 'major': 'N'}, {'name': 'subject', 'value': 'Storage', 'rank': 4, 'major': 'N'}, {'name': 'subject', 'value': 'Home Repairs and Improvements', 'rank': 5, 'major': 'N'}, {'name': 'subject', 'value': 'Shopping and Retail', 'rank': 6, 'major': 'N'}, {'name': 'subject', 'value': 'Real Estate (Commercial)', 'rank': 7, 'major': 'N'}, {'name': 'subject', 'value': 'United States Economy', 'rank': 8, 'major': 'N'}], 'pub_date': '2024-01-01T10:00:40+0000', 'document_type': 'article', 'news_desk': 'Business', 'section_name': 'Business Day', 'byline': {'original': 'By Martha C. White', 'person': [{'firstname': 'Martha', 'middlename': 'C.', 'lastname': 'White', 'qualifier': None, 'title': None, 'role': 'reported', 'organization': '', 'rank': 1}], 'organization': None}, 'type_of_material': 'News', '_id': 'nyt://article/6c0a7bb1-77bb-58cd-a996-bde70f10ceb9', 'word_count': 1149, 'uri': 'nyt://article/6c0a7bb1-77bb-58cd-a996-bde70f10ceb9'}, {'abstract': 'Catch a mountain trout on a frozen South Korean river, witness a fiery pelting of devotees in Taiwan or find your cold-weather bliss in a Japanese snow maze.', 'web_url': 'https://www.nytimes.com/2024/01/01/travel/asia-winter-festivals.html', 'snippet': 'Catch a mountain trout on a frozen South Korean river, witness a fiery pelting of devotees in Taiwan or find your cold-weather bliss in a Japanese snow maze.', 'lead_paragraph': 'For many people, the joys of winter center on strapping on skis, snowshoes or skates and getting outdoors. Of course, that is no less true in many parts of Asia. But with climates ranging from the famously snowy Japanese island of Hokkaido to the tropical forests of Malaysia, the continent offers a wide variety of wintertime delights for travelers who are seeking something different from a day on the slopes. Fresh-caught mountain trout sashimi, anyone? Here are five festivals to check out this winter.', 'print_section': 'C', 'print_page': '8', 'source': 'The New York Times', 'multimedia': [{'rank': 0, 'subtype': 'xlarge', 'caption': None, 'credit': None, 'type': 'image', 'url': 'images/2023/12/27/multimedia/00asian-winter-festivals-handan-mtlp/00asian-winter-festivals-handan-mtlp-articleLarge.jpg', 'height': 400, 'width': 600, 'subType': 'xlarge', 'crop_name': 'articleLarge', 'legacy': {'xlarge': 'images/2023/12/27/multimedia/00asian-winter-festivals-handan-mtlp/00asian-winter-festivals-handan-mtlp-articleLarge.jpg', 'xlargewidth': 600, 'xlargeheight': 400}}, {'rank': 0, 'subtype': 'jumbo', 'caption': None, 'credit': None, 'type': 'image', 'url': 'images/2023/12/27/multimedia/00asian-winter-festivals-handan-mtlp/00asian-winter-festivals-handan-mtlp-jumbo.jpg', 'height': 683, 'width': 1024, 'subType': 'jumbo', 'crop_name': 'jumbo', 'legacy': {}}, {'rank': 0, 'subtype': 'superJumbo', 'caption': None, 'credit': None, 'type': 'image', 'url': 'images/2023/12/27/multimedia/00asian-winter-festivals-handan-mtlp/00asian-winter-festivals-handan-mtlp-superJumbo.jpg', 'height': 1365, 'width': 2048, 'subType': 'superJumbo', 'crop_name': 'superJumbo', 'legacy': {}}, {'rank': 0, 'subtype': 'thumbnail', 'caption': None, 'credit': None, 'type': 'image', 'url': 'images/2023/12/27/multimedia/00asian-winter-festivals-handan-mtlp/00asian-winter-festivals-handan-mtlp-thumbStandard.jpg', 'height': 75, 'width': 75, 'subType': 'thumbnail', 'crop_name': 'thumbStandard', 'legacy': {'thumbnail': 'images/2023/12/27/multimedia/00asian-winter-festivals-handan-mtlp/00asian-winter-festivals-handan-mtlp-thumbStandard.jpg', 'thumbnailwidth': 75, 'thumbnailheight': 75}}, {'rank': 0, 'subtype': 'thumbLarge', 'caption': None, 'credit': None, 'type': 'image', 'url': 'images/2023/12/27/multimedia/00asian-winter-festivals-handan-mtlp/00asian-winter-festivals-handan-mtlp-thumbLarge.jpg', 'height': 150, 'width': 150, 'subType': 'thumbLarge', 'crop_name': 'thumbLarge', 'legacy': {}}], 'headline': {'main': 'Firecrackers and Ice: 5 Must-See Festivals in Asia This Winter', 'kicker': None, 'content_kicker': None, 'print_headline': 'Fire, Ice and Hot Ramen Enliven Winter in Asia', 'name': None, 'seo': None, 'sub': None}, 'keywords': [{'name': 'subject', 'value': 'Lunar New Year', 'rank': 1, 'major': 'N'}, {'name': 'subject', 'value': 'Winter (Season)', 'rank': 2, 'major': 'N'}, {'name': 'subject', 'value': 'Travel and Vacations', 'rank': 3, 'major': 'N'}, {'name': 'subject', 'value': 'Ice', 'rank': 4, 'major': 'N'}, {'name': 'subject', 'value': 'Festivals', 'rank': 5, 'major': 'N'}, {'name': 'subject', 'value': 'Snow and Snowstorms', 'rank': 6, 'major': 'N'}, {'name': 'glocations', 'value': 'Kuala Lumpur (Malaysia)', 'rank': 7, 'major': 'N'}, {'name': 'glocations', 'value': 'Nara (Japan)', 'rank': 8, 'major': 'N'}, {'name': 'glocations', 'value': 'Sapporo (Japan)', 'rank': 9, 'major': 'N'}, {'name': 'glocations', 'value': 'Taiwan', 'rank': 10, 'major': 'N'}, {'name': 'glocations', 'value': 'South Korea', 'rank': 11, 'major': 'N'}, {'name': 'subject', 'value': 'Pilgrimages', 'rank': 12, 'major': 'N'}], 'pub_date': '2024-01-01T10:00:56+0000', 'document_type': 'article', 'news_desk': 'Travel', 'section_name': 'Travel', 'byline': {'original': '', 'person': [], 'organization': None}, 'type_of_material': 'News', '_id': 'nyt://article/c94f3754-54bf-5693-92bc-b979436b094e', 'word_count': 1730, 'uri': 'nyt://article/c94f3754-54bf-5693-92bc-b979436b094e'}, {'abstract': 'Here are 12 guesses.', 'web_url': 'https://www.nytimes.com/2024/01/01/style/trends-2024-predictions-travis-kelce-generation-alpha.html', 'snippet': 'Here are 12 guesses.', 'lead_paragraph': 'A new year brings new beginnings. For the Styles Desk, it also comes with an old pastime: Predicting the fashion and lifestyle trends that may bubble up in the months ahead.', 'print_section': 'D', 'print_page': '5', 'source': 'The New York Times', 'multimedia': [{'rank': 0, 'subtype': 'xlarge', 'caption': None, 'credit': None, 'type': 'image', 'url': 'images/2023/01/01/multimedia/012024-PREDICTIONS-pvwk/012024-PREDICTIONS-pvwk-articleLarge.jpg', 'height': 818, 'width': 600, 'subType': 'xlarge', 'crop_name': 'articleLarge', 'legacy': {'xlarge': 'images/2023/01/01/multimedia/012024-PREDICTIONS-pvwk/012024-PREDICTIONS-pvwk-articleLarge.jpg', 'xlargewidth': 600, 'xlargeheight': 818}}, {'rank': 0, 'subtype': 'jumbo', 'caption': None, 'credit': None, 'type': 'image', 'url': 'images/2023/01/01/multimedia/012024-PREDICTIONS-pvwk/012024-PREDICTIONS-pvwk-jumbo.jpg', 'height': 1024, 'width': 751, 'subType': 'jumbo', 'crop_name': 'jumbo', 'legacy': {}}, {'rank': 0, 'subtype': 'superJumbo', 'caption': None, 'credit': None, 'type': 'image', 'url': 'images/2023/01/01/multimedia/012024-PREDICTIONS-pvwk/012024-PREDICTIONS-pvwk-superJumbo.jpg', 'height': 2048, 'width': 1502, 'subType': 'superJumbo', 'crop_name': 'superJumbo', 'legacy': {}}, {'rank': 0, 'subtype': 'thumbnail', 'caption': None, 'credit': None, 'type': 'image', 'url': 'images/2023/01/01/multimedia/012024-PREDICTIONS-pvwk/012024-PREDICTIONS-pvwk-thumbStandard.jpg', 'height': 75, 'width': 75, 'subType': 'thumbnail', 'crop_name': 'thumbStandard', 'legacy': {'thumbnail': 'images/2023/01/01/multimedia/012024-PREDICTIONS-pvwk/012024-PREDICTIONS-pvwk-thumbStandard.jpg', 'thumbnailwidth': 75, 'thumbnailheight': 75}}, {'rank': 0, 'subtype': 'thumbLarge', 'caption': None, 'credit': None, 'type': 'image', 'url': 'images/2023/01/01/multimedia/012024-PREDICTIONS-pvwk/012024-PREDICTIONS-pvwk-thumbLarge.jpg', 'height': 150, 'width': 150, 'subType': 'thumbLarge', 'crop_name': 'thumbLarge', 'legacy': {}}], 'headline': {'main': 'What Will Life Be Like in 2024?', 'kicker': None, 'content_kicker': None, 'print_headline': 'Fearless Predictions, We’ve Got a Few', 'name': None, 'seo': None, 'sub': None}, 'keywords': [{'name': 'subject', 'value': 'Two Thousand Twenty Four', 'rank': 1, 'major': 'N'}, {'name': 'subject', 'value': 'Fashion and Apparel', 'rank': 2, 'major': 'N'}, {'name': 'subject', 'value': 'Generation Z', 'rank': 3, 'major': 'N'}, {'name': 'subject', 'value': 'Social Media', 'rank': 4, 'major': 'N'}, {'name': 'subject', 'value': 'Bars and Nightclubs', 'rank': 5, 'major': 'N'}, {'name': 'subject', 'value': 'Wearable Computing', 'rank': 6, 'major': 'N'}, {'name': 'subject', 'value': 'Nails (Body Part)', 'rank': 7, 'major': 'N'}, {'name': 'subject', 'value': 'Beverages', 'rank': 8, 'major': 'N'}], 'pub_date': '2024-01-01T10:01:01+0000', 'document_type': 'article', 'news_desk': 'Styles', 'section_name': 'Style', 'byline': {'original': 'By The Styles Desk', 'person': [], 'organization': 'The Styles Desk'}, 'type_of_material': 'News', '_id': 'nyt://article/745a183d-6564-5a71-9944-8aa6612383fb', 'word_count': 1218, 'uri': 'nyt://article/745a183d-6564-5a71-9944-8aa6612383fb'}, {'abstract': '“Mad Max” gets a prequel, “The Wiz” returns to Broadway and Larry David gets another crack at a series finale.', 'web_url': 'https://www.nytimes.com/2024/01/01/arts/tv-movies-music-picks-2024.html', 'snippet': '“Mad Max” gets a prequel, “The Wiz” returns to Broadway and Larry David gets another crack at a series finale.', 'lead_paragraph': 'Early in 1969, the Metropolitan Museum sparked an uproar with an exhibition called “Harlem on My Mind: Cultural Capital of Black America, 1900-1968.” Although conceived as the museum’s first big-ticket acknowledgment of African American creativity, it included no visual art beyond documentary photomurals. Black artists, many working in Harlem just blocks north of the museum, angrily picketed the show, denouncing it as evidence of art world racism writ large.', 'print_section': 'C', 'print_page': '5', 'source': 'The New York Times', 'multimedia': [{'rank': 0, 'subtype': 'xlarge', 'caption': None, 'credit': None, 'type': 'image', 'url': 'images/2024/01/02/arts/lookforward-art/lookforward-art-articleLarge.jpg', 'height': 450, 'width': 600, 'subType': 'xlarge', 'crop_name': 'articleLarge', 'legacy': {'xlarge': 'images/2024/01/02/arts/lookforward-art/lookforward-art-articleLarge.jpg', 'xlargewidth': 600, 'xlargeheight': 450}}, {'rank': 0, 'subtype': 'jumbo', 'caption': None, 'credit': None, 'type': 'image', 'url': 'images/2024/01/02/arts/lookforward-art/lookforward-art-jumbo.jpg', 'height': 768, 'width': 1024, 'subType': 'jumbo', 'crop_name': 'jumbo', 'legacy': {}}, {'rank': 0, 'subtype': 'superJumbo', 'caption': None, 'credit': None, 'type': 'image', 'url': 'images/2024/01/02/arts/lookforward-art/lookforward-art-superJumbo.jpg', 'height': 1536, 'width': 2048, 'subType': 'superJumbo', 'crop_name': 'superJumbo', 'legacy': {}}, {'rank': 0, 'subtype': 'thumbnail', 'caption': None, 'credit': None, 'type': 'image', 'url': 'images/2024/01/02/arts/lookforward-art/lookforward-art-thumbStandard.jpg', 'height': 75, 'width': 75, 'subType': 'thumbnail', 'crop_name': 'thumbStandard', 'legacy': {'thumbnail': 'images/2024/01/02/arts/lookforward-art/lookforward-art-thumbStandard.jpg', 'thumbnailwidth': 75, 'thumbnailheight': 75}}, {'rank': 0, 'subtype': 'thumbLarge', 'caption': None, 'credit': None, 'type': 'image', 'url': 'images/2024/01/02/arts/lookforward-art/lookforward-art-thumbLarge.jpg', 'height': 150, 'width': 150, 'subType': 'thumbLarge', 'crop_name': 'thumbLarge', 'legacy': {}}], 'headline': {'main': 'What Our Critics Are Looking Forward to in 2024', 'kicker': None, 'content_kicker': None, 'print_headline': 'What We’ll Be Watching This Year', 'name': None, 'seo': None, 'sub': None}, 'keywords': [{'name': 'subject', 'value': 'Culture (Arts)', 'rank': 1, 'major': 'N'}, {'name': 'subject', 'value': 'Two Thousand Twenty Four', 'rank': 2, 'major': 'N'}, {'name': 'subject', 'value': 'Opera', 'rank': 3, 'major': 'N'}, {'name': 'subject', 'value': 'Theater', 'rank': 4, 'major': 'N'}, {'name': 'subject', 'value': 'Movies', 'rank': 5, 'major': 'N'}, {'name': 'subject', 'value': 'Art', 'rank': 6, 'major': 'N'}], 'pub_date': '2024-01-01T10:01:01+0000', 'document_type': 'article', 'news_desk': 'Culture', 'section_name': 'Arts', 'byline': {'original': 'By Holland Cotter, Alissa Wilkinson, Mike Hale, Salamishah Tillet, Jesse Green, Maya Phillips, Jason Zinoman, Margaret Lyons, Zachary Woolfe and Jon Pareles', 'person': [{'firstname': 'Holland', 'middlename': None, 'lastname': 'Cotter', 'qualifier': None, 'title': None, 'role': 'reported', 'organization': '', 'rank': 1}, {'firstname': 'Alissa', 'middlename': None, 'lastname': 'Wilkinson', 'qualifier': None, 'title': None, 'role': 'reported', 'organization': '', 'rank': 2}, {'firstname': 'Mike', 'middlename': None, 'lastname': 'Hale', 'qualifier': None, 'title': None, 'role': 'reported', 'organization': '', 'rank': 3}, {'firstname': 'Salamishah', 'middlename': None, 'lastname': 'Tillet', 'qualifier': None, 'title': None, 'role': 'reported', 'organization': '', 'rank': 4}, {'firstname': 'Jesse', 'middlename': None, 'lastname': 'Green', 'qualifier': None, 'title': None, 'role': 'reported', 'organization': '', 'rank': 5}, {'firstname': 'Maya', 'middlename': None, 'lastname': 'Phillips', 'qualifier': None, 'title': None, 'role': 'reported', 'organization': '', 'rank': 6}, {'firstname': 'Jason', 'middlename': None, 'lastname': 'Zinoman', 'qualifier': None, 'title': None, 'role': 'reported', 'organization': '', 'rank': 7}, {'firstname': 'Margaret', 'middlename': None, 'lastname': 'Lyons', 'qualifier': None, 'title': None, 'role': 'reported', 'organization': '', 'rank': 8}, {'firstname': 'Zachary', 'middlename': None, 'lastname': 'Woolfe', 'qualifier': None, 'title': None, 'role': 'reported', 'organization': '', 'rank': 9}, {'firstname': 'Jon', 'middlename': None, 'lastname': 'Pareles', 'qualifier': None, 'title': None, 'role': 'reported', 'organization': '', 'rank': 10}], 'organization': None}, 'type_of_material': 'News', '_id': 'nyt://article/81822daa-8e4c-5833-976f-5606db81cbcb', 'word_count': 1709, 'uri': 'nyt://article/81822daa-8e4c-5833-976f-5606db81cbcb'}, {'abstract': 'Whether you want to eat less meat, bake more crowd-pleasing desserts or (finally) learn how to cook, here are some first steps for the new year.', 'web_url': 'https://www.nytimes.com/2024/01/01/dining/new-years-resolution-recipes.html', 'snippet': 'Whether you want to eat less meat, bake more crowd-pleasing desserts or (finally) learn how to cook, here are some first steps for the new year.', 'lead_paragraph': 'If abiding by resolutions were as easy as setting them, perfection would be attainable and the self-improvement section of the bookstore would be cobweb city. Still, self-reflection can be a rewarding exercise at the beginning of a new year. What better place to start than in the kitchen, where you have to spend at least a little bit of time each day?', 'print_section': 'D', 'print_page': '4', 'source': 'The New York Times', 'multimedia': [{'rank': 0, 'subtype': 'xlarge', 'caption': None, 'credit': None, 'type': 'image', 'url': 'images/2024/01/03/multimedia/01RESOLUTION-recipes2-flqw/01RESOLUTION-recipes2-flqw-articleLarge.jpg', 'height': 400, 'width': 600, 'subType': 'xlarge', 'crop_name': 'articleLarge', 'legacy': {'xlarge': 'images/2024/01/03/multimedia/01RESOLUTION-recipes2-flqw/01RESOLUTION-recipes2-flqw-articleLarge.jpg', 'xlargewidth': 600, 'xlargeheight': 400}}, {'rank': 0, 'subtype': 'jumbo', 'caption': None, 'credit': None, 'type': 'image', 'url': 'images/2024/01/03/multimedia/01RESOLUTION-recipes2-flqw/01RESOLUTION-recipes2-flqw-jumbo.jpg', 'height': 683, 'width': 1024, 'subType': 'jumbo', 'crop_name': 'jumbo', 'legacy': {}}, {'rank': 0, 'subtype': 'superJumbo', 'caption': None, 'credit': None, 'type': 'image', 'url': 'images/2024/01/03/multimedia/01RESOLUTION-recipes2-flqw/01RESOLUTION-recipes2-flqw-superJumbo.jpg', 'height': 1365, 'width': 2048, 'subType': 'superJumbo', 'crop_name': 'superJumbo', 'legacy': {}}, {'rank': 0, 'subtype': 'thumbnail', 'caption': None, 'credit': None, 'type': 'image', 'url': 'images/2024/01/03/multimedia/01RESOLUTION-recipes2-flqw/01RESOLUTION-recipes2-flqw-thumbStandard.jpg', 'height': 75, 'width': 75, 'subType': 'thumbnail', 'crop_name': 'thumbStandard', 'legacy': {'thumbnail': 'images/2024/01/03/multimedia/01RESOLUTION-recipes2-flqw/01RESOLUTION-recipes2-flqw-thumbStandard.jpg', 'thumbnailwidth': 75, 'thumbnailheight': 75}}, {'rank': 0, 'subtype': 'thumbLarge', 'caption': None, 'credit': None, 'type': 'image', 'url': 'images/2024/01/03/multimedia/01RESOLUTION-recipes2-flqw/01RESOLUTION-recipes2-flqw-thumbLarge.jpg', 'height': 150, 'width': 150, 'subType': 'thumbLarge', 'crop_name': 'thumbLarge', 'legacy': {}}], 'headline': {'main': 'Making a Cooking Resolution? These 9 Recipes Will Get You Started.', 'kicker': None, 'content_kicker': None, 'print_headline': 'Turn Over a New Leaf  In the Kitchen', 'name': None, 'seo': None, 'sub': None}, 'keywords': [{'name': 'subject', 'value': 'Recipes', 'rank': 1, 'major': 'N'}, {'name': 'subject', 'value': 'New Year', 'rank': 2, 'major': 'N'}, {'name': 'subject', 'value': 'Cooking and Cookbooks', 'rank': 3, 'major': 'N'}, {'name': 'subject', 'value': 'Content Type: Service', 'rank': 4, 'major': 'N'}, {'name': 'subject', 'value': 'Vegetarianism', 'rank': 5, 'major': 'N'}], 'pub_date': '2024-01-01T10:01:01+0000', 'document_type': 'article', 'news_desk': 'Dining', 'section_name': 'Food', 'byline': {'original': 'By Tanya Sichynsky', 'person': [{'firstname': 'Tanya', 'middlename': None, 'lastname': 'Sichynsky', 'qualifier': None, 'title': None, 'role': 'reported', 'organization': '', 'rank': 1}], 'organization': None}, 'type_of_material': 'News', '_id': 'nyt://article/d76f6363-696a-50a9-88c0-de9b6157f018', 'word_count': 1005, 'uri': 'nyt://article/d76f6363-696a-50a9-88c0-de9b6157f018'}, {'abstract': 'She’s 18. He’s 23. He sent her a one-sentence letter through his prison’s electronic mail system: “Will you marry me?” They wed in a small room in a Moscow jail.', 'web_url': 'https://www.nytimes.com/2024/01/01/world/europe/russia-prison-wedding-repression.html', 'snippet': 'She’s 18. He’s 23. He sent her a one-sentence letter through his prison’s electronic mail system: “Will you marry me?” They wed in a small room in a Moscow jail.', 'lead_paragraph': 'Nadezhda Shtovba did not wear a white dress to her wedding. There were no bridesmaids or groomsmen. She and her husband, Yegor, did not exchange wedding bands either — rings are banned in Butyrka prison.', 'print_section': 'A', 'print_page': '4', 'source': 'The New York Times', 'multimedia': [{'rank': 0, 'subtype': 'xlarge', 'caption': None, 'credit': None, 'type': 'image', 'url': 'images/2023/01/01/multimedia/01moscow-prison-wedding-01-wlzg/01moscow-prison-wedding-01-wlzg-articleLarge.jpg', 'height': 400, 'width': 600, 'subType': 'xlarge', 'crop_name': 'articleLarge', 'legacy': {'xlarge': 'images/2023/01/01/multimedia/01moscow-prison-wedding-01-wlzg/01moscow-prison-wedding-01-wlzg-articleLarge.jpg', 'xlargewidth': 600, 'xlargeheight': 400}}, {'rank': 0, 'subtype': 'jumbo', 'caption': None, 'credit': None, 'type': 'image', 'url': 'images/2023/01/01/multimedia/01moscow-prison-wedding-01-wlzg/01moscow-prison-wedding-01-wlzg-jumbo.jpg', 'height': 683, 'width': 1024, 'subType': 'jumbo', 'crop_name': 'jumbo', 'legacy': {}}, {'rank': 0, 'subtype': 'superJumbo', 'caption': None, 'credit': None, 'type': 'image', 'url': 'images/2023/01/01/multimedia/01moscow-prison-wedding-01-wlzg/01moscow-prison-wedding-01-wlzg-superJumbo.jpg', 'height': 1365, 'width': 2048, 'subType': 'superJumbo', 'crop_name': 'superJumbo', 'legacy': {}}, {'rank': 0, 'subtype': 'thumbnail', 'caption': None, 'credit': None, 'type': 'image', 'url': 'images/2023/01/01/multimedia/01moscow-prison-wedding-01-wlzg/01moscow-prison-wedding-01-wlzg-thumbStandard-v2.jpg', 'height': 75, 'width': 75, 'subType': 'thumbnail', 'crop_name': 'thumbStandard', 'legacy': {'thumbnail': 'images/2023/01/01/multimedia/01moscow-prison-wedding-01-wlzg/01moscow-prison-wedding-01-wlzg-thumbStandard-v2.jpg', 'thumbnailwidth': 75, 'thumbnailheight': 75}}, {'rank': 0, 'subtype': 'thumbLarge', 'caption': None, 'credit': None, 'type': 'image', 'url': 'images/2023/01/01/multimedia/01moscow-prison-wedding-01-wlzg/01moscow-prison-wedding-01-wlzg-thumbLarge-v2.jpg', 'height': 150, 'width': 150, 'subType': 'thumbLarge', 'crop_name': 'thumbLarge', 'legacy': {}}], 'headline': {'main': 'Young Love Meets Russian Repression. They Said ‘I Do’ in a Moscow Prison', 'kicker': None, 'content_kicker': None, 'print_headline': 'Young Love, Russian Repression and Saying ‘I Do’ in a Moscow Jail', 'name': None, 'seo': None, 'sub': None}, 'keywords': [{'name': 'subject', 'value': 'Weddings and Engagements', 'rank': 1, 'major': 'N'}, {'name': 'subject', 'value': 'Prisons and Prisoners', 'rank': 2, 'major': 'N'}, {'name': 'subject', 'value': 'Human Rights and Human Rights Violations', 'rank': 3, 'major': 'N'}, {'name': 'subject', 'value': 'Freedom of Speech and Expression', 'rank': 4, 'major': 'N'}, {'name': 'subject', 'value': 'Political Prisoners', 'rank': 5, 'major': 'N'}, {'name': 'subject', 'value': 'Russian Invasion of Ukraine (2022)', 'rank': 6, 'major': 'N'}], 'pub_date': '2024-01-01T10:01:10+0000', 'document_type': 'article', 'news_desk': 'Foreign', 'section_name': 'World', 'subsection_name': 'Europe', 'byline': {'original': 'By Valerie Hopkins', 'person': [{'firstname': 'Valerie', 'middlename': None, 'lastname': 'Hopkins', 'qualifier': None, 'title': None, 'role': 'reported', 'organization': '', 'rank': 1}], 'organization': None}, 'type_of_material': 'News', '_id': 'nyt://article/c0dfadaf-d978-5bed-b1ec-d5694fcff43f', 'word_count': 1478, 'uri': 'nyt://article/c0dfadaf-d978-5bed-b1ec-d5694fcff43f'}, {'abstract': 'A Tudor Revival cottage in Carmel, an equestrian compound in the San Fernando Valley once owned by Patrick Swayze and a waterfront house in Huntington Beach.', 'web_url': 'https://www.nytimes.com/2024/01/01/realestate/4-million-dollar-homes-california.html', 'snippet': 'A Tudor Revival cottage in Carmel, an equestrian compound in the San Fernando Valley once owned by Patrick Swayze and a waterfront house in Huntington Beach.', 'lead_paragraph': 'This home, which received a Carmel Heritage Award in 2004, was built to resemble the older storybook cottages for which the city is known. It is a few blocks from Carmel Plaza, an outdoor dining and shopping hub, and within walking distance of a number of restaurants.', 'source': 'The New York Times', 'multimedia': [{'rank': 0, 'subtype': 'xlarge', 'caption': None, 'credit': None, 'type': 'image', 'url': 'images/2024/01/01/realestate/01WYG-CA-carmel-02/01WYG-CA-carmel-02-articleLarge.jpg', 'height': 400, 'width': 600, 'subType': 'xlarge', 'crop_name': 'articleLarge', 'legacy': {'xlarge': 'images/2024/01/01/realestate/01WYG-CA-carmel-02/01WYG-CA-carmel-02-articleLarge.jpg', 'xlargewidth': 600, 'xlargeheight': 400}}, {'rank': 0, 'subtype': 'jumbo', 'caption': None, 'credit': None, 'type': 'image', 'url': 'images/2024/01/01/realestate/01WYG-CA-carmel-02/01WYG-CA-carmel-02-jumbo.jpg', 'height': 682, 'width': 1024, 'subType': 'jumbo', 'crop_name': 'jumbo', 'legacy': {}}, {'rank': 0, 'subtype': 'superJumbo', 'caption': None, 'credit': None, 'type': 'image', 'url': 'images/2024/01/01/realestate/01WYG-CA-carmel-02/01WYG-CA-carmel-02-superJumbo.jpg', 'height': 1365, 'width': 2048, 'subType': 'superJumbo', 'crop_name': 'superJumbo', 'legacy': {}}, {'rank': 0, 'subtype': 'thumbnail', 'caption': None, 'credit': None, 'type': 'image', 'url': 'images/2024/01/01/realestate/01WYG-CA-carmel-02/01WYG-CA-carmel-02-thumbStandard.jpg', 'height': 75, 'width': 75, 'subType': 'thumbnail', 'crop_name': 'thumbStandard', 'legacy': {'thumbnail': 'images/2024/01/01/realestate/01WYG-CA-carmel-02/01WYG-CA-carmel-02-thumbStandard.jpg', 'thumbnailwidth': 75, 'thumbnailheight': 75}}, {'rank': 0, 'subtype': 'thumbLarge', 'caption': None, 'credit': None, 'type': 'image', 'url': 'images/2024/01/01/realestate/01WYG-CA-carmel-02/01WYG-CA-carmel-02-thumbLarge.jpg', 'height': 150, 'width': 150, 'subType': 'thumbLarge', 'crop_name': 'thumbLarge', 'legacy': {}}], 'headline': {'main': '$4.5 Million Homes in California', 'kicker': 'What You Get', 'content_kicker': None, 'print_headline': '', 'name': None, 'seo': None, 'sub': None}, 'keywords': [{'name': 'subject', 'value': 'Real Estate and Housing (Residential)', 'rank': 1, 'major': 'N'}, {'name': 'glocations', 'value': 'Carmel (Calif)', 'rank': 2, 'major': 'N'}, {'name': 'glocations', 'value': 'Huntington Beach (Calif)', 'rank': 3, 'major': 'N'}, {'name': 'glocations', 'value': 'San Fernando Valley (Calif)', 'rank': 4, 'major': 'N'}], 'pub_date': '2024-01-01T10:01:36+0000', 'document_type': 'article', 'news_desk': 'RealEstate', 'section_name': 'Real Estate', 'byline': {'original': 'By Angela Serratore', 'person': [{'firstname': 'Angela', 'middlename': None, 'lastname': 'Serratore', 'qualifier': None, 'title': None, 'role': 'reported', 'organization': '', 'rank': 1}], 'organization': None}, 'type_of_material': 'News', '_id': 'nyt://article/9dc48e6f-4748-555c-9f61-2d28820582da', 'word_count': 1220, 'uri': 'nyt://article/9dc48e6f-4748-555c-9f61-2d28820582da'}, {'abstract': 'When you talk to students about social media radicalization, racism and bullying, you learn how desperate they are for some guidance.', 'web_url': 'https://www.nytimes.com/2024/01/01/us/racism-bullying-school.html', 'snippet': 'When you talk to students about social media radicalization, racism and bullying, you learn how desperate they are for some guidance.', 'lead_paragraph': 'The sixth-grade boy who raised his hand was wiry and small. “People at my school make racist jokes,” he said, when I called on him. His voice had yet to change. “How do I get them to stop?”', 'source': 'The New York Times', 'multimedia': [{'rank': 0, 'subtype': 'xlarge', 'caption': None, 'credit': None, 'type': 'image', 'url': 'images/2023/12/28/magazine/28mag-greatreadupdate-illo/28mag-greatreadupdate-illo-articleLarge.jpg', 'height': 450, 'width': 600, 'subType': 'xlarge', 'crop_name': 'articleLarge', 'legacy': {'xlarge': 'images/2023/12/28/magazine/28mag-greatreadupdate-illo/28mag-greatreadupdate-illo-articleLarge.jpg', 'xlargewidth': 600, 'xlargeheight': 450}}, {'rank': 0, 'subtype': 'jumbo', 'caption': None, 'credit': None, 'type': 'image', 'url': 'images/2023/12/28/magazine/28mag-greatreadupdate-illo/28mag-greatreadupdate-illo-jumbo.jpg', 'height': 768, 'width': 1024, 'subType': 'jumbo', 'crop_name': 'jumbo', 'legacy': {}}, {'rank': 0, 'subtype': 'superJumbo', 'caption': None, 'credit': None, 'type': 'image', 'url': 'images/2023/12/28/magazine/28mag-greatreadupdate-illo/28mag-greatreadupdate-illo-superJumbo.jpg', 'height': 1536, 'width': 2048, 'subType': 'superJumbo', 'crop_name': 'superJumbo', 'legacy': {}}, {'rank': 0, 'subtype': 'thumbnail', 'caption': None, 'credit': None, 'type': 'image', 'url': 'images/2023/12/28/magazine/28mag-greatreadupdate-illo/28mag-greatreadupdate-illo-thumbStandard.jpg', 'height': 75, 'width': 75, 'subType': 'thumbnail', 'crop_name': 'thumbStandard', 'legacy': {'thumbnail': 'images/2023/12/28/magazine/28mag-greatreadupdate-illo/28mag-greatreadupdate-illo-thumbStandard.jpg', 'thumbnailwidth': 75, 'thumbnailheight': 75}}, {'rank': 0, 'subtype': 'thumbLarge', 'caption': None, 'credit': None, 'type': 'image', 'url': 'images/2023/12/28/magazine/28mag-greatreadupdate-illo/28mag-greatreadupdate-illo-thumbLarge.jpg', 'height': 150, 'width': 150, 'subType': 'thumbLarge', 'crop_name': 'thumbLarge', 'legacy': {}}], 'headline': {'main': 'How Do You Respond to a Young Person Upset by Racist Jokes at School?', 'kicker': None, 'content_kicker': None, 'print_headline': '', 'name': None, 'seo': None, 'sub': None}, 'keywords': [{'name': 'subject', 'value': 'internal-sub-only', 'rank': 1, 'major': 'N'}, {'name': 'subject', 'value': 'internal-great-read', 'rank': 2, 'major': 'N'}, {'name': 'subject', 'value': 'Social Media', 'rank': 3, 'major': 'N'}, {'name': 'subject', 'value': 'Cyberharassment', 'rank': 4, 'major': 'N'}, {'name': 'subject', 'value': 'Discrimination', 'rank': 5, 'major': 'N'}, {'name': 'subject', 'value': 'Race and Ethnicity', 'rank': 6, 'major': 'N'}, {'name': 'subject', 'value': 'Bullies', 'rank': 7, 'major': 'N'}, {'name': 'subject', 'value': 'Education (K-12)', 'rank': 8, 'major': 'N'}, {'name': 'subject', 'value': 'Children and Childhood', 'rank': 9, 'major': 'N'}, {'name': 'subject', 'value': 'Teenagers and Adolescence', 'rank': 10, 'major': 'N'}], 'pub_date': '2024-01-01T10:01:38+0000', 'document_type': 'article', 'news_desk': 'National', 'section_name': 'U.S.', 'byline': {'original': 'By Dashka Slater', 'person': [{'firstname': 'Dashka', 'middlename': None, 'lastname': 'Slater', 'qualifier': None, 'title': None, 'role': 'reported', 'organization': '', 'rank': 1}], 'organization': None}, 'type_of_material': 'News', '_id': 'nyt://article/6a3aa056-cc86-5bab-a915-ef52d156edaa', 'word_count': 923, 'uri': 'nyt://article/6a3aa056-cc86-5bab-a915-ef52d156edaa'}, {'abstract': 'The key moment in the smash hit went through many revisions: “We ended in tears. It ended in laughter, it got big, it got small.”', 'web_url': 'https://www.nytimes.com/2024/01/01/movies/america-ferrera-barbie.html', 'snippet': 'The key moment in the smash hit went through many revisions: “We ended in tears. It ended in laughter, it got big, it got small.”', 'lead_paragraph': 'Listing some of the many perils of womanhood in a still patriarchal society, the monologue that the actress America Ferrera delivers in “Barbie” with the intensity of a rallying cry became one of the most talked-about movie moments of 2023.', 'print_section': 'AR', 'print_page': '6', 'source': 'The New York Times', 'multimedia': [{'rank': 0, 'subtype': 'xlarge', 'caption': None, 'credit': None, 'type': 'image', 'url': 'images/2024/01/07/multimedia/07AMERICA-FERRERA-01-wgbf/07AMERICA-FERRERA-01-wgbf-articleLarge.jpg', 'height': 750, 'width': 600, 'subType': 'xlarge', 'crop_name': 'articleLarge', 'legacy': {'xlarge': 'images/2024/01/07/multimedia/07AMERICA-FERRERA-01-wgbf/07AMERICA-FERRERA-01-wgbf-articleLarge.jpg', 'xlargewidth': 600, 'xlargeheight': 750}}, {'rank': 0, 'subtype': 'jumbo', 'caption': None, 'credit': None, 'type': 'image', 'url': 'images/2024/01/07/multimedia/07AMERICA-FERRERA-01-wgbf/07AMERICA-FERRERA-01-wgbf-jumbo.jpg', 'height': 1024, 'width': 820, 'subType': 'jumbo', 'crop_name': 'jumbo', 'legacy': {}}, {'rank': 0, 'subtype': 'superJumbo', 'caption': None, 'credit': None, 'type': 'image', 'url': 'images/2024/01/07/multimedia/07AMERICA-FERRERA-01-wgbf/07AMERICA-FERRERA-01-wgbf-superJumbo.jpg', 'height': 2048, 'width': 1639, 'subType': 'superJumbo', 'crop_name': 'superJumbo', 'legacy': {}}, {'rank': 0, 'subtype': 'thumbnail', 'caption': None, 'credit': None, 'type': 'image', 'url': 'images/2024/01/07/multimedia/07AMERICA-FERRERA-01-wgbf/07AMERICA-FERRERA-01-wgbf-thumbStandard.jpg', 'height': 75, 'width': 75, 'subType': 'thumbnail', 'crop_name': 'thumbStandard', 'legacy': {'thumbnail': 'images/2024/01/07/multimedia/07AMERICA-FERRERA-01-wgbf/07AMERICA-FERRERA-01-wgbf-thumbStandard.jpg', 'thumbnailwidth': 75, 'thumbnailheight': 75}}, {'rank': 0, 'subtype': 'thumbLarge', 'caption': None, 'credit': None, 'type': 'image', 'url': 'images/2024/01/07/multimedia/07AMERICA-FERRERA-01-wgbf/07AMERICA-FERRERA-01-wgbf-thumbLarge.jpg', 'height': 150, 'width': 150, 'subType': 'thumbLarge', 'crop_name': 'thumbLarge', 'legacy': {}}], 'headline': {'main': 'America Ferrera and the ‘Barbie’ Monologue We All Talked About', 'kicker': None, 'content_kicker': None, 'print_headline': 'One Big Speech in ‘Barbie’ Got So Many People Talking', 'name': None, 'seo': None, 'sub': None}, 'keywords': [{'name': 'subject', 'value': 'Movies', 'rank': 1, 'major': 'N'}, {'name': 'persons', 'value': 'Ferrera, America', 'rank': 2, 'major': 'N'}, {'name': 'creative_works', 'value': 'Barbie (Movie)', 'rank': 3, 'major': 'N'}, {'name': 'subject', 'value': 'Barbie (Doll)', 'rank': 4, 'major': 'N'}, {'name': 'subject', 'value': 'Content Type: Personal Profile', 'rank': 5, 'major': 'N'}, {'name': 'subject', 'value': 'Hispanic-Americans', 'rank': 6, 'major': 'N'}, {'name': 'subject', 'value': 'Actors and Actresses', 'rank': 7, 'major': 'N'}, {'name': 'persons', 'value': 'Gerwig, Greta', 'rank': 8, 'major': 'N'}, {'name': 'creative_works', 'value': 'Real Women Have Curves (Movie)', 'rank': 9, 'major': 'N'}, {'name': 'subject', 'value': \"Women's Rights\", 'rank': 10, 'major': 'N'}, {'name': 'subject', 'value': 'Women and Girls', 'rank': 11, 'major': 'N'}], 'pub_date': '2024-01-01T10:01:58+0000', 'document_type': 'article', 'news_desk': 'Arts&Leisure', 'section_name': 'Movies', 'byline': {'original': 'By Carlos Aguilar', 'person': [{'firstname': 'Carlos', 'middlename': None, 'lastname': 'Aguilar', 'qualifier': None, 'title': None, 'role': 'reported', 'organization': '', 'rank': 1}], 'organization': None}, 'type_of_material': 'News', '_id': 'nyt://article/83b938e9-c8ab-5927-9ada-fbe7295b315b', 'word_count': 1754, 'uri': 'nyt://article/83b938e9-c8ab-5927-9ada-fbe7295b315b'}, {'abstract': 'As the brilliant but flawed Kitty Oppenheimer, the actress plays a woman who had “extraordinary qualities, as well as ones that really let her down as a person.”', 'web_url': 'https://www.nytimes.com/2024/01/01/movies/emily-blunt-oppenheimer.html', 'snippet': 'As the brilliant but flawed Kitty Oppenheimer, the actress plays a woman who had “extraordinary qualities, as well as ones that really let her down as a person.”', 'lead_paragraph': 'In “Oppenheimer,” the writer and director Christopher Nolan’s summer blockbuster biopic — three words that generally don’t go together — the character of Kitty Oppenheimer is effaced twice over.', 'print_section': 'AR', 'print_page': '6', 'source': 'The New York Times', 'multimedia': [{'rank': 0, 'subtype': 'xlarge', 'caption': None, 'credit': None, 'type': 'image', 'url': 'images/2024/01/07/multimedia/07EMILY-BLUNT-01-bvqg/07EMILY-BLUNT-01-bvqg-articleLarge.jpg', 'height': 752, 'width': 600, 'subType': 'xlarge', 'crop_name': 'articleLarge', 'legacy': {'xlarge': 'images/2024/01/07/multimedia/07EMILY-BLUNT-01-bvqg/07EMILY-BLUNT-01-bvqg-articleLarge.jpg', 'xlargewidth': 600, 'xlargeheight': 752}}, {'rank': 0, 'subtype': 'jumbo', 'caption': None, 'credit': None, 'type': 'image', 'url': 'images/2024/01/07/multimedia/07EMILY-BLUNT-01-bvqg/07EMILY-BLUNT-01-bvqg-jumbo.jpg', 'height': 1024, 'width': 818, 'subType': 'jumbo', 'crop_name': 'jumbo', 'legacy': {}}, {'rank': 0, 'subtype': 'superJumbo', 'caption': None, 'credit': None, 'type': 'image', 'url': 'images/2024/01/07/multimedia/07EMILY-BLUNT-01-bvqg/07EMILY-BLUNT-01-bvqg-superJumbo.jpg', 'height': 2048, 'width': 1636, 'subType': 'superJumbo', 'crop_name': 'superJumbo', 'legacy': {}}, {'rank': 0, 'subtype': 'thumbnail', 'caption': None, 'credit': None, 'type': 'image', 'url': 'images/2024/01/07/multimedia/07EMILY-BLUNT-01-bvqg/07EMILY-BLUNT-01-bvqg-thumbStandard.jpg', 'height': 75, 'width': 75, 'subType': 'thumbnail', 'crop_name': 'thumbStandard', 'legacy': {'thumbnail': 'images/2024/01/07/multimedia/07EMILY-BLUNT-01-bvqg/07EMILY-BLUNT-01-bvqg-thumbStandard.jpg', 'thumbnailwidth': 75, 'thumbnailheight': 75}}, {'rank': 0, 'subtype': 'thumbLarge', 'caption': None, 'credit': None, 'type': 'image', 'url': 'images/2024/01/07/multimedia/07EMILY-BLUNT-01-bvqg/07EMILY-BLUNT-01-bvqg-thumbLarge.jpg', 'height': 150, 'width': 150, 'subType': 'thumbLarge', 'crop_name': 'thumbLarge', 'legacy': {}}], 'headline': {'main': 'Emily Blunt Doesn’t Care if Her ‘Oppenheimer’ Character Is Likable', 'kicker': None, 'content_kicker': None, 'print_headline': 'Admire the Performance, if Not the Flawed Character', 'name': None, 'seo': None, 'sub': None}, 'keywords': [{'name': 'subject', 'value': 'Content Type: Personal Profile', 'rank': 1, 'major': 'N'}, {'name': 'subject', 'value': 'Movies', 'rank': 2, 'major': 'N'}, {'name': 'subject', 'value': 'Actors and Actresses', 'rank': 3, 'major': 'N'}, {'name': 'persons', 'value': 'Blunt, Emily', 'rank': 4, 'major': 'N'}, {'name': 'creative_works', 'value': 'Oppenheimer (Movie)', 'rank': 5, 'major': 'N'}], 'pub_date': '2024-01-01T10:01:58+0000', 'document_type': 'article', 'news_desk': 'Arts&Leisure', 'section_name': 'Movies', 'byline': {'original': 'By Marc Tracy', 'person': [{'firstname': 'Marc', 'middlename': None, 'lastname': 'Tracy', 'qualifier': None, 'title': None, 'role': 'reported', 'organization': '', 'rank': 1}], 'organization': None}, 'type_of_material': 'News', '_id': 'nyt://article/f3cf8144-b862-5d7b-84fe-529d30d4b7a6', 'word_count': 996, 'uri': 'nyt://article/f3cf8144-b862-5d7b-84fe-529d30d4b7a6'}, {'abstract': 'This bracing anthology of Christopher Hitchens’s work for The London Review of Books is just the ticket.', 'web_url': 'https://www.nytimes.com/2024/01/01/books/review/hitch-in-time-christopher-hitchens.html', 'snippet': 'This bracing anthology of Christopher Hitchens’s work for The London Review of Books is just the ticket.', 'lead_paragraph': 'There was a period in the late 1990s or thereabouts when Christopher Hitchens’s byline was, or seemed to be, stamped in every respectable magazine and newspaper published in English. The Nation had his biweekly political columns. The London Review of Books and Newsday (where he wrote weekly) had the bulk of his book reviews. He loitered in Condé Nast Traveler and The New Statesman and the TLS and The Atlantic and The New York Times Book Review and Slate and The New York Review of Books as if they were dive bars. Vanity Fair, where he had a monthly column, had the good sense to simply point him at things. The American South, for example. Or his own Brazilian bikini waxing. And his own waterboarding.', 'print_section': 'BR', 'print_page': '8', 'source': 'The New York Times', 'multimedia': [{'rank': 0, 'subtype': 'xlarge', 'caption': None, 'credit': None, 'type': 'image', 'url': 'images/2024/01/21/multimedia/21HITCHENS-REVIEW-mpfh/01HITCHENS-REVIEW-mpfh-articleLarge.jpg', 'height': 909, 'width': 600, 'subType': 'xlarge', 'crop_name': 'articleLarge', 'legacy': {'xlarge': 'images/2024/01/21/multimedia/21HITCHENS-REVIEW-mpfh/01HITCHENS-REVIEW-mpfh-articleLarge.jpg', 'xlargewidth': 600, 'xlargeheight': 909}}, {'rank': 0, 'subtype': 'jumbo', 'caption': None, 'credit': None, 'type': 'image', 'url': 'images/2024/01/21/multimedia/21HITCHENS-REVIEW-mpfh/01HITCHENS-REVIEW-mpfh-jumbo.jpg', 'height': 1024, 'width': 676, 'subType': 'jumbo', 'crop_name': 'jumbo', 'legacy': {}}, {'rank': 0, 'subtype': 'superJumbo', 'caption': None, 'credit': None, 'type': 'image', 'url': 'images/2024/01/21/multimedia/21HITCHENS-REVIEW-mpfh/01HITCHENS-REVIEW-mpfh-superJumbo.jpg', 'height': 2048, 'width': 1352, 'subType': 'superJumbo', 'crop_name': 'superJumbo', 'legacy': {}}, {'rank': 0, 'subtype': 'thumbnail', 'caption': None, 'credit': None, 'type': 'image', 'url': 'images/2024/01/21/multimedia/21HITCHENS-REVIEW-mpfh/01HITCHENS-REVIEW-mpfh-thumbStandard.jpg', 'height': 75, 'width': 75, 'subType': 'thumbnail', 'crop_name': 'thumbStandard', 'legacy': {'thumbnail': 'images/2024/01/21/multimedia/21HITCHENS-REVIEW-mpfh/01HITCHENS-REVIEW-mpfh-thumbStandard.jpg', 'thumbnailwidth': 75, 'thumbnailheight': 75}}, {'rank': 0, 'subtype': 'thumbLarge', 'caption': None, 'credit': None, 'type': 'image', 'url': 'images/2024/01/21/multimedia/21HITCHENS-REVIEW-mpfh/01HITCHENS-REVIEW-mpfh-thumbLarge.jpg', 'height': 150, 'width': 150, 'subType': 'thumbLarge', 'crop_name': 'thumbLarge', 'legacy': {}}], 'headline': {'main': 'Want to Feel, Intellectually, Like Someone Is Rotating Your Tires?', 'kicker': 'Nonfiction', 'content_kicker': None, 'print_headline': 'Roastmaster', 'name': None, 'seo': None, 'sub': None}, 'keywords': [{'name': 'persons', 'value': 'Hitchens, Christopher', 'rank': 1, 'major': 'N'}, {'name': 'subject', 'value': 'Writing and Writers', 'rank': 2, 'major': 'N'}, {'name': 'subject', 'value': 'Content Type: Personal Profile', 'rank': 3, 'major': 'N'}, {'name': 'creative_works', 'value': 'A Hitch in Time: Reflections Ready for Reconsideration (Book)', 'rank': 4, 'major': 'N'}, {'name': 'subject', 'value': 'Books and Literature', 'rank': 5, 'major': 'N'}], 'pub_date': '2024-01-01T10:02:02+0000', 'document_type': 'article', 'news_desk': 'BookReview', 'section_name': 'Books', 'subsection_name': 'Book Review', 'byline': {'original': 'By Dwight Garner', 'person': [{'firstname': 'Dwight', 'middlename': None, 'lastname': 'Garner', 'qualifier': None, 'title': None, 'role': 'reported', 'organization': '', 'rank': 1}], 'organization': None}, 'type_of_material': 'Review', '_id': 'nyt://article/7c714fa4-591c-546c-8b01-4bd06f7db418', 'word_count': 953, 'uri': 'nyt://article/7c714fa4-591c-546c-8b01-4bd06f7db418'}, {'abstract': 'Trials, a Kennedy and the economy are among the variables to consider.', 'web_url': 'https://www.nytimes.com/2024/01/01/upshot/2024-election-trump-biden.html', 'snippet': 'Trials, a Kennedy and the economy are among the variables to consider.', 'lead_paragraph': 'It’s divisible by four. It’s a leap year. It’s a Summer Olympics year.', 'source': 'The New York Times', 'multimedia': [{'rank': 0, 'subtype': 'xlarge', 'caption': None, 'credit': None, 'type': 'image', 'url': 'images/2023/12/31/multimedia/00up-2024-art1-hfmq/00up-2024-art1-hfmq-articleLarge.jpg', 'height': 400, 'width': 600, 'subType': 'xlarge', 'crop_name': 'articleLarge', 'legacy': {'xlarge': 'images/2023/12/31/multimedia/00up-2024-art1-hfmq/00up-2024-art1-hfmq-articleLarge.jpg', 'xlargewidth': 600, 'xlargeheight': 400}}, {'rank': 0, 'subtype': 'jumbo', 'caption': None, 'credit': None, 'type': 'image', 'url': 'images/2023/12/31/multimedia/00up-2024-art1-hfmq/00up-2024-art1-hfmq-jumbo.jpg', 'height': 683, 'width': 1024, 'subType': 'jumbo', 'crop_name': 'jumbo', 'legacy': {}}, {'rank': 0, 'subtype': 'superJumbo', 'caption': None, 'credit': None, 'type': 'image', 'url': 'images/2023/12/31/multimedia/00up-2024-art1-hfmq/00up-2024-art1-hfmq-superJumbo.jpg', 'height': 1365, 'width': 2048, 'subType': 'superJumbo', 'crop_name': 'superJumbo', 'legacy': {}}, {'rank': 0, 'subtype': 'thumbnail', 'caption': None, 'credit': None, 'type': 'image', 'url': 'images/2023/12/31/multimedia/00up-2024-art1-hfmq/00up-2024-art1-hfmq-thumbStandard.jpg', 'height': 75, 'width': 75, 'subType': 'thumbnail', 'crop_name': 'thumbStandard', 'legacy': {'thumbnail': 'images/2023/12/31/multimedia/00up-2024-art1-hfmq/00up-2024-art1-hfmq-thumbStandard.jpg', 'thumbnailwidth': 75, 'thumbnailheight': 75}}, {'rank': 0, 'subtype': 'thumbLarge', 'caption': None, 'credit': None, 'type': 'image', 'url': 'images/2023/12/31/multimedia/00up-2024-art1-hfmq/00up-2024-art1-hfmq-thumbLarge.jpg', 'height': 150, 'width': 150, 'subType': 'thumbLarge', 'crop_name': 'thumbLarge', 'legacy': {}}], 'headline': {'main': 'Looking Ahead to 5 Things That Will Shape the 2024 Election', 'kicker': None, 'content_kicker': None, 'print_headline': '', 'name': None, 'seo': None, 'sub': None}, 'keywords': [{'name': 'subject', 'value': 'Presidential Election of 2024', 'rank': 1, 'major': 'N'}, {'name': 'subject', 'value': 'Polls and Public Opinion', 'rank': 2, 'major': 'N'}, {'name': 'subject', 'value': 'Primaries and Caucuses', 'rank': 3, 'major': 'N'}, {'name': 'subject', 'value': 'Decisions and Verdicts', 'rank': 4, 'major': 'N'}, {'name': 'subject', 'value': 'United States Politics and Government', 'rank': 5, 'major': 'N'}, {'name': 'subject', 'value': 'internal-sub-only-nl', 'rank': 6, 'major': 'N'}, {'name': 'persons', 'value': 'Trump, Donald J', 'rank': 7, 'major': 'N'}, {'name': 'persons', 'value': 'Biden, Joseph R Jr', 'rank': 8, 'major': 'N'}, {'name': 'persons', 'value': 'Kennedy, Robert F Jr', 'rank': 9, 'major': 'N'}], 'pub_date': '2024-01-01T10:02:07+0000', 'document_type': 'article', 'news_desk': 'Upshot', 'section_name': 'The Upshot', 'byline': {'original': 'By Nate Cohn', 'person': [{'firstname': 'Nate', 'middlename': None, 'lastname': 'Cohn', 'qualifier': None, 'title': None, 'role': 'reported', 'organization': '', 'rank': 1}], 'organization': None}, 'type_of_material': 'News', '_id': 'nyt://article/a8f56493-3967-5527-a01b-c6c68da6729a', 'word_count': 1705, 'uri': 'nyt://article/a8f56493-3967-5527-a01b-c6c68da6729a'}, {'abstract': 'The former president is leading by impressive margins in the state, but his campaign wants to make sure his supporters turn out.', 'web_url': 'https://www.nytimes.com/2024/01/01/us/politics/trump-iowa-caucuses.html', 'snippet': 'The former president is leading by impressive margins in the state, but his campaign wants to make sure his supporters turn out.', 'lead_paragraph': 'As former President Donald J. Trump campaigned in Iowa in the fall, he projected the utmost confidence. He told his supporters during speeches that his advisers had constantly warned him not to take the state for granted. Buoyed by his dominance in state polls, Mr. Trump insisted he had no reason to worry.', 'print_section': 'A', 'print_page': '8', 'source': 'The New York Times', 'multimedia': [{'rank': 0, 'subtype': 'xlarge', 'caption': None, 'credit': None, 'type': 'image', 'url': 'images/2023/01/01/multimedia/01pol-trimp-iowa-operation-chkz/01pol-trimp-iowa-operation-chkz-articleLarge.jpg', 'height': 400, 'width': 600, 'subType': 'xlarge', 'crop_name': 'articleLarge', 'legacy': {'xlarge': 'images/2023/01/01/multimedia/01pol-trimp-iowa-operation-chkz/01pol-trimp-iowa-operation-chkz-articleLarge.jpg', 'xlargewidth': 600, 'xlargeheight': 400}}, {'rank': 0, 'subtype': 'jumbo', 'caption': None, 'credit': None, 'type': 'image', 'url': 'images/2023/01/01/multimedia/01pol-trimp-iowa-operation-chkz/01pol-trimp-iowa-operation-chkz-jumbo.jpg', 'height': 683, 'width': 1024, 'subType': 'jumbo', 'crop_name': 'jumbo', 'legacy': {}}, {'rank': 0, 'subtype': 'superJumbo', 'caption': None, 'credit': None, 'type': 'image', 'url': 'images/2023/01/01/multimedia/01pol-trimp-iowa-operation-chkz/01pol-trimp-iowa-operation-chkz-superJumbo.jpg', 'height': 1366, 'width': 2048, 'subType': 'superJumbo', 'crop_name': 'superJumbo', 'legacy': {}}, {'rank': 0, 'subtype': 'thumbnail', 'caption': None, 'credit': None, 'type': 'image', 'url': 'images/2023/01/01/multimedia/01pol-trimp-iowa-operation-chkz/01pol-trimp-iowa-operation-chkz-thumbStandard.jpg', 'height': 75, 'width': 75, 'subType': 'thumbnail', 'crop_name': 'thumbStandard', 'legacy': {'thumbnail': 'images/2023/01/01/multimedia/01pol-trimp-iowa-operation-chkz/01pol-trimp-iowa-operation-chkz-thumbStandard.jpg', 'thumbnailwidth': 75, 'thumbnailheight': 75}}, {'rank': 0, 'subtype': 'thumbLarge', 'caption': None, 'credit': None, 'type': 'image', 'url': 'images/2023/01/01/multimedia/01pol-trimp-iowa-operation-chkz/01pol-trimp-iowa-operation-chkz-thumbLarge.jpg', 'height': 150, 'width': 150, 'subType': 'thumbLarge', 'crop_name': 'thumbLarge', 'legacy': {}}], 'headline': {'main': 'Trump Team, Burned in 2016, Looks to Close Out Iowa', 'kicker': None, 'content_kicker': None, 'print_headline': 'As Trump Predicts Iowa ‘Landslide,’ Campaign Bears Down', 'name': None, 'seo': None, 'sub': None}, 'keywords': [{'name': 'subject', 'value': 'Presidential Election of 2024', 'rank': 1, 'major': 'N'}, {'name': 'subject', 'value': 'Primaries and Caucuses', 'rank': 2, 'major': 'N'}, {'name': 'persons', 'value': 'Trump, Donald J', 'rank': 3, 'major': 'N'}, {'name': 'glocations', 'value': 'Iowa', 'rank': 4, 'major': 'N'}, {'name': 'organizations', 'value': 'Republican Party', 'rank': 5, 'major': 'N'}], 'pub_date': '2024-01-01T10:02:09+0000', 'document_type': 'article', 'news_desk': 'Politics', 'section_name': 'U.S.', 'subsection_name': 'Politics', 'byline': {'original': 'By Michael Gold and Kellen Browning', 'person': [{'firstname': 'Michael', 'middlename': None, 'lastname': 'Gold', 'qualifier': None, 'title': None, 'role': 'reported', 'organization': '', 'rank': 1}, {'firstname': 'Kellen', 'middlename': None, 'lastname': 'Browning', 'qualifier': None, 'title': None, 'role': 'reported', 'organization': '', 'rank': 2}], 'organization': None}, 'type_of_material': 'News', '_id': 'nyt://article/9cb2d1bd-b49b-526b-a3c4-f4e84bd02521', 'word_count': 1387, 'uri': 'nyt://article/9cb2d1bd-b49b-526b-a3c4-f4e84bd02521'}, {'abstract': 'The former president says his acquittal by the Senate in his second impeachment trial, for inciting insurrection, bars any prosecution on similar grounds.', 'web_url': 'https://www.nytimes.com/2024/01/01/us/trump-immunity-impeachment.html', 'snippet': 'The former president says his acquittal by the Senate in his second impeachment trial, for inciting insurrection, bars any prosecution on similar grounds.', 'lead_paragraph': 'There is almost nothing in the words of the Constitution that even begins to support former President Donald J. Trump’s boldest defense against charges that he plotted to overturn the 2020 election: that he is absolutely immune from prosecution for actions he took while in office.', 'print_section': 'A', 'print_page': '9', 'source': 'The New York Times', 'multimedia': [{'rank': 0, 'subtype': 'xlarge', 'caption': None, 'credit': None, 'type': 'image', 'url': 'images/2023/01/01/multimedia/01dc-trump-pklf/01dc-trump-pklf-articleLarge.jpg', 'height': 400, 'width': 600, 'subType': 'xlarge', 'crop_name': 'articleLarge', 'legacy': {'xlarge': 'images/2023/01/01/multimedia/01dc-trump-pklf/01dc-trump-pklf-articleLarge.jpg', 'xlargewidth': 600, 'xlargeheight': 400}}, {'rank': 0, 'subtype': 'jumbo', 'caption': None, 'credit': None, 'type': 'image', 'url': 'images/2023/01/01/multimedia/01dc-trump-pklf/01dc-trump-pklf-jumbo.jpg', 'height': 683, 'width': 1024, 'subType': 'jumbo', 'crop_name': 'jumbo', 'legacy': {}}, {'rank': 0, 'subtype': 'superJumbo', 'caption': None, 'credit': None, 'type': 'image', 'url': 'images/2023/01/01/multimedia/01dc-trump-pklf/01dc-trump-pklf-superJumbo.jpg', 'height': 1365, 'width': 2048, 'subType': 'superJumbo', 'crop_name': 'superJumbo', 'legacy': {}}, {'rank': 0, 'subtype': 'thumbnail', 'caption': None, 'credit': None, 'type': 'image', 'url': 'images/2023/01/01/multimedia/01dc-trump-pklf/01dc-trump-pklf-thumbStandard.jpg', 'height': 75, 'width': 75, 'subType': 'thumbnail', 'crop_name': 'thumbStandard', 'legacy': {'thumbnail': 'images/2023/01/01/multimedia/01dc-trump-pklf/01dc-trump-pklf-thumbStandard.jpg', 'thumbnailwidth': 75, 'thumbnailheight': 75}}, {'rank': 0, 'subtype': 'thumbLarge', 'caption': None, 'credit': None, 'type': 'image', 'url': 'images/2023/01/01/multimedia/01dc-trump-pklf/01dc-trump-pklf-thumbLarge.jpg', 'height': 150, 'width': 150, 'subType': 'thumbLarge', 'crop_name': 'thumbLarge', 'legacy': {}}], 'headline': {'main': 'Trump’s Most Ambitious Argument in His Bid for ‘Absolute Immunity’', 'kicker': 'Sidebar', 'content_kicker': None, 'print_headline': 'Assessing Trump’s Audacious, Long-Shot Claim of ‘Absolute Immunity’', 'name': None, 'seo': None, 'sub': None}, 'keywords': [{'name': 'subject', 'value': 'Immunity from Prosecution', 'rank': 1, 'major': 'N'}, {'name': 'subject', 'value': 'Federal Criminal Case Against Trump (2020 Election Case)', 'rank': 2, 'major': 'N'}, {'name': 'subject', 'value': 'Impeachment', 'rank': 3, 'major': 'N'}, {'name': 'subject', 'value': 'United States Politics and Government', 'rank': 4, 'major': 'N'}, {'name': 'subject', 'value': 'Presidential Election of 2020', 'rank': 5, 'major': 'N'}, {'name': 'persons', 'value': 'Chutkan, Tanya S', 'rank': 6, 'major': 'N'}, {'name': 'persons', 'value': 'Trump, Donald J', 'rank': 7, 'major': 'N'}, {'name': 'persons', 'value': 'Smith, Jack (Attorney)', 'rank': 8, 'major': 'N'}, {'name': 'subject', 'value': 'Storming of the US Capitol (Jan, 2021)', 'rank': 9, 'major': 'N'}], 'pub_date': '2024-01-01T10:02:12+0000', 'document_type': 'article', 'news_desk': 'Washington', 'section_name': 'U.S.', 'byline': {'original': 'By Adam Liptak', 'person': [{'firstname': 'Adam', 'middlename': None, 'lastname': 'Liptak', 'qualifier': None, 'title': None, 'role': 'reported', 'organization': '', 'rank': 1}], 'organization': None}, 'type_of_material': 'News', '_id': 'nyt://article/7326c99b-1d8e-512f-9a44-c6d82336e00c', 'word_count': 887, 'uri': 'nyt://article/7326c99b-1d8e-512f-9a44-c6d82336e00c'}, {'abstract': 'Since the death of George Floyd, a national movement promised sweeping justice reform. So far, police prosecutions have resulted in a mixed bag of convictions, acquittals and a mistrial.', 'web_url': 'https://www.nytimes.com/2024/01/01/us/george-floyd-elijah-mcclain-police-brutality-black-lives-matter-trials-civil-rights.html', 'snippet': 'Since the death of George Floyd, a national movement promised sweeping justice reform. So far, police prosecutions have resulted in a mixed bag of convictions, acquittals and a mistrial.', 'lead_paragraph': 'A few days before Christmas, a jury in Washington cleared three Tacoma police officers of criminal charges in the death of Manuel “Manny” Ellis, a 33-year-old Black man who died in police custody in 2020 after pleading that he could not breathe.', 'print_section': 'A', 'print_page': '1', 'source': 'The New York Times', 'multimedia': [{'rank': 0, 'subtype': 'xlarge', 'caption': None, 'credit': None, 'type': 'image', 'url': 'images/2023/12/29/multimedia/00NAT-police-cases-top-option-lkjz/00NAT-police-cases-top-option-lkjz-articleLarge.jpg', 'height': 400, 'width': 600, 'subType': 'xlarge', 'crop_name': 'articleLarge', 'legacy': {'xlarge': 'images/2023/12/29/multimedia/00NAT-police-cases-top-option-lkjz/00NAT-police-cases-top-option-lkjz-articleLarge.jpg', 'xlargewidth': 600, 'xlargeheight': 400}}, {'rank': 0, 'subtype': 'jumbo', 'caption': None, 'credit': None, 'type': 'image', 'url': 'images/2023/12/29/multimedia/00NAT-police-cases-top-option-lkjz/00NAT-police-cases-top-option-lkjz-jumbo.jpg', 'height': 683, 'width': 1024, 'subType': 'jumbo', 'crop_name': 'jumbo', 'legacy': {}}, {'rank': 0, 'subtype': 'superJumbo', 'caption': None, 'credit': None, 'type': 'image', 'url': 'images/2023/12/29/multimedia/00NAT-police-cases-top-option-lkjz/00NAT-police-cases-top-option-lkjz-superJumbo.jpg', 'height': 1365, 'width': 2048, 'subType': 'superJumbo', 'crop_name': 'superJumbo', 'legacy': {}}, {'rank': 0, 'subtype': 'thumbnail', 'caption': None, 'credit': None, 'type': 'image', 'url': 'images/2023/12/29/multimedia/00NAT-police-cases-top-option-lkjz/00NAT-police-cases-top-option-lkjz-thumbStandard.jpg', 'height': 75, 'width': 75, 'subType': 'thumbnail', 'crop_name': 'thumbStandard', 'legacy': {'thumbnail': 'images/2023/12/29/multimedia/00NAT-police-cases-top-option-lkjz/00NAT-police-cases-top-option-lkjz-thumbStandard.jpg', 'thumbnailwidth': 75, 'thumbnailheight': 75}}, {'rank': 0, 'subtype': 'thumbLarge', 'caption': None, 'credit': None, 'type': 'image', 'url': 'images/2023/12/29/multimedia/00NAT-police-cases-top-option-lkjz/00NAT-police-cases-top-option-lkjz-thumbLarge.jpg', 'height': 150, 'width': 150, 'subType': 'thumbLarge', 'crop_name': 'thumbLarge', 'legacy': {}}], 'headline': {'main': 'Police Officers Are Charged With Crimes, but Are Juries Convicting?', 'kicker': None, 'content_kicker': None, 'print_headline': 'Mixed Verdicts In Police Trials Signal Unease', 'name': None, 'seo': None, 'sub': None}, 'keywords': [{'name': 'subject', 'value': 'George Floyd Protests (2020)', 'rank': 1, 'major': 'N'}, {'name': 'persons', 'value': 'Taylor, Breonna (1993-2020)', 'rank': 2, 'major': 'N'}, {'name': 'subject', 'value': 'Police Brutality, Misconduct and Shootings', 'rank': 3, 'major': 'N'}, {'name': 'subject', 'value': 'Civil Rights and Liberties', 'rank': 4, 'major': 'N'}, {'name': 'subject', 'value': 'Black Lives Matter Movement', 'rank': 5, 'major': 'N'}, {'name': 'subject', 'value': 'Jury System', 'rank': 6, 'major': 'N'}, {'name': 'glocations', 'value': 'Colorado', 'rank': 7, 'major': 'N'}, {'name': 'subject', 'value': 'Criminal Justice', 'rank': 8, 'major': 'N'}, {'name': 'subject', 'value': 'Black People', 'rank': 9, 'major': 'N'}, {'name': 'subject', 'value': 'Blacks', 'rank': 10, 'major': 'N'}, {'name': 'subject', 'value': 'Murders, Attempted Murders and Homicides', 'rank': 11, 'major': 'N'}], 'pub_date': '2024-01-01T10:02:37+0000', 'document_type': 'article', 'news_desk': 'National', 'section_name': 'U.S.', 'byline': {'original': 'By Audra D. S. Burch and Kelley Manley', 'person': [{'firstname': 'Audra', 'middlename': None, 'lastname': '', 'qualifier': None, 'title': None, 'role': 'reported', 'organization': '', 'rank': 1}], 'organization': None}, 'type_of_material': 'News', '_id': 'nyt://article/23a20151-52f5-55d1-a2c2-660a85f997ae', 'word_count': 1688, 'uri': 'nyt://article/23a20151-52f5-55d1-a2c2-660a85f997ae'}, {'abstract': 'What could happen to the original version of Mickey Mouse and others after they entered the public domain on Jan. 1? Hint: think Winnie the Pooh wielding a sledgehammer.', 'web_url': 'https://www.nytimes.com/2024/01/01/arts/public-domain-mickey-mouse.html', 'snippet': 'What could happen to the original version of Mickey Mouse and others after they entered the public domain on Jan. 1? Hint: think Winnie the Pooh wielding a sledgehammer.', 'lead_paragraph': 'If you’re the creative type and you’re struggling to come up with your next idea, do not fear: Some big works, including the original version of Mickey Mouse, are entering the public domain on Jan. 1 in the United States.', 'print_section': 'B', 'print_page': '1', 'source': 'The New York Times', 'multimedia': [{'rank': 0, 'subtype': 'xlarge', 'caption': None, 'credit': None, 'type': 'image', 'url': 'images/2024/01/02/us/00ALTxp-public-domain-print/00xp-public-domain-articleLarge.jpg', 'height': 456, 'width': 600, 'subType': 'xlarge', 'crop_name': 'articleLarge', 'legacy': {'xlarge': 'images/2024/01/02/us/00ALTxp-public-domain-print/00xp-public-domain-articleLarge.jpg', 'xlargewidth': 600, 'xlargeheight': 456}}, {'rank': 0, 'subtype': 'jumbo', 'caption': None, 'credit': None, 'type': 'image', 'url': 'images/2024/01/02/us/00ALTxp-public-domain-print/00xp-public-domain-jumbo.jpg', 'height': 779, 'width': 1024, 'subType': 'jumbo', 'crop_name': 'jumbo', 'legacy': {}}, {'rank': 0, 'subtype': 'superJumbo', 'caption': None, 'credit': None, 'type': 'image', 'url': 'images/2024/01/02/us/00ALTxp-public-domain-print/00xp-public-domain-superJumbo.jpg', 'height': 1048, 'width': 1378, 'subType': 'superJumbo', 'crop_name': 'superJumbo', 'legacy': {}}, {'rank': 0, 'subtype': 'thumbnail', 'caption': None, 'credit': None, 'type': 'image', 'url': 'images/2024/01/02/us/00ALTxp-public-domain-print/00xp-public-domain-thumbStandard-v2.jpg', 'height': 75, 'width': 75, 'subType': 'thumbnail', 'crop_name': 'thumbStandard', 'legacy': {'thumbnail': 'images/2024/01/02/us/00ALTxp-public-domain-print/00xp-public-domain-thumbStandard-v2.jpg', 'thumbnailwidth': 75, 'thumbnailheight': 75}}, {'rank': 0, 'subtype': 'thumbLarge', 'caption': None, 'credit': None, 'type': 'image', 'url': 'images/2024/01/02/us/00ALTxp-public-domain-print/00xp-public-domain-thumbLarge-v2.jpg', 'height': 150, 'width': 150, 'subType': 'thumbLarge', 'crop_name': 'thumbLarge', 'legacy': {}}], 'headline': {'main': 'These Classic Characters Are Losing Copyright Protection. They May Never Be the Same.', 'kicker': None, 'content_kicker': None, 'print_headline': 'Free at Last For Mickey And Friends', 'name': None, 'seo': None, 'sub': None}, 'keywords': [{'name': 'subject', 'value': 'Books and Literature', 'rank': 1, 'major': 'N'}, {'name': 'subject', 'value': 'Copyrights and Copyright Violations', 'rank': 2, 'major': 'N'}, {'name': 'subject', 'value': 'Winnie-the-Pooh (Fictional Character)', 'rank': 3, 'major': 'N'}, {'name': 'subject', 'value': 'Writing and Writers', 'rank': 4, 'major': 'N'}, {'name': 'subject', 'value': 'Mickey Mouse (Fictional Character)', 'rank': 5, 'major': 'N'}, {'name': 'organizations', 'value': 'Walt Disney Company', 'rank': 6, 'major': 'N'}], 'pub_date': '2024-01-01T10:45:09+0000', 'document_type': 'article', 'news_desk': 'Business', 'section_name': 'Arts', 'byline': {'original': 'By Sopan Deb', 'person': [{'firstname': 'Sopan', 'middlename': None, 'lastname': 'Deb', 'qualifier': None, 'title': None, 'role': 'reported', 'organization': '', 'rank': 1}], 'organization': None}, 'type_of_material': 'News', '_id': 'nyt://article/052c9436-cbcf-5905-9c9d-5a62b6bdfae2', 'word_count': 1083, 'uri': 'nyt://article/052c9436-cbcf-5905-9c9d-5a62b6bdfae2'}, {'abstract': 'This year, we’re going to feel less tired.', 'web_url': 'https://www.nytimes.com/2024/01/01/briefing/new-years-energy-challege.html', 'snippet': 'This year, we’re going to feel less tired.', 'lead_paragraph': 'It’s the first day of the year. Raise your hand if you could use more energy! That’s everybody, then?', 'source': 'The New York Times', 'multimedia': [{'rank': 0, 'subtype': 'xlarge', 'caption': None, 'credit': None, 'type': 'image', 'url': 'images/2023/12/26/briefing/01themorning-promo/18Well-SignUpChallenge-2-articleLarge-v2.png', 'height': 400, 'width': 600, 'subType': 'xlarge', 'crop_name': 'articleLarge', 'legacy': {'xlarge': 'images/2023/12/26/briefing/01themorning-promo/18Well-SignUpChallenge-2-articleLarge-v2.png', 'xlargewidth': 600, 'xlargeheight': 400}}, {'rank': 0, 'subtype': 'jumbo', 'caption': None, 'credit': None, 'type': 'image', 'url': 'images/2023/12/26/briefing/01themorning-promo/18Well-SignUpChallenge-2-jumbo-v2.png', 'height': 683, 'width': 1024, 'subType': 'jumbo', 'crop_name': 'jumbo', 'legacy': {}}, {'rank': 0, 'subtype': 'superJumbo', 'caption': None, 'credit': None, 'type': 'image', 'url': 'images/2023/12/26/briefing/01themorning-promo/18Well-SignUpChallenge-2-superJumbo-v2.png', 'height': 1365, 'width': 2048, 'subType': 'superJumbo', 'crop_name': 'superJumbo', 'legacy': {}}, {'rank': 0, 'subtype': 'thumbnail', 'caption': None, 'credit': None, 'type': 'image', 'url': 'images/2023/12/26/briefing/01themorning-promo/18Well-SignUpChallenge-2-thumbStandard-v5.png', 'height': 75, 'width': 75, 'subType': 'thumbnail', 'crop_name': 'thumbStandard', 'legacy': {'thumbnail': 'images/2023/12/26/briefing/01themorning-promo/18Well-SignUpChallenge-2-thumbStandard-v5.png', 'thumbnailwidth': 75, 'thumbnailheight': 75}}, {'rank': 0, 'subtype': 'thumbLarge', 'caption': None, 'credit': None, 'type': 'image', 'url': 'images/2023/12/26/briefing/01themorning-promo/18Well-SignUpChallenge-2-thumbLarge-v5.png', 'height': 150, 'width': 150, 'subType': 'thumbLarge', 'crop_name': 'thumbLarge', 'legacy': {}}], 'headline': {'main': 'A New Year’s Energy Boost', 'kicker': None, 'content_kicker': None, 'print_headline': '', 'name': None, 'seo': None, 'sub': None}, 'keywords': [{'name': 'subject', 'value': 'New Year', 'rank': 1, 'major': 'N'}, {'name': 'subject', 'value': 'Sleep', 'rank': 2, 'major': 'N'}], 'pub_date': '2024-01-01T10:57:10+0000', 'document_type': 'article', 'news_desk': 'NYTNow', 'section_name': 'Briefing', 'byline': {'original': 'By Jancee Dunn', 'person': [{'firstname': 'Jancee', 'middlename': None, 'lastname': 'Dunn', 'qualifier': None, 'title': None, 'role': 'reported', 'organization': '', 'rank': 1}], 'organization': None}, 'type_of_material': 'News', '_id': 'nyt://article/17dae56f-c072-5330-8233-fac6e8ae9a8a', 'word_count': 1255, 'uri': 'nyt://article/17dae56f-c072-5330-8233-fac6e8ae9a8a'}, {'abstract': 'As another major quake struck Japan, the country was still reckoning with the nuclear crisis triggered by the 8.9-magnitude earthquake and a tsunami of 13 years ago.', 'web_url': 'https://www.nytimes.com/2024/01/01/world/asia/japan-fukushima-quake-tsunami.html', 'snippet': 'As another major quake struck Japan, the country was still reckoning with the nuclear crisis triggered by the 8.9-magnitude earthquake and a tsunami of 13 years ago.', 'lead_paragraph': 'As Japan assesses the damage from Monday’s major earthquake, it is still reckoning with the devastating nuclear crisis triggered by an quake nearly 13 years ago, one that placed the name of Fukushima on par with Chernobyl’s and traumatized the nation.', 'source': 'The New York Times', 'multimedia': [{'rank': 0, 'subtype': 'xlarge', 'caption': None, 'credit': None, 'type': 'image', 'url': 'images/2024/01/01/multimedia/01japan-quake-fukushima-vqfh/01japan-quake-fukushima-vqfh-articleLarge.jpg', 'height': 400, 'width': 600, 'subType': 'xlarge', 'crop_name': 'articleLarge', 'legacy': {'xlarge': 'images/2024/01/01/multimedia/01japan-quake-fukushima-vqfh/01japan-quake-fukushima-vqfh-articleLarge.jpg', 'xlargewidth': 600, 'xlargeheight': 400}}, {'rank': 0, 'subtype': 'jumbo', 'caption': None, 'credit': None, 'type': 'image', 'url': 'images/2024/01/01/multimedia/01japan-quake-fukushima-vqfh/01japan-quake-fukushima-vqfh-jumbo.jpg', 'height': 683, 'width': 1024, 'subType': 'jumbo', 'crop_name': 'jumbo', 'legacy': {}}, {'rank': 0, 'subtype': 'superJumbo', 'caption': None, 'credit': None, 'type': 'image', 'url': 'images/2024/01/01/multimedia/01japan-quake-fukushima-vqfh/01japan-quake-fukushima-vqfh-superJumbo.jpg', 'height': 1365, 'width': 2048, 'subType': 'superJumbo', 'crop_name': 'superJumbo', 'legacy': {}}, {'rank': 0, 'subtype': 'thumbnail', 'caption': None, 'credit': None, 'type': 'image', 'url': 'images/2024/01/01/multimedia/01japan-quake-fukushima-vqfh/01japan-quake-fukushima-vqfh-thumbStandard.jpg', 'height': 75, 'width': 75, 'subType': 'thumbnail', 'crop_name': 'thumbStandard', 'legacy': {'thumbnail': 'images/2024/01/01/multimedia/01japan-quake-fukushima-vqfh/01japan-quake-fukushima-vqfh-thumbStandard.jpg', 'thumbnailwidth': 75, 'thumbnailheight': 75}}, {'rank': 0, 'subtype': 'thumbLarge', 'caption': None, 'credit': None, 'type': 'image', 'url': 'images/2024/01/01/multimedia/01japan-quake-fukushima-vqfh/01japan-quake-fukushima-vqfh-thumbLarge.jpg', 'height': 150, 'width': 150, 'subType': 'thumbLarge', 'crop_name': 'thumbLarge', 'legacy': {}}], 'headline': {'main': 'In Quake-Scarred Japan, 2011 Fukushima Disaster Still Looms Large', 'kicker': None, 'content_kicker': None, 'print_headline': '', 'name': None, 'seo': None, 'sub': None}, 'keywords': [{'name': 'organizations', 'value': 'Fukushima Daiichi Nuclear Power Plant (Japan)', 'rank': 1, 'major': 'N'}, {'name': 'glocations', 'value': 'Fukushima (Japan)', 'rank': 2, 'major': 'N'}, {'name': 'subject', 'value': 'Earthquakes', 'rank': 3, 'major': 'N'}, {'name': 'subject', 'value': 'Japan Earthquake and Tsunami (2011)', 'rank': 4, 'major': 'N'}, {'name': 'subject', 'value': 'Tidal Waves and Tsunamis', 'rank': 5, 'major': 'N'}], 'pub_date': '2024-01-01T11:37:23+0000', 'document_type': 'article', 'news_desk': 'Foreign', 'section_name': 'World', 'subsection_name': 'Asia Pacific', 'byline': {'original': 'By Emma Bubola', 'person': [{'firstname': 'Emma', 'middlename': None, 'lastname': 'Bubola', 'qualifier': None, 'title': None, 'role': 'reported', 'organization': '', 'rank': 1}], 'organization': None}, 'type_of_material': 'News', '_id': 'nyt://article/53ffa501-b728-57d1-baaf-0b5dec2af2ee', 'word_count': 250, 'uri': 'nyt://article/53ffa501-b728-57d1-baaf-0b5dec2af2ee'}, {'abstract': 'The motorist struck cars and a food truck in Midtown early Monday morning. At least nine people were injured, including Ms. Bernans, an actress and stuntwoman.', 'web_url': 'https://www.nytimes.com/2024/01/01/nyregion/driver-crash-manhattan-food-truck.html', 'snippet': 'The motorist struck cars and a food truck in Midtown early Monday morning. At least nine people were injured, including Ms. Bernans, an actress and stuntwoman.', 'lead_paragraph': 'At least nine people were injured early Monday morning in Midtown Manhattan when the driver of a black sedan crashed into a sidewalk, striking police cars and a food truck, according to the New York Police Department.', 'source': 'The New York Times', 'multimedia': [{'rank': 0, 'subtype': 'xlarge', 'caption': None, 'credit': None, 'type': 'image', 'url': 'images/2024/01/01/nyregion/oakImage-1704124519785/oakImage-1704124519785-articleLarge.jpg', 'height': 400, 'width': 600, 'subType': 'xlarge', 'crop_name': 'articleLarge', 'legacy': {'xlarge': 'images/2024/01/01/nyregion/oakImage-1704124519785/oakImage-1704124519785-articleLarge.jpg', 'xlargewidth': 600, 'xlargeheight': 400}}, {'rank': 0, 'subtype': 'jumbo', 'caption': None, 'credit': None, 'type': 'image', 'url': 'images/2024/01/01/nyregion/oakImage-1704124519785/oakImage-1704124519785-jumbo.jpg', 'height': 683, 'width': 1024, 'subType': 'jumbo', 'crop_name': 'jumbo', 'legacy': {}}, {'rank': 0, 'subtype': 'superJumbo', 'caption': None, 'credit': None, 'type': 'image', 'url': 'images/2024/01/01/nyregion/oakImage-1704124519785/oakImage-1704124519785-superJumbo.jpg', 'height': 1126, 'width': 1689, 'subType': 'superJumbo', 'crop_name': 'superJumbo', 'legacy': {}}, {'rank': 0, 'subtype': 'thumbnail', 'caption': None, 'credit': None, 'type': 'image', 'url': 'images/2024/01/01/nyregion/oakImage-1704124519785/oakImage-1704124519785-thumbStandard.jpg', 'height': 75, 'width': 75, 'subType': 'thumbnail', 'crop_name': 'thumbStandard', 'legacy': {'thumbnail': 'images/2024/01/01/nyregion/oakImage-1704124519785/oakImage-1704124519785-thumbStandard.jpg', 'thumbnailwidth': 75, 'thumbnailheight': 75}}, {'rank': 0, 'subtype': 'thumbLarge', 'caption': None, 'credit': None, 'type': 'image', 'url': 'images/2024/01/01/nyregion/oakImage-1704124519785/oakImage-1704124519785-thumbLarge.jpg', 'height': 150, 'width': 150, 'subType': 'thumbLarge', 'crop_name': 'thumbLarge', 'legacy': {}}], 'headline': {'main': 'Actress Carrie Bernans Among People Injured in Midtown New Year’s Crash', 'kicker': None, 'content_kicker': None, 'print_headline': '', 'name': None, 'seo': None, 'sub': None}, 'keywords': [{'name': 'subject', 'value': 'Traffic Accidents and Safety', 'rank': 1, 'major': 'N'}, {'name': 'glocations', 'value': 'Midtown Area (Manhattan, NY)', 'rank': 2, 'major': 'N'}], 'pub_date': '2024-01-01T11:44:19+0000', 'document_type': 'article', 'news_desk': 'Express', 'section_name': 'New York', 'byline': {'original': 'By Isabella Kwai and Michael Levenson', 'person': [{'firstname': 'Isabella', 'middlename': None, 'lastname': 'Kwai', 'qualifier': None, 'title': None, 'role': 'reported', 'organization': '', 'rank': 1}, {'firstname': 'Michael', 'middlename': None, 'lastname': 'Levenson', 'qualifier': None, 'title': None, 'role': 'reported', 'organization': '', 'rank': 2}], 'organization': None}, 'type_of_material': 'News', '_id': 'nyt://article/5cfffd59-758e-5ad1-8f23-f558379d95fc', 'word_count': 420, 'uri': 'nyt://article/5cfffd59-758e-5ad1-8f23-f558379d95fc'}, {'abstract': 'Sales by BYD, the country’s dominant automaker, topped 3 million last year, including 1.6 million fully battery-powered cars. It’s a sign of China’s rapid growth in EVs.', 'web_url': 'https://www.nytimes.com/2024/01/01/business/byd-2023-sales.html', 'snippet': 'Sales by BYD, the country’s dominant automaker, topped 3 million last year, including 1.6 million fully battery-powered cars. It’s a sign of China’s rapid growth in EVs.', 'lead_paragraph': 'The Chinese corporate giant BYD said Monday that it sold three million battery-powered cars in 2023, its most ever, capping a turbulent year for China’s electric vehicle industry.', 'print_section': 'B', 'print_page': '4', 'source': 'The New York Times', 'multimedia': [{'rank': 0, 'subtype': 'xlarge', 'caption': None, 'credit': None, 'type': 'image', 'url': 'images/2024/01/01/multimedia/china-byd-fpzl/china-byd-fpzl-articleLarge.jpg', 'height': 365, 'width': 600, 'subType': 'xlarge', 'crop_name': 'articleLarge', 'legacy': {'xlarge': 'images/2024/01/01/multimedia/china-byd-fpzl/china-byd-fpzl-articleLarge.jpg', 'xlargewidth': 600, 'xlargeheight': 365}}, {'rank': 0, 'subtype': 'jumbo', 'caption': None, 'credit': None, 'type': 'image', 'url': 'images/2024/01/01/multimedia/china-byd-fpzl/china-byd-fpzl-jumbo.jpg', 'height': 623, 'width': 1024, 'subType': 'jumbo', 'crop_name': 'jumbo', 'legacy': {}}, {'rank': 0, 'subtype': 'superJumbo', 'caption': None, 'credit': None, 'type': 'image', 'url': 'images/2024/01/01/multimedia/china-byd-fpzl/china-byd-fpzl-superJumbo.jpg', 'height': 1247, 'width': 2048, 'subType': 'superJumbo', 'crop_name': 'superJumbo', 'legacy': {}}, {'rank': 0, 'subtype': 'thumbnail', 'caption': None, 'credit': None, 'type': 'image', 'url': 'images/2024/01/01/multimedia/china-byd-fpzl/china-byd-fpzl-thumbStandard.jpg', 'height': 75, 'width': 75, 'subType': 'thumbnail', 'crop_name': 'thumbStandard', 'legacy': {'thumbnail': 'images/2024/01/01/multimedia/china-byd-fpzl/china-byd-fpzl-thumbStandard.jpg', 'thumbnailwidth': 75, 'thumbnailheight': 75}}, {'rank': 0, 'subtype': 'thumbLarge', 'caption': None, 'credit': None, 'type': 'image', 'url': 'images/2024/01/01/multimedia/china-byd-fpzl/china-byd-fpzl-thumbLarge.jpg', 'height': 150, 'width': 150, 'subType': 'thumbLarge', 'crop_name': 'thumbLarge', 'legacy': {}}], 'headline': {'main': 'China Auto Giant BYD Sells More Electric Vehicles Than Ever', 'kicker': None, 'content_kicker': None, 'print_headline': 'China’s Auto Giant BYD  Sells More Electric Cars And Hybrids Than Ever', 'name': None, 'seo': None, 'sub': None}, 'keywords': [{'name': 'subject', 'value': 'Electric and Hybrid Vehicles', 'rank': 1, 'major': 'N'}, {'name': 'glocations', 'value': 'China', 'rank': 2, 'major': 'N'}, {'name': 'organizations', 'value': 'BYD Co Ltd', 'rank': 3, 'major': 'N'}, {'name': 'subject', 'value': 'Prices (Fares, Fees and Rates)', 'rank': 4, 'major': 'N'}, {'name': 'subject', 'value': 'Batteries', 'rank': 5, 'major': 'N'}, {'name': 'organizations', 'value': 'Tesla Motors Inc', 'rank': 6, 'major': 'N'}, {'name': 'organizations', 'value': 'Volkswagen AG', 'rank': 7, 'major': 'N'}], 'pub_date': '2024-01-01T12:43:30+0000', 'document_type': 'article', 'news_desk': 'Business', 'section_name': 'Business Day', 'byline': {'original': 'By Claire Fu and Rich Barbieri', 'person': [{'firstname': 'Claire', 'middlename': None, 'lastname': 'Fu', 'qualifier': None, 'title': None, 'role': 'reported', 'organization': '', 'rank': 1}, {'firstname': 'Rich', 'middlename': None, 'lastname': 'Barbieri', 'qualifier': None, 'title': None, 'role': 'reported', 'organization': '', 'rank': 2}], 'organization': None}, 'type_of_material': 'News', '_id': 'nyt://article/7ccfb41b-c1af-5d11-af35-82521875fc83', 'word_count': 781, 'uri': 'nyt://article/7ccfb41b-c1af-5d11-af35-82521875fc83'}, {'abstract': 'Analysts say the announcement could signal a shift to the more limited and targeted war against Hamas that the United States has been urging.', 'web_url': 'https://www.nytimes.com/2024/01/01/world/middleeast/israel-gaza-troop-withdrawal.html', 'snippet': 'Analysts say the announcement could signal a shift to the more limited and targeted war against Hamas that the United States has been urging.', 'lead_paragraph': 'The Israeli military said on Monday that it would begin withdrawing several thousand troops from the Gaza Strip at least temporarily, in what was  the most significant publicly announced reduction since the war with Hamas began.', 'print_section': 'A', 'print_page': '6', 'source': 'The New York Times', 'multimedia': [{'rank': 0, 'subtype': 'xlarge', 'caption': None, 'credit': None, 'type': 'image', 'url': 'images/2024/01/01/multimedia/01israel-hamas-ledeall-01-vwcq/01israel-hamas-ledeall-01-vwcq-articleLarge.jpg', 'height': 400, 'width': 600, 'subType': 'xlarge', 'crop_name': 'articleLarge', 'legacy': {'xlarge': 'images/2024/01/01/multimedia/01israel-hamas-ledeall-01-vwcq/01israel-hamas-ledeall-01-vwcq-articleLarge.jpg', 'xlargewidth': 600, 'xlargeheight': 400}}, {'rank': 0, 'subtype': 'jumbo', 'caption': None, 'credit': None, 'type': 'image', 'url': 'images/2024/01/01/multimedia/01israel-hamas-ledeall-01-vwcq/01israel-hamas-ledeall-01-vwcq-jumbo.jpg', 'height': 683, 'width': 1024, 'subType': 'jumbo', 'crop_name': 'jumbo', 'legacy': {}}, {'rank': 0, 'subtype': 'superJumbo', 'caption': None, 'credit': None, 'type': 'image', 'url': 'images/2024/01/01/multimedia/01israel-hamas-ledeall-01-vwcq/01israel-hamas-ledeall-01-vwcq-superJumbo.jpg', 'height': 1365, 'width': 2048, 'subType': 'superJumbo', 'crop_name': 'superJumbo', 'legacy': {}}, {'rank': 0, 'subtype': 'thumbnail', 'caption': None, 'credit': None, 'type': 'image', 'url': 'images/2024/01/01/multimedia/01israel-hamas-ledeall-01-vwcq/01israel-hamas-ledeall-01-vwcq-thumbStandard.jpg', 'height': 75, 'width': 75, 'subType': 'thumbnail', 'crop_name': 'thumbStandard', 'legacy': {'thumbnail': 'images/2024/01/01/multimedia/01israel-hamas-ledeall-01-vwcq/01israel-hamas-ledeall-01-vwcq-thumbStandard.jpg', 'thumbnailwidth': 75, 'thumbnailheight': 75}}, {'rank': 0, 'subtype': 'thumbLarge', 'caption': None, 'credit': None, 'type': 'image', 'url': 'images/2024/01/01/multimedia/01israel-hamas-ledeall-01-vwcq/01israel-hamas-ledeall-01-vwcq-thumbLarge.jpg', 'height': 150, 'width': 150, 'subType': 'thumbLarge', 'crop_name': 'thumbLarge', 'legacy': {}}], 'headline': {'main': 'Israel Says It Will Pull Several Brigades From Gaza Strip', 'kicker': None, 'content_kicker': None, 'print_headline': 'Israel Plans to Take Some Brigades Out of Gaza', 'name': None, 'seo': None, 'sub': None}, 'keywords': [{'name': 'subject', 'value': 'Israel-Gaza War (2023- )', 'rank': 1, 'major': 'N'}, {'name': 'subject', 'value': 'Defense and Military Forces', 'rank': 2, 'major': 'N'}, {'name': 'glocations', 'value': 'Gaza Strip', 'rank': 3, 'major': 'N'}, {'name': 'glocations', 'value': 'Israel', 'rank': 4, 'major': 'N'}, {'name': 'subject', 'value': 'Refugees and Displaced Persons', 'rank': 5, 'major': 'N'}, {'name': 'organizations', 'value': 'Hamas', 'rank': 6, 'major': 'N'}], 'pub_date': '2024-01-01T13:44:22+0000', 'document_type': 'article', 'news_desk': 'Foreign', 'section_name': 'World', 'subsection_name': 'Middle East', 'byline': {'original': 'By Aaron Boxerman, Isabel Kershner and Eric Schmitt', 'person': [{'firstname': 'Aaron', 'middlename': None, 'lastname': 'Boxerman', 'qualifier': None, 'title': None, 'role': 'reported', 'organization': '', 'rank': 1}, {'firstname': 'Isabel', 'middlename': None, 'lastname': 'Kershner', 'qualifier': None, 'title': None, 'role': 'reported', 'organization': '', 'rank': 2}, {'firstname': 'Eric', 'middlename': None, 'lastname': 'Schmitt', 'qualifier': None, 'title': None, 'role': 'reported', 'organization': '', 'rank': 3}], 'organization': None}, 'type_of_material': 'News', '_id': 'nyt://article/9ac2c03c-91f8-500f-9b76-7ebd857e3292', 'word_count': 1359, 'uri': 'nyt://article/9ac2c03c-91f8-500f-9b76-7ebd857e3292'}, {'abstract': 'Examining the linguistic persistence of Swiftian wordplay.', 'web_url': 'https://www.nytimes.com/2024/01/01/crosswords/taylor-swift-lyrics.html', 'snippet': 'Examining the linguistic persistence of Swiftian wordplay.', 'lead_paragraph': 'To be a Swiftie in the year 1729 might have meant that you fawned over the works of an Anglo-Irish writer named Jonathan, who would later be considered the “foremost prose satirist in the English language.” Centuries later, in the years leading up to 1989 (but still long before the release of “1989”), Swifties were jokes invoking Tom Swift, the hero of a series of pulp novels. The joke format, inspired by a writing quirk of the books, featured a dialogue tag tacked onto a spoken phrase so that the result was a groan-inducing one-liner. “‘Do you feel a draft?’ Tom asked coolly,” a Tom Swifty might go, or “‘You must be my host,’ Tom guessed.”', 'source': 'The New York Times', 'multimedia': [{'rank': 0, 'subtype': 'xlarge', 'caption': None, 'credit': None, 'type': 'image', 'url': 'images/2024/01/01/crosswords/01gameplay-swift-art/01gameplay-swift-art-articleLarge.jpg', 'height': 400, 'width': 600, 'subType': 'xlarge', 'crop_name': 'articleLarge', 'legacy': {'xlarge': 'images/2024/01/01/crosswords/01gameplay-swift-art/01gameplay-swift-art-articleLarge.jpg', 'xlargewidth': 600, 'xlargeheight': 400}}, {'rank': 0, 'subtype': 'jumbo', 'caption': None, 'credit': None, 'type': 'image', 'url': 'images/2024/01/01/crosswords/01gameplay-swift-art/01gameplay-swift-art-jumbo.jpg', 'height': 683, 'width': 1024, 'subType': 'jumbo', 'crop_name': 'jumbo', 'legacy': {}}, {'rank': 0, 'subtype': 'superJumbo', 'caption': None, 'credit': None, 'type': 'image', 'url': 'images/2024/01/01/crosswords/01gameplay-swift-art/01gameplay-swift-art-superJumbo.jpg', 'height': 1354, 'width': 2030, 'subType': 'superJumbo', 'crop_name': 'superJumbo', 'legacy': {}}, {'rank': 0, 'subtype': 'thumbnail', 'caption': None, 'credit': None, 'type': 'image', 'url': 'images/2024/01/01/crosswords/01gameplay-swift-art/01gameplay-swift-art-thumbStandard.jpg', 'height': 75, 'width': 75, 'subType': 'thumbnail', 'crop_name': 'thumbStandard', 'legacy': {'thumbnail': 'images/2024/01/01/crosswords/01gameplay-swift-art/01gameplay-swift-art-thumbStandard.jpg', 'thumbnailwidth': 75, 'thumbnailheight': 75}}, {'rank': 0, 'subtype': 'thumbLarge', 'caption': None, 'credit': None, 'type': 'image', 'url': 'images/2024/01/01/crosswords/01gameplay-swift-art/01gameplay-swift-art-thumbLarge.jpg', 'height': 150, 'width': 150, 'subType': 'thumbLarge', 'crop_name': 'thumbLarge', 'legacy': {}}], 'headline': {'main': 'Modern Swifties Have Transcended the Joke', 'kicker': None, 'content_kicker': None, 'print_headline': '', 'name': None, 'seo': None, 'sub': None}, 'keywords': [{'name': 'subject', 'value': 'Fans (Persons)', 'rank': 1, 'major': 'N'}, {'name': 'subject', 'value': 'Social Media', 'rank': 2, 'major': 'N'}, {'name': 'persons', 'value': 'Swift, Taylor', 'rank': 3, 'major': 'N'}, {'name': 'subject', 'value': 'English Language', 'rank': 4, 'major': 'N'}, {'name': 'subject', 'value': 'Pop and Rock Music', 'rank': 5, 'major': 'N'}], 'pub_date': '2024-01-01T14:00:03+0000', 'document_type': 'article', 'news_desk': 'Games', 'section_name': 'Crosswords & Games', 'byline': {'original': 'By Sam Corbin', 'person': [{'firstname': 'Sam', 'middlename': None, 'lastname': 'Corbin', 'qualifier': None, 'title': None, 'role': 'reported', 'organization': '', 'rank': 1}], 'organization': None}, 'type_of_material': 'News', '_id': 'nyt://article/bc7bc5cd-bc91-584b-a352-dbdb94c27d57', 'word_count': 938, 'uri': 'nyt://article/bc7bc5cd-bc91-584b-a352-dbdb94c27d57'}, {'abstract': 'This year is a critical moment to make home care accessible to all Americans who need it.', 'web_url': 'https://www.nytimes.com/2024/01/01/opinion/caregiving-als-ady-barkan.html', 'snippet': 'This year is a critical moment to make home care accessible to all Americans who need it.', 'lead_paragraph': 'My 7-year-old son, Carl, realized that it was Tuesday and asked why Robert was not coming to our house that day. Robert had been a caregiver for my husband, Ady Barkan, for more than five years, helping with Ady’s day-to-day activities as he became progressively paralyzed because of the neurodegenerative disease amyotrophic lateral sclerosis, or A.L.S.', 'print_section': 'A', 'print_page': '14', 'source': 'The New York Times', 'multimedia': [{'rank': 0, 'subtype': 'xlarge', 'caption': None, 'credit': None, 'type': 'image', 'url': 'images/2024/01/08/opinion/01king/01king-articleLarge.jpg', 'height': 751, 'width': 600, 'subType': 'xlarge', 'crop_name': 'articleLarge', 'legacy': {'xlarge': 'images/2024/01/08/opinion/01king/01king-articleLarge.jpg', 'xlargewidth': 600, 'xlargeheight': 751}}, {'rank': 0, 'subtype': 'jumbo', 'caption': None, 'credit': None, 'type': 'image', 'url': 'images/2024/01/08/opinion/01king/01king-jumbo.jpg', 'height': 1024, 'width': 818, 'subType': 'jumbo', 'crop_name': 'jumbo', 'legacy': {}}, {'rank': 0, 'subtype': 'superJumbo', 'caption': None, 'credit': None, 'type': 'image', 'url': 'images/2024/01/08/opinion/01king/01king-superJumbo.jpg', 'height': 2048, 'width': 1636, 'subType': 'superJumbo', 'crop_name': 'superJumbo', 'legacy': {}}, {'rank': 0, 'subtype': 'thumbnail', 'caption': None, 'credit': None, 'type': 'image', 'url': 'images/2024/01/08/opinion/01king/01king-thumbStandard.jpg', 'height': 75, 'width': 75, 'subType': 'thumbnail', 'crop_name': 'thumbStandard', 'legacy': {'thumbnail': 'images/2024/01/08/opinion/01king/01king-thumbStandard.jpg', 'thumbnailwidth': 75, 'thumbnailheight': 75}}, {'rank': 0, 'subtype': 'thumbLarge', 'caption': None, 'credit': None, 'type': 'image', 'url': 'images/2024/01/08/opinion/01king/01king-thumbLarge.jpg', 'height': 150, 'width': 150, 'subType': 'thumbLarge', 'crop_name': 'thumbLarge', 'legacy': {}}], 'headline': {'main': 'Caregivers Helped Us Be a Family. Everyone Should Have That Option.', 'kicker': 'Guest Essay', 'content_kicker': None, 'print_headline': 'Caregivers Helped Us Be a Family. We Were Fortunate.', 'name': None, 'seo': None, 'sub': None}, 'keywords': [{'name': 'subject', 'value': 'Amyotrophic Lateral Sclerosis', 'rank': 1, 'major': 'N'}, {'name': 'subject', 'value': 'Home Health Care', 'rank': 2, 'major': 'N'}, {'name': 'subject', 'value': 'Health Insurance and Managed Care', 'rank': 3, 'major': 'N'}, {'name': 'subject', 'value': 'Medicare', 'rank': 4, 'major': 'N'}, {'name': 'subject', 'value': 'Medicaid', 'rank': 5, 'major': 'N'}, {'name': 'subject', 'value': 'Families and Family Life', 'rank': 6, 'major': 'N'}, {'name': 'subject', 'value': 'Law and Legislation', 'rank': 7, 'major': 'N'}, {'name': 'subject', 'value': 'Elderly', 'rank': 8, 'major': 'N'}, {'name': 'subject', 'value': 'Paralysis', 'rank': 9, 'major': 'N'}, {'name': 'persons', 'value': 'Barkan, Ady', 'rank': 10, 'major': 'N'}, {'name': 'glocations', 'value': 'United States', 'rank': 11, 'major': 'N'}, {'name': 'subject', 'value': 'Long-Term Care Insurance', 'rank': 12, 'major': 'N'}], 'pub_date': '2024-01-01T14:00:03+0000', 'document_type': 'article', 'news_desk': 'OpEd', 'section_name': 'Opinion', 'byline': {'original': 'By Rachael Scarborough King', 'person': [{'firstname': 'Rachael', 'middlename': 'Scarborough', 'lastname': 'King', 'qualifier': None, 'title': None, 'role': 'reported', 'organization': '', 'rank': 1}], 'organization': None}, 'type_of_material': 'Op-Ed', '_id': 'nyt://article/e898a11b-337e-5747-9e28-f4aefe4d5118', 'word_count': 1770, 'uri': 'nyt://article/e898a11b-337e-5747-9e28-f4aefe4d5118'}, {'abstract': 'By taking over the federal role in immigration enforcement, Governor Abbott of Texas is welcoming a legal fight with the Biden administration.', 'web_url': 'https://www.nytimes.com/2024/01/01/opinion/editorials/greg-abbott-immigration.html', 'snippet': 'By taking over the federal role in immigration enforcement, Governor Abbott of Texas is welcoming a legal fight with the Biden administration.', 'lead_paragraph': 'In mid-December, just one day after Gov. Greg Abbott of Texas signed into law a radical new immigration bill, immigrant rights groups challenged it in court as ridiculously unconstitutional. The groups felt they had no choice, but they did exactly what Texas was counting on, because the point of the law isn’t simply how outrageous it is; it’s about the fight it will cause.', 'print_section': 'A', 'print_page': '19', 'source': 'The New York Times', 'multimedia': [{'rank': 0, 'subtype': 'xlarge', 'caption': None, 'credit': None, 'type': 'image', 'url': 'images/2024/01/03/multimedia/01firestone-lcfw/01firestone-lcfw-articleLarge.jpg', 'height': 400, 'width': 600, 'subType': 'xlarge', 'crop_name': 'articleLarge', 'legacy': {'xlarge': 'images/2024/01/03/multimedia/01firestone-lcfw/01firestone-lcfw-articleLarge.jpg', 'xlargewidth': 600, 'xlargeheight': 400}}, {'rank': 0, 'subtype': 'jumbo', 'caption': None, 'credit': None, 'type': 'image', 'url': 'images/2024/01/03/multimedia/01firestone-lcfw/01firestone-lcfw-jumbo.jpg', 'height': 683, 'width': 1024, 'subType': 'jumbo', 'crop_name': 'jumbo', 'legacy': {}}, {'rank': 0, 'subtype': 'superJumbo', 'caption': None, 'credit': None, 'type': 'image', 'url': 'images/2024/01/03/multimedia/01firestone-lcfw/01firestone-lcfw-superJumbo.jpg', 'height': 1365, 'width': 2048, 'subType': 'superJumbo', 'crop_name': 'superJumbo', 'legacy': {}}, {'rank': 0, 'subtype': 'thumbnail', 'caption': None, 'credit': None, 'type': 'image', 'url': 'images/2024/01/03/multimedia/01firestone-lcfw/01firestone-lcfw-thumbStandard.jpg', 'height': 75, 'width': 75, 'subType': 'thumbnail', 'crop_name': 'thumbStandard', 'legacy': {'thumbnail': 'images/2024/01/03/multimedia/01firestone-lcfw/01firestone-lcfw-thumbStandard.jpg', 'thumbnailwidth': 75, 'thumbnailheight': 75}}, {'rank': 0, 'subtype': 'thumbLarge', 'caption': None, 'credit': None, 'type': 'image', 'url': 'images/2024/01/03/multimedia/01firestone-lcfw/01firestone-lcfw-thumbLarge.jpg', 'height': 150, 'width': 150, 'subType': 'thumbLarge', 'crop_name': 'thumbLarge', 'legacy': {}}], 'headline': {'main': 'Governor Defiance Tries to Usurp Washington’s Role', 'kicker': 'David Firestone', 'content_kicker': None, 'print_headline': 'Governor Defiance’s Unconstitutional Fight', 'name': None, 'seo': None, 'sub': None}, 'keywords': [{'name': 'subject', 'value': 'Illegal Immigration', 'rank': 1, 'major': 'N'}, {'name': 'subject', 'value': 'Suits and Litigation (Civil)', 'rank': 2, 'major': 'N'}, {'name': 'subject', 'value': 'Conservatism (US Politics)', 'rank': 3, 'major': 'N'}, {'name': 'subject', 'value': 'States (US)', 'rank': 4, 'major': 'N'}, {'name': 'subject', 'value': 'Immigration and Emigration', 'rank': 5, 'major': 'N'}, {'name': 'subject', 'value': 'Federal-State Relations (US)', 'rank': 6, 'major': 'N'}, {'name': 'subject', 'value': 'Arizona Immigration Law (SB 1070)', 'rank': 7, 'major': 'N'}, {'name': 'subject', 'value': 'Courts and the Judiciary', 'rank': 8, 'major': 'N'}, {'name': 'organizations', 'value': 'Border Patrol (US)', 'rank': 9, 'major': 'N'}, {'name': 'organizations', 'value': 'Justice Department', 'rank': 10, 'major': 'N'}, {'name': 'organizations', 'value': 'Supreme Court (US)', 'rank': 11, 'major': 'N'}, {'name': 'persons', 'value': 'Abbott, Gregory W (1957- )', 'rank': 12, 'major': 'N'}, {'name': 'persons', 'value': 'Scalia, Antonin', 'rank': 13, 'major': 'N'}, {'name': 'glocations', 'value': 'Arizona', 'rank': 14, 'major': 'N'}, {'name': 'glocations', 'value': 'El Paso (Tex)', 'rank': 15, 'major': 'N'}, {'name': 'glocations', 'value': 'Mexico', 'rank': 16, 'major': 'N'}, {'name': 'glocations', 'value': 'Texas', 'rank': 17, 'major': 'N'}], 'pub_date': '2024-01-01T14:00:06+0000', 'document_type': 'article', 'news_desk': 'Editorial', 'section_name': 'Opinion', 'subsection_name': 'Editorials', 'byline': {'original': 'By David Firestone', 'person': [{'firstname': 'David', 'middlename': None, 'lastname': 'Firestone', 'qualifier': None, 'title': None, 'role': 'reported', 'organization': '', 'rank': 1}], 'organization': None}, 'type_of_material': 'Editorial', '_id': 'nyt://article/f2decfe3-2d54-5734-a9e2-9fe28ade52d9', 'word_count': 1118, 'uri': 'nyt://article/f2decfe3-2d54-5734-a9e2-9fe28ade52d9'}, {'abstract': 'Amid an unhinged far-right presidency and a devastating pandemic, it was a lifeline.', 'web_url': 'https://www.nytimes.com/2024/01/01/opinion/brazil-daughter-stories.html', 'snippet': 'Amid an unhinged far-right presidency and a devastating pandemic, it was a lifeline.', 'lead_paragraph': 'I was nursing a 4-month-old baby when Jair Bolsonaro won Brazil’s presidential election in 2018. It was a disaster, and I knew it right away. My daughter — let’s call her Potato — kept on sucking while I shed tears over her head. Then I changed her into a rainbow onesie to indicate my displeasure with our future president, who once said he was “proud to be homophobic.”', 'print_section': 'A', 'print_page': '19', 'source': 'The New York Times', 'multimedia': [{'rank': 0, 'subtype': 'xlarge', 'caption': None, 'credit': None, 'type': 'image', 'url': 'images/2024/01/22/opinion/01barbara/01barbara-articleLarge.jpg', 'height': 469, 'width': 600, 'subType': 'xlarge', 'crop_name': 'articleLarge', 'legacy': {'xlarge': 'images/2024/01/22/opinion/01barbara/01barbara-articleLarge.jpg', 'xlargewidth': 600, 'xlargeheight': 469}}, {'rank': 0, 'subtype': 'jumbo', 'caption': None, 'credit': None, 'type': 'image', 'url': 'images/2024/01/22/opinion/01barbara/01barbara-jumbo.jpg', 'height': 801, 'width': 1024, 'subType': 'jumbo', 'crop_name': 'jumbo', 'legacy': {}}, {'rank': 0, 'subtype': 'superJumbo', 'caption': None, 'credit': None, 'type': 'image', 'url': 'images/2024/01/22/opinion/01barbara/01barbara-superJumbo.jpg', 'height': 1602, 'width': 2048, 'subType': 'superJumbo', 'crop_name': 'superJumbo', 'legacy': {}}, {'rank': 0, 'subtype': 'thumbnail', 'caption': None, 'credit': None, 'type': 'image', 'url': 'images/2024/01/22/opinion/01barbara/01barbara-thumbStandard.jpg', 'height': 75, 'width': 75, 'subType': 'thumbnail', 'crop_name': 'thumbStandard', 'legacy': {'thumbnail': 'images/2024/01/22/opinion/01barbara/01barbara-thumbStandard.jpg', 'thumbnailwidth': 75, 'thumbnailheight': 75}}, {'rank': 0, 'subtype': 'thumbLarge', 'caption': None, 'credit': None, 'type': 'image', 'url': 'images/2024/01/22/opinion/01barbara/01barbara-thumbLarge.jpg', 'height': 150, 'width': 150, 'subType': 'thumbLarge', 'crop_name': 'thumbLarge', 'legacy': {}}], 'headline': {'main': 'How Telling Stories to My Daughter Got Me Through the Darkest Times', 'kicker': 'Guest Essay', 'content_kicker': None, 'print_headline': 'In Dark Times, I Told My Little Girl Stories', 'name': None, 'seo': None, 'sub': None}, 'keywords': [{'name': 'glocations', 'value': 'Brazil', 'rank': 1, 'major': 'N'}, {'name': 'persons', 'value': 'Bolsonaro, Jair (1955- )', 'rank': 2, 'major': 'N'}, {'name': 'persons', 'value': 'Da Silva, Luiz Inacio Lula', 'rank': 3, 'major': 'N'}, {'name': 'subject', 'value': 'Coronavirus (2019-nCoV)', 'rank': 4, 'major': 'N'}, {'name': 'subject', 'value': 'Families and Family Life', 'rank': 5, 'major': 'N'}, {'name': 'subject', 'value': 'Depression (Mental)', 'rank': 6, 'major': 'N'}], 'pub_date': '2024-01-01T14:00:12+0000', 'document_type': 'article', 'news_desk': 'OpEd', 'section_name': 'Opinion', 'byline': {'original': 'By Vanessa Barbara', 'person': [{'firstname': 'Vanessa', 'middlename': None, 'lastname': 'Barbara', 'qualifier': None, 'title': None, 'role': 'reported', 'organization': '', 'rank': 1}], 'organization': None}, 'type_of_material': 'Op-Ed', '_id': 'nyt://article/1608e08f-2ef7-512c-8526-2ad7f6c3c88e', 'word_count': 1182, 'uri': 'nyt://article/1608e08f-2ef7-512c-8526-2ad7f6c3c88e'}, {'abstract': 'Feeling other people’s pain is not the best way to help them — or yourself.', 'web_url': 'https://www.nytimes.com/2024/01/01/opinion/israel-war-empathy-pain.html', 'snippet': 'Feeling other people’s pain is not the best way to help them — or yourself.', 'lead_paragraph': 'In mid-October, a few days after the attack on Israel, a friend sent me a text from a rabbi. She said she couldn’t look away from the horror on the news but felt completely numb. She was struggling to feel even the tiniest bit useful: “What can I even do?”', 'print_section': 'A', 'print_page': '18', 'source': 'The New York Times', 'multimedia': [{'rank': 0, 'subtype': 'xlarge', 'caption': None, 'credit': None, 'type': 'image', 'url': 'images/2024/01/06/opinion/30grant/30grant-articleLarge-v2.jpg', 'height': 600, 'width': 600, 'subType': 'xlarge', 'crop_name': 'articleLarge', 'legacy': {'xlarge': 'images/2024/01/06/opinion/30grant/30grant-articleLarge-v2.jpg', 'xlargewidth': 600, 'xlargeheight': 600}}, {'rank': 0, 'subtype': 'jumbo', 'caption': None, 'credit': None, 'type': 'image', 'url': 'images/2024/01/06/opinion/30grant/30grant-jumbo-v2.jpg', 'height': 1024, 'width': 1024, 'subType': 'jumbo', 'crop_name': 'jumbo', 'legacy': {}}, {'rank': 0, 'subtype': 'superJumbo', 'caption': None, 'credit': None, 'type': 'image', 'url': 'images/2024/01/06/opinion/30grant/30grant-superJumbo-v2.jpg', 'height': 2048, 'width': 2048, 'subType': 'superJumbo', 'crop_name': 'superJumbo', 'legacy': {}}, {'rank': 0, 'subtype': 'thumbnail', 'caption': None, 'credit': None, 'type': 'image', 'url': 'images/2024/01/06/opinion/30grant/30grant-thumbStandard-v3.jpg', 'height': 75, 'width': 75, 'subType': 'thumbnail', 'crop_name': 'thumbStandard', 'legacy': {'thumbnail': 'images/2024/01/06/opinion/30grant/30grant-thumbStandard-v3.jpg', 'thumbnailwidth': 75, 'thumbnailheight': 75}}, {'rank': 0, 'subtype': 'thumbLarge', 'caption': None, 'credit': None, 'type': 'image', 'url': 'images/2024/01/06/opinion/30grant/30grant-thumbLarge-v3.jpg', 'height': 150, 'width': 150, 'subType': 'thumbLarge', 'crop_name': 'thumbLarge', 'legacy': {}}], 'headline': {'main': 'That Numbness You’re Feeling? There’s a Word for It.', 'kicker': 'Guest Essay', 'content_kicker': None, 'print_headline': 'There’s a Reason You Feel Overwhelmed and Immobilized', 'name': None, 'seo': None, 'sub': None}, 'keywords': [{'name': 'subject', 'value': 'Empathy', 'rank': 1, 'major': 'N'}, {'name': 'subject', 'value': 'Psychology and Psychologists', 'rank': 2, 'major': 'N'}, {'name': 'subject', 'value': 'Muslim Americans', 'rank': 3, 'major': 'N'}, {'name': 'subject', 'value': 'Jews and Judaism', 'rank': 4, 'major': 'N'}, {'name': 'subject', 'value': 'Israel-Gaza War (2023- )', 'rank': 5, 'major': 'N'}, {'name': 'glocations', 'value': 'Israel', 'rank': 6, 'major': 'N'}, {'name': 'glocations', 'value': 'Gaza Strip', 'rank': 7, 'major': 'N'}], 'pub_date': '2024-01-01T14:00:13+0000', 'document_type': 'article', 'news_desk': 'OpEd', 'section_name': 'Opinion', 'byline': {'original': 'By Adam Grant', 'person': [{'firstname': 'Adam', 'middlename': None, 'lastname': 'Grant', 'qualifier': None, 'title': None, 'role': 'reported', 'organization': '', 'rank': 1}], 'organization': None}, 'type_of_material': 'Op-Ed', '_id': 'nyt://article/99171987-1467-5710-a114-7f038741a837', 'word_count': 1203, 'uri': 'nyt://article/99171987-1467-5710-a114-7f038741a837'}, {'abstract': 'Even if he never wins a general election again, he retains his hold. The endurance of that power is incredible.', 'web_url': 'https://www.nytimes.com/2024/01/01/opinion/trump-reelection-nominee.html', 'snippet': 'Even if he never wins a general election again, he retains his hold. The endurance of that power is incredible.', 'lead_paragraph': 'When was the last time you listened to Donald Trump speak at length? There’s a qualitative way to think about this question, about the substance of what he’s saying: He is still talking — perhaps more than people realize — about how the last election was stolen from him, and he treats the 2020 election as a Year Zero event that has ruined the world.', 'source': 'The New York Times', 'multimedia': [{'rank': 0, 'subtype': 'xlarge', 'caption': None, 'credit': None, 'type': 'image', 'url': 'images/2024/01/01/opinion/01miller/01miller-articleLarge.jpg', 'height': 600, 'width': 600, 'subType': 'xlarge', 'crop_name': 'articleLarge', 'legacy': {'xlarge': 'images/2024/01/01/opinion/01miller/01miller-articleLarge.jpg', 'xlargewidth': 600, 'xlargeheight': 600}}, {'rank': 0, 'subtype': 'jumbo', 'caption': None, 'credit': None, 'type': 'image', 'url': 'images/2024/01/01/opinion/01miller/01miller-jumbo.jpg', 'height': 1024, 'width': 1024, 'subType': 'jumbo', 'crop_name': 'jumbo', 'legacy': {}}, {'rank': 0, 'subtype': 'superJumbo', 'caption': None, 'credit': None, 'type': 'image', 'url': 'images/2024/01/01/opinion/01miller/01miller-superJumbo.jpg', 'height': 1800, 'width': 1800, 'subType': 'superJumbo', 'crop_name': 'superJumbo', 'legacy': {}}, {'rank': 0, 'subtype': 'thumbnail', 'caption': None, 'credit': None, 'type': 'image', 'url': 'images/2024/01/01/opinion/01miller/01miller-thumbStandard.jpg', 'height': 75, 'width': 75, 'subType': 'thumbnail', 'crop_name': 'thumbStandard', 'legacy': {'thumbnail': 'images/2024/01/01/opinion/01miller/01miller-thumbStandard.jpg', 'thumbnailwidth': 75, 'thumbnailheight': 75}}, {'rank': 0, 'subtype': 'thumbLarge', 'caption': None, 'credit': None, 'type': 'image', 'url': 'images/2024/01/01/opinion/01miller/01miller-thumbLarge.jpg', 'height': 150, 'width': 150, 'subType': 'thumbLarge', 'crop_name': 'thumbLarge', 'legacy': {}}], 'headline': {'main': 'Trump Cacophony Hits Differently This Time', 'kicker': 'Katherine Miller', 'content_kicker': None, 'print_headline': '', 'name': None, 'seo': None, 'sub': None}, 'keywords': [{'name': 'persons', 'value': 'Trump, Donald J', 'rank': 1, 'major': 'N'}, {'name': 'subject', 'value': 'Presidential Election of 2024', 'rank': 2, 'major': 'N'}, {'name': 'subject', 'value': 'Social Media', 'rank': 3, 'major': 'N'}, {'name': 'subject', 'value': 'Polls and Public Opinion', 'rank': 4, 'major': 'N'}, {'name': 'subject', 'value': 'Presidential Election of 2016', 'rank': 5, 'major': 'N'}, {'name': 'persons', 'value': 'Biden, Joseph R Jr', 'rank': 6, 'major': 'N'}, {'name': 'organizations', 'value': 'TikTok (ByteDance)', 'rank': 7, 'major': 'N'}, {'name': 'organizations', 'value': 'Facebook Inc', 'rank': 8, 'major': 'N'}, {'name': 'subject', 'value': 'New York State Criminal Case Against Trump (71543-23)', 'rank': 9, 'major': 'N'}], 'pub_date': '2024-01-01T14:00:15+0000', 'document_type': 'article', 'news_desk': 'OpEd', 'section_name': 'Opinion', 'byline': {'original': 'By Katherine Miller', 'person': [{'firstname': 'Katherine', 'middlename': None, 'lastname': 'Miller', 'qualifier': None, 'title': None, 'role': 'reported', 'organization': '', 'rank': 1}], 'organization': None}, 'type_of_material': 'Op-Ed', '_id': 'nyt://article/111f8339-7bd7-5567-ba9f-7688e6089b28', 'word_count': 1380, 'uri': 'nyt://article/111f8339-7bd7-5567-ba9f-7688e6089b28'}, {'abstract': 'And will voters accept the good news?', 'web_url': 'https://www.nytimes.com/2024/01/01/opinion/economy-crime-presidential-election.html', 'snippet': 'And will voters accept the good news?', 'lead_paragraph': 'Almost four years have passed since Covid-19 struck. In America, the pandemic killed well over a million people and left millions more with lingering health problems. Much of normal life came to a halt, partly because of official lockdowns but largely because fear of infection kept people home.', 'print_section': 'A', 'print_page': '17', 'source': 'The New York Times', 'multimedia': [{'rank': 0, 'subtype': 'xlarge', 'caption': None, 'credit': None, 'type': 'image', 'url': 'images/2024/01/02/opinion/01krugman/01krugman-articleLarge.jpg', 'height': 750, 'width': 600, 'subType': 'xlarge', 'crop_name': 'articleLarge', 'legacy': {'xlarge': 'images/2024/01/02/opinion/01krugman/01krugman-articleLarge.jpg', 'xlargewidth': 600, 'xlargeheight': 750}}, {'rank': 0, 'subtype': 'jumbo', 'caption': None, 'credit': None, 'type': 'image', 'url': 'images/2024/01/02/opinion/01krugman/01krugman-jumbo.jpg', 'height': 1024, 'width': 820, 'subType': 'jumbo', 'crop_name': 'jumbo', 'legacy': {}}, {'rank': 0, 'subtype': 'superJumbo', 'caption': None, 'credit': None, 'type': 'image', 'url': 'images/2024/01/02/opinion/01krugman/01krugman-superJumbo.jpg', 'height': 2048, 'width': 1639, 'subType': 'superJumbo', 'crop_name': 'superJumbo', 'legacy': {}}, {'rank': 0, 'subtype': 'thumbnail', 'caption': None, 'credit': None, 'type': 'image', 'url': 'images/2024/01/02/opinion/01krugman/01krugman-thumbStandard.jpg', 'height': 75, 'width': 75, 'subType': 'thumbnail', 'crop_name': 'thumbStandard', 'legacy': {'thumbnail': 'images/2024/01/02/opinion/01krugman/01krugman-thumbStandard.jpg', 'thumbnailwidth': 75, 'thumbnailheight': 75}}, {'rank': 0, 'subtype': 'thumbLarge', 'caption': None, 'credit': None, 'type': 'image', 'url': 'images/2024/01/02/opinion/01krugman/01krugman-thumbLarge.jpg', 'height': 150, 'width': 150, 'subType': 'thumbLarge', 'crop_name': 'thumbLarge', 'legacy': {}}], 'headline': {'main': 'Is America on the Mend?', 'kicker': 'Paul Krugman', 'content_kicker': None, 'print_headline': 'Is America on the Mend?', 'name': None, 'seo': None, 'sub': None}, 'keywords': [{'name': 'subject', 'value': 'Coronavirus (2019-nCoV)', 'rank': 1, 'major': 'N'}, {'name': 'subject', 'value': 'United States Economy', 'rank': 2, 'major': 'N'}, {'name': 'subject', 'value': 'Inflation (Economics)', 'rank': 3, 'major': 'N'}, {'name': 'subject', 'value': 'Labor and Jobs', 'rank': 4, 'major': 'N'}, {'name': 'subject', 'value': 'Polls and Public Opinion', 'rank': 5, 'major': 'N'}, {'name': 'subject', 'value': 'Presidential Election of 2024', 'rank': 6, 'major': 'N'}, {'name': 'subject', 'value': 'Crime and Criminals', 'rank': 7, 'major': 'N'}, {'name': 'glocations', 'value': 'United States', 'rank': 8, 'major': 'N'}], 'pub_date': '2024-01-01T14:00:15+0000', 'document_type': 'article', 'news_desk': 'OpEd', 'section_name': 'Opinion', 'byline': {'original': 'By Paul Krugman', 'person': [{'firstname': 'Paul', 'middlename': None, 'lastname': 'Krugman', 'qualifier': None, 'title': None, 'role': 'reported', 'organization': '', 'rank': 1}], 'organization': None}, 'type_of_material': 'Op-Ed', '_id': 'nyt://article/faf4a984-ba11-5e5d-bbdc-f8eb15cf4a38', 'word_count': 902, 'uri': 'nyt://article/faf4a984-ba11-5e5d-bbdc-f8eb15cf4a38'}, {'abstract': 'View the location of the quake’s epicenter and shake area.', 'web_url': 'https://www.nytimes.com/interactive/2024/01/01/world/asia/japan-earthquake-map.html', 'snippet': 'View the location of the quake’s epicenter and shake area.', 'lead_paragraph': 'View the location of the quake’s epicenter and shake area.', 'source': 'The New York Times', 'multimedia': [{'rank': 0, 'subtype': 'xlarge', 'caption': None, 'credit': None, 'type': 'image', 'url': 'images/2024/01/01/world/01wea-quake-tracker-japan-index/01wea-quake-tracker-japan-index-articleLarge-v18.jpg', 'height': 400, 'width': 600, 'subType': 'xlarge', 'crop_name': 'articleLarge', 'legacy': {'xlarge': 'images/2024/01/01/world/01wea-quake-tracker-japan-index/01wea-quake-tracker-japan-index-articleLarge-v18.jpg', 'xlargewidth': 600, 'xlargeheight': 400}}, {'rank': 0, 'subtype': 'jumbo', 'caption': None, 'credit': None, 'type': 'image', 'url': 'images/2024/01/01/world/01wea-quake-tracker-japan-index/01wea-quake-tracker-japan-index-jumbo-v18.jpg', 'height': 682, 'width': 1024, 'subType': 'jumbo', 'crop_name': 'jumbo', 'legacy': {}}, {'rank': 0, 'subtype': 'superJumbo', 'caption': None, 'credit': None, 'type': 'image', 'url': 'images/2024/01/01/world/01wea-quake-tracker-japan-index/01wea-quake-tracker-japan-index-superJumbo-v18.jpg', 'height': 1333, 'width': 2000, 'subType': 'superJumbo', 'crop_name': 'superJumbo', 'legacy': {}}, {'rank': 0, 'subtype': 'thumbnail', 'caption': None, 'credit': None, 'type': 'image', 'url': 'images/2024/01/01/world/01wea-quake-tracker-japan-index/01wea-quake-tracker-japan-index-thumbStandard-v18.jpg', 'height': 75, 'width': 75, 'subType': 'thumbnail', 'crop_name': 'thumbStandard', 'legacy': {'thumbnail': 'images/2024/01/01/world/01wea-quake-tracker-japan-index/01wea-quake-tracker-japan-index-thumbStandard-v18.jpg', 'thumbnailwidth': 75, 'thumbnailheight': 75}}, {'rank': 0, 'subtype': 'thumbLarge', 'caption': None, 'credit': None, 'type': 'image', 'url': 'images/2024/01/01/world/01wea-quake-tracker-japan-index/01wea-quake-tracker-japan-index-thumbLarge-v18.jpg', 'height': 150, 'width': 150, 'subType': 'thumbLarge', 'crop_name': 'thumbLarge', 'legacy': {}}], 'headline': {'main': 'Map: Earthquake Strikes Japan', 'kicker': None, 'content_kicker': None, 'print_headline': '', 'name': None, 'seo': None, 'sub': None}, 'keywords': [{'name': 'subject', 'value': 'Earthquakes', 'rank': 1, 'major': 'N'}, {'name': 'subject', 'value': 'Japan Earthquake and Tsunami (2011)', 'rank': 2, 'major': 'N'}, {'name': 'subject', 'value': 'Maps', 'rank': 3, 'major': 'N'}, {'name': 'glocations', 'value': 'Japan', 'rank': 4, 'major': 'N'}], 'pub_date': '2024-01-01T14:08:08+0000', 'document_type': 'multimedia', 'news_desk': 'Weather', 'section_name': 'World', 'subsection_name': 'Asia Pacific', 'byline': {'original': 'By William B. Davis, Madison Dong, Judson Jones, John Keefe and Bea Malsky', 'person': [{'firstname': 'William', 'middlename': None, 'lastname': '', 'qualifier': None, 'title': None, 'role': 'reported', 'organization': '', 'rank': 1}], 'organization': None}, 'type_of_material': 'Interactive Feature', '_id': 'nyt://interactive/d3fc031c-9ce6-5475-8b4c-a550d5516699', 'word_count': 0, 'uri': 'nyt://interactive/d3fc031c-9ce6-5475-8b4c-a550d5516699'}, {'abstract': 'My five-star recipe freezes like a dream, too — make a double batch as insurance against those dragging, deep winter days.', 'web_url': 'https://www.nytimes.com/2024/01/01/dining/lemony-white-bean-soup-with-turkey-and-greens-to-kick-start-the-new-year.html', 'snippet': 'My five-star recipe freezes like a dream, too — make a double batch as insurance against those dragging, deep winter days.', 'lead_paragraph': 'Happy 2024! How did you ring it in? Were you in beast mode last night, shimmying from one party to the next? Or were you among those who welcomed the new year tranquilly from home? My household is Team Tranquil: a classic movie, a glass of Champagne and bed by 12:06. That means I’ve preserved enough pep today to cook something hearty and healthful to start the year — to set an intention, as they say, to widen my diet to include foods that aren’t cookies.', 'source': 'The New York Times', 'multimedia': [{'rank': 0, 'subtype': 'xlarge', 'caption': None, 'credit': None, 'type': 'image', 'url': 'images/2021/03/21/dining/08Apperex/08Apperex-articleLarge.jpg', 'height': 367, 'width': 600, 'subType': 'xlarge', 'crop_name': 'articleLarge', 'legacy': {'xlarge': 'images/2021/03/21/dining/08Apperex/08Apperex-articleLarge.jpg', 'xlargewidth': 600, 'xlargeheight': 367}}, {'rank': 0, 'subtype': 'jumbo', 'caption': None, 'credit': None, 'type': 'image', 'url': 'images/2021/03/21/dining/08Apperex/08Apperex-jumbo.jpg', 'height': 626, 'width': 1024, 'subType': 'jumbo', 'crop_name': 'jumbo', 'legacy': {}}, {'rank': 0, 'subtype': 'superJumbo', 'caption': None, 'credit': None, 'type': 'image', 'url': 'images/2021/03/21/dining/08Apperex/08Apperex-superJumbo.jpg', 'height': 1252, 'width': 2048, 'subType': 'superJumbo', 'crop_name': 'superJumbo', 'legacy': {}}, {'rank': 0, 'subtype': 'thumbnail', 'caption': None, 'credit': None, 'type': 'image', 'url': 'images/2021/03/21/dining/08Apperex/08Apperex-thumbStandard.jpg', 'height': 75, 'width': 75, 'subType': 'thumbnail', 'crop_name': 'thumbStandard', 'legacy': {'thumbnail': 'images/2021/03/21/dining/08Apperex/08Apperex-thumbStandard.jpg', 'thumbnailwidth': 75, 'thumbnailheight': 75}}, {'rank': 0, 'subtype': 'thumbLarge', 'caption': None, 'credit': None, 'type': 'image', 'url': 'images/2021/03/21/dining/08Apperex/08Apperex-thumbLarge.jpg', 'height': 150, 'width': 150, 'subType': 'thumbLarge', 'crop_name': 'thumbLarge', 'legacy': {}}], 'headline': {'main': 'Lemony White Bean Soup With Turkey and Greens to Kick-Start the New Year', 'kicker': None, 'content_kicker': None, 'print_headline': '', 'name': None, 'seo': None, 'sub': None}, 'keywords': [{'name': 'subject', 'value': 'Cooking and Cookbooks', 'rank': 1, 'major': 'N'}, {'name': 'subject', 'value': 'Content Type: Service', 'rank': 2, 'major': 'N'}], 'pub_date': '2024-01-01T16:00:02+0000', 'document_type': 'article', 'news_desk': 'Dining', 'section_name': 'Food', 'byline': {'original': 'By Melissa Clark', 'person': [{'firstname': 'Melissa', 'middlename': None, 'lastname': 'Clark', 'qualifier': None, 'title': None, 'role': 'reported', 'organization': '', 'rank': 1}], 'organization': None}, 'type_of_material': 'Letter', '_id': 'nyt://article/dcea7519-b077-5b51-98e9-411b5a35c030', 'word_count': 569, 'uri': 'nyt://article/dcea7519-b077-5b51-98e9-411b5a35c030'}, {'abstract': 'Readers discuss a guest essay about the war’s toll in Gaza. Also: Western businesses in Russia; abortion pill case; dogs and social media.', 'web_url': 'https://www.nytimes.com/2024/01/01/opinion/letters/gaza-mayor.html', 'snippet': 'Readers discuss a guest essay about the war’s toll in Gaza. Also: Western businesses in Russia; abortion pill case; dogs and social media.', 'lead_paragraph': 'To the Editor:', 'print_section': 'A', 'print_page': '17', 'source': 'The New York Times', 'multimedia': [{'rank': 0, 'subtype': 'xlarge', 'caption': None, 'credit': None, 'type': 'image', 'url': 'images/2023/12/22/opinion/22sarraj/22sarraj-articleLarge.jpg', 'height': 399, 'width': 600, 'subType': 'xlarge', 'crop_name': 'articleLarge', 'legacy': {'xlarge': 'images/2023/12/22/opinion/22sarraj/22sarraj-articleLarge.jpg', 'xlargewidth': 600, 'xlargeheight': 399}}, {'rank': 0, 'subtype': 'jumbo', 'caption': None, 'credit': None, 'type': 'image', 'url': 'images/2023/12/22/opinion/22sarraj/22sarraj-jumbo.jpg', 'height': 607, 'width': 912, 'subType': 'jumbo', 'crop_name': 'jumbo', 'legacy': {}}, {'rank': 0, 'subtype': 'superJumbo', 'caption': None, 'credit': None, 'type': 'image', 'url': 'images/2023/12/22/opinion/22sarraj/22sarraj-superJumbo.jpg', 'height': 607, 'width': 912, 'subType': 'superJumbo', 'crop_name': 'superJumbo', 'legacy': {}}, {'rank': 0, 'subtype': 'thumbnail', 'caption': None, 'credit': None, 'type': 'image', 'url': 'images/2023/12/22/opinion/22sarraj/22sarraj-thumbStandard.jpg', 'height': 75, 'width': 75, 'subType': 'thumbnail', 'crop_name': 'thumbStandard', 'legacy': {'thumbnail': 'images/2023/12/22/opinion/22sarraj/22sarraj-thumbStandard.jpg', 'thumbnailwidth': 75, 'thumbnailheight': 75}}, {'rank': 0, 'subtype': 'thumbLarge', 'caption': None, 'credit': None, 'type': 'image', 'url': 'images/2023/12/22/opinion/22sarraj/22sarraj-thumbLarge.jpg', 'height': 150, 'width': 150, 'subType': 'thumbLarge', 'crop_name': 'thumbLarge', 'legacy': {}}], 'headline': {'main': 'A Gaza Mayor’s View of the Conflict', 'kicker': 'letters', 'content_kicker': None, 'print_headline': 'A Gaza Mayor’s View of the Confl\\x81ict', 'name': None, 'seo': None, 'sub': None}, 'keywords': [{'name': 'subject', 'value': 'Israel-Gaza War (2023- )', 'rank': 1, 'major': 'N'}, {'name': 'subject', 'value': 'Social Media', 'rank': 2, 'major': 'N'}, {'name': 'subject', 'value': 'War Crimes, Genocide and Crimes Against Humanity', 'rank': 3, 'major': 'N'}, {'name': 'subject', 'value': 'Palestinians', 'rank': 4, 'major': 'N'}, {'name': 'subject', 'value': 'Abortion', 'rank': 5, 'major': 'N'}, {'name': 'subject', 'value': 'Abortion Drugs', 'rank': 6, 'major': 'N'}, {'name': 'subject', 'value': 'Anti-Semitism', 'rank': 7, 'major': 'N'}, {'name': 'subject', 'value': 'Russian Invasion of Ukraine (2022)', 'rank': 8, 'major': 'N'}, {'name': 'subject', 'value': 'Dogs', 'rank': 9, 'major': 'N'}, {'name': 'subject', 'value': 'Pets', 'rank': 10, 'major': 'N'}, {'name': 'subject', 'value': 'International Relations', 'rank': 11, 'major': 'N'}, {'name': 'organizations', 'value': 'Hamas', 'rank': 12, 'major': 'N'}, {'name': 'organizations', 'value': 'Supreme Court (US)', 'rank': 13, 'major': 'N'}, {'name': 'persons', 'value': 'Putin, Vladimir V', 'rank': 14, 'major': 'N'}, {'name': 'glocations', 'value': 'Gaza Strip', 'rank': 15, 'major': 'N'}, {'name': 'glocations', 'value': 'Israel', 'rank': 16, 'major': 'N'}, {'name': 'glocations', 'value': 'Russia', 'rank': 17, 'major': 'N'}, {'name': 'glocations', 'value': 'Ukraine', 'rank': 18, 'major': 'N'}], 'pub_date': '2024-01-01T16:00:07+0000', 'document_type': 'article', 'news_desk': 'Letters', 'section_name': 'Opinion', 'subsection_name': 'Letters', 'byline': {'original': '', 'person': [], 'organization': None}, 'type_of_material': 'Letter', '_id': 'nyt://article/6323e296-a218-59d2-932d-eaca9483792b', 'word_count': 1187, 'uri': 'nyt://article/6323e296-a218-59d2-932d-eaca9483792b'}, {'abstract': 'Starring a magnetic Aigul Akhmetshina, Carrie Cracknell’s lethargic staging updates Bizet’s opera to present-day America.', 'web_url': 'https://www.nytimes.com/2024/01/01/arts/music/carmen-bizet-met-opera-review.html', 'snippet': 'Starring a magnetic Aigul Akhmetshina, Carrie Cracknell’s lethargic staging updates Bizet’s opera to present-day America.', 'lead_paragraph': 'The Metropolitan Opera says its new production of “Carmen” aims at “reinvigorating the classic story.”', 'print_section': 'C', 'print_page': '1', 'source': 'The New York Times', 'multimedia': [{'rank': 0, 'subtype': 'xlarge', 'caption': None, 'credit': None, 'type': 'image', 'url': 'images/2024/01/01/multimedia/01CARMEN-tmqk/01CARMEN-tmqk-articleLarge.jpg', 'height': 400, 'width': 600, 'subType': 'xlarge', 'crop_name': 'articleLarge', 'legacy': {'xlarge': 'images/2024/01/01/multimedia/01CARMEN-tmqk/01CARMEN-tmqk-articleLarge.jpg', 'xlargewidth': 600, 'xlargeheight': 400}}, {'rank': 0, 'subtype': 'jumbo', 'caption': None, 'credit': None, 'type': 'image', 'url': 'images/2024/01/01/multimedia/01CARMEN-tmqk/01CARMEN-tmqk-jumbo.jpg', 'height': 683, 'width': 1024, 'subType': 'jumbo', 'crop_name': 'jumbo', 'legacy': {}}, {'rank': 0, 'subtype': 'superJumbo', 'caption': None, 'credit': None, 'type': 'image', 'url': 'images/2024/01/01/multimedia/01CARMEN-tmqk/01CARMEN-tmqk-superJumbo.jpg', 'height': 1365, 'width': 2048, 'subType': 'superJumbo', 'crop_name': 'superJumbo', 'legacy': {}}, {'rank': 0, 'subtype': 'thumbnail', 'caption': None, 'credit': None, 'type': 'image', 'url': 'images/2024/01/01/multimedia/01CARMEN-tmqk/01CARMEN-tmqk-thumbStandard-v2.jpg', 'height': 75, 'width': 75, 'subType': 'thumbnail', 'crop_name': 'thumbStandard', 'legacy': {'thumbnail': 'images/2024/01/01/multimedia/01CARMEN-tmqk/01CARMEN-tmqk-thumbStandard-v2.jpg', 'thumbnailwidth': 75, 'thumbnailheight': 75}}, {'rank': 0, 'subtype': 'thumbLarge', 'caption': None, 'credit': None, 'type': 'image', 'url': 'images/2024/01/01/multimedia/01CARMEN-tmqk/01CARMEN-tmqk-thumbLarge-v2.jpg', 'height': 150, 'width': 150, 'subType': 'thumbLarge', 'crop_name': 'thumbLarge', 'legacy': {}}], 'headline': {'main': 'Review: The Met’s New ‘Carmen’ Trades Castanets for Cutoffs', 'kicker': None, 'content_kicker': None, 'print_headline': 'Reimagining a Classic With Cowboy Boots', 'name': None, 'seo': None, 'sub': None}, 'keywords': [{'name': 'subject', 'value': 'Opera', 'rank': 1, 'major': 'N'}, {'name': 'creative_works', 'value': 'Carmen (Opera)', 'rank': 2, 'major': 'N'}, {'name': 'organizations', 'value': 'Metropolitan Opera', 'rank': 3, 'major': 'N'}, {'name': 'persons', 'value': 'Akhmetshina, Aigul', 'rank': 4, 'major': 'N'}, {'name': 'persons', 'value': 'Bizet, Georges', 'rank': 5, 'major': 'N'}, {'name': 'persons', 'value': 'Blue, Angel', 'rank': 6, 'major': 'N'}, {'name': 'persons', 'value': 'Cracknell, Carrie', 'rank': 7, 'major': 'N'}, {'name': 'persons', 'value': 'Rustioni, Daniele', 'rank': 8, 'major': 'N'}], 'pub_date': '2024-01-01T16:36:33+0000', 'document_type': 'article', 'news_desk': 'Culture', 'section_name': 'Arts', 'subsection_name': 'Music', 'byline': {'original': 'By Zachary Woolfe', 'person': [{'firstname': 'Zachary', 'middlename': None, 'lastname': 'Woolfe', 'qualifier': None, 'title': None, 'role': 'reported', 'organization': '', 'rank': 1}], 'organization': None}, 'type_of_material': 'Review', '_id': 'nyt://article/32be2fa0-209f-5984-9eda-bb443f42c450', 'word_count': 1132, 'uri': 'nyt://article/32be2fa0-209f-5984-9eda-bb443f42c450'}, {'abstract': 'He released more than 50 albums but had his greatest commercial success with “Compared to What,” a recording that came together at the last minute in 1969.', 'web_url': 'https://www.nytimes.com/2024/01/01/arts/music/les-mccann-dead.html', 'snippet': 'He released more than 50 albums but had his greatest commercial success with “Compared to What,” a recording that came together at the last minute in 1969.', 'lead_paragraph': 'Les McCann, a jazz pianist and vocalist who was an early progenitor of the bluesy, crowd-pleasing style that came to be known as soul jazz, and who, although he released more than 50 albums, was best known for a happenstance hit from 1969, died on Friday in Los Angeles. He was 88.', 'print_section': 'A', 'print_page': '15', 'source': 'The New York Times', 'multimedia': [{'rank': 0, 'subtype': 'xlarge', 'caption': None, 'credit': None, 'type': 'image', 'url': 'images/2024/01/02/obituaries/31obit-mccann-1-print1/31obit-mccann-1-articleLarge.jpg', 'height': 397, 'width': 600, 'subType': 'xlarge', 'crop_name': 'articleLarge', 'legacy': {'xlarge': 'images/2024/01/02/obituaries/31obit-mccann-1-print1/31obit-mccann-1-articleLarge.jpg', 'xlargewidth': 600, 'xlargeheight': 397}}, {'rank': 0, 'subtype': 'jumbo', 'caption': None, 'credit': None, 'type': 'image', 'url': 'images/2024/01/02/obituaries/31obit-mccann-1-print1/31obit-mccann-1-jumbo.jpg', 'height': 678, 'width': 1024, 'subType': 'jumbo', 'crop_name': 'jumbo', 'legacy': {}}, {'rank': 0, 'subtype': 'superJumbo', 'caption': None, 'credit': None, 'type': 'image', 'url': 'images/2024/01/02/obituaries/31obit-mccann-1-print1/31obit-mccann-1-superJumbo.jpg', 'height': 1356, 'width': 2048, 'subType': 'superJumbo', 'crop_name': 'superJumbo', 'legacy': {}}, {'rank': 0, 'subtype': 'thumbnail', 'caption': None, 'credit': None, 'type': 'image', 'url': 'images/2024/01/02/obituaries/31obit-mccann-1-print1/31obit-mccann-1-thumbStandard.jpg', 'height': 75, 'width': 75, 'subType': 'thumbnail', 'crop_name': 'thumbStandard', 'legacy': {'thumbnail': 'images/2024/01/02/obituaries/31obit-mccann-1-print1/31obit-mccann-1-thumbStandard.jpg', 'thumbnailwidth': 75, 'thumbnailheight': 75}}, {'rank': 0, 'subtype': 'thumbLarge', 'caption': None, 'credit': None, 'type': 'image', 'url': 'images/2024/01/02/obituaries/31obit-mccann-1-print1/31obit-mccann-1-thumbLarge.jpg', 'height': 150, 'width': 150, 'subType': 'thumbLarge', 'crop_name': 'thumbLarge', 'legacy': {}}], 'headline': {'main': 'Les McCann, Pianist, Singer and Soul Jazz Pioneer, Dies at 88', 'kicker': None, 'content_kicker': None, 'print_headline': 'Les McCann, 88, Jazz Pianist and Singer Brimming With Soul, Dies', 'name': None, 'seo': None, 'sub': None}, 'keywords': [{'name': 'persons', 'value': 'McCann, Les (1935-2023)', 'rank': 1, 'major': 'N'}, {'name': 'subject', 'value': 'Jazz', 'rank': 2, 'major': 'N'}, {'name': 'subject', 'value': 'Rhythm and Blues (Music)', 'rank': 3, 'major': 'N'}, {'name': 'subject', 'value': 'Deaths (Obituaries)', 'rank': 4, 'major': 'N'}, {'name': 'organizations', 'value': 'Atlantic Records', 'rank': 7, 'major': 'N'}], 'pub_date': '2024-01-01T17:06:07+0000', 'document_type': 'article', 'news_desk': 'Obits', 'section_name': 'Arts', 'subsection_name': 'Music', 'byline': {'original': 'By Andrey Henkin', 'person': [{'firstname': 'Andrey', 'middlename': None, 'lastname': 'Henkin', 'qualifier': None, 'title': None, 'role': 'reported', 'organization': '', 'rank': 1}], 'organization': None}, 'type_of_material': 'Obituary (Obit)', '_id': 'nyt://article/af7c891e-2637-5944-887b-40f57f335361', 'word_count': 1308, 'uri': 'nyt://article/af7c891e-2637-5944-887b-40f57f335361'}, {'abstract': 'Visits to the International Space Station are valuable, and would-be astronauts and their countries can wait a long time for the opportunity. In addition to wealthy adventurers, Axiom Space is making it possible for people to make the trip from countries that have seldom or never had astronauts aboard the orbital outpost. The three on the Ax-3 flight are: Alper Gezeravcı, who will be the first Turkish astronaut; Marcus Wandt, a European Space Agency astronaut from Sweden; and Walter Villadei, an Italian Air Force pilot who previously flew to the edge of space on a Virgin Galactic rocket plane. A launch on Wednesday was postponed to Thursday.', 'web_url': 'https://www.nytimes.com/article/jan-17-axiom-space-may-send-a-crew-of-italian-swedish-and-turkish-astronauts-to-the-international-space-station.html', 'snippet': '', 'lead_paragraph': 'Visits to the International Space Station are valuable, and would-be astronauts and their countries can wait a long time for the opportunity. In addition to wealthy adventurers, Axiom Space is making it possible for people to make the trip from countries that have seldom or never had astronauts aboard the orbital outpost. The three on the Ax-3 flight are: Alper Gezeravcı, who will be the first Turkish astronaut; Marcus Wandt, a European Space Agency astronaut from Sweden; and Walter Villadei, an Italian Air Force pilot who previously flew to the edge of space on a Virgin Galactic rocket plane. A launch on Wednesday was postponed to Thursday.', 'source': 'The New York Times', 'multimedia': [{'rank': 0, 'subtype': 'xlarge', 'caption': None, 'credit': None, 'type': 'image', 'url': 'images/2024/01/01/science/01sci-spacecalendar-axiom/01sci-spacecalendar-axiom-articleLarge.jpg', 'height': 400, 'width': 600, 'subType': 'xlarge', 'crop_name': 'articleLarge', 'legacy': {'xlarge': 'images/2024/01/01/science/01sci-spacecalendar-axiom/01sci-spacecalendar-axiom-articleLarge.jpg', 'xlargewidth': 600, 'xlargeheight': 400}}, {'rank': 0, 'subtype': 'jumbo', 'caption': None, 'credit': None, 'type': 'image', 'url': 'images/2024/01/01/science/01sci-spacecalendar-axiom/01sci-spacecalendar-axiom-jumbo.jpg', 'height': 683, 'width': 1024, 'subType': 'jumbo', 'crop_name': 'jumbo', 'legacy': {}}, {'rank': 0, 'subtype': 'superJumbo', 'caption': None, 'credit': None, 'type': 'image', 'url': 'images/2024/01/01/science/01sci-spacecalendar-axiom/01sci-spacecalendar-axiom-superJumbo.jpg', 'height': 1366, 'width': 2048, 'subType': 'superJumbo', 'crop_name': 'superJumbo', 'legacy': {}}, {'rank': 0, 'subtype': 'thumbnail', 'caption': None, 'credit': None, 'type': 'image', 'url': 'images/2024/01/01/science/01sci-spacecalendar-axiom/01sci-spacecalendar-axiom-thumbStandard.jpg', 'height': 75, 'width': 75, 'subType': 'thumbnail', 'crop_name': 'thumbStandard', 'legacy': {'thumbnail': 'images/2024/01/01/science/01sci-spacecalendar-axiom/01sci-spacecalendar-axiom-thumbStandard.jpg', 'thumbnailwidth': 75, 'thumbnailheight': 75}}, {'rank': 0, 'subtype': 'thumbLarge', 'caption': None, 'credit': None, 'type': 'image', 'url': 'images/2024/01/01/science/01sci-spacecalendar-axiom/01sci-spacecalendar-axiom-thumbLarge.jpg', 'height': 150, 'width': 150, 'subType': 'thumbLarge', 'crop_name': 'thumbLarge', 'legacy': {}}], 'headline': {'main': 'Jan. 18: Axiom Space may send a crew of Italian, Swedish and Turkish astronauts to the International Space Station.', 'kicker': None, 'content_kicker': None, 'print_headline': '', 'name': None, 'seo': None, 'sub': None}, 'keywords': [], 'pub_date': '2024-01-01T17:15:11+0000', 'document_type': 'article', 'news_desk': 'Science', 'section_name': 'Science', 'byline': {'original': '', 'person': [], 'organization': None}, 'type_of_material': 'News', '_id': 'nyt://article/c818d8d7-ba78-5b5b-8d53-f89c985d1bd2', 'word_count': 107, 'uri': 'nyt://article/c818d8d7-ba78-5b5b-8d53-f89c985d1bd2'}, {'abstract': 'NASA introduced the four astronauts of Artemis II last year. As soon as November, they could travel around the moon and back. They would be the first humans to travel near the moon since 1972, when the Apollo 17 mission concluded. To fly in 2024, NASA will need to resolve issues with a heat shield on the astronauts’ spacecraft, as well as overcome other potential delays. We will provide a more precise launch date for this mission when NASA announces one.', 'web_url': 'https://www.nytimes.com/2024/01/01/science/november-nasa-could-launch-four-astronauts-on-the-artemis-ii-mission-around-the-moon.html', 'snippet': '', 'lead_paragraph': 'NASA introduced the four astronauts of Artemis II last year. As soon as November, they could travel around the moon and back. They would be the first humans to travel near the moon since 1972, when the Apollo 17 mission concluded. To fly in 2024, NASA will need to resolve issues with a heat shield on the astronauts’ spacecraft, as well as overcome other potential delays. We will provide a more precise launch date for this mission when NASA announces one.', 'source': 'The New York Times', 'multimedia': [{'rank': 0, 'subtype': 'xlarge', 'caption': None, 'credit': None, 'type': 'image', 'url': 'images/2023/12/05/multimedia/01sci-spacecalendar-artemis/01sci-spacecalendar-artemis-articleLarge.jpg', 'height': 400, 'width': 600, 'subType': 'xlarge', 'crop_name': 'articleLarge', 'legacy': {'xlarge': 'images/2023/12/05/multimedia/01sci-spacecalendar-artemis/01sci-spacecalendar-artemis-articleLarge.jpg', 'xlargewidth': 600, 'xlargeheight': 400}}, {'rank': 0, 'subtype': 'jumbo', 'caption': None, 'credit': None, 'type': 'image', 'url': 'images/2023/12/05/multimedia/01sci-spacecalendar-artemis/01sci-spacecalendar-artemis-jumbo.jpg', 'height': 683, 'width': 1024, 'subType': 'jumbo', 'crop_name': 'jumbo', 'legacy': {}}, {'rank': 0, 'subtype': 'superJumbo', 'caption': None, 'credit': None, 'type': 'image', 'url': 'images/2023/12/05/multimedia/01sci-spacecalendar-artemis/01sci-spacecalendar-artemis-superJumbo.jpg', 'height': 1366, 'width': 2048, 'subType': 'superJumbo', 'crop_name': 'superJumbo', 'legacy': {}}, {'rank': 0, 'subtype': 'thumbnail', 'caption': None, 'credit': None, 'type': 'image', 'url': 'images/2023/12/05/multimedia/01sci-spacecalendar-artemis/01sci-spacecalendar-artemis-thumbStandard.jpg', 'height': 75, 'width': 75, 'subType': 'thumbnail', 'crop_name': 'thumbStandard', 'legacy': {'thumbnail': 'images/2023/12/05/multimedia/01sci-spacecalendar-artemis/01sci-spacecalendar-artemis-thumbStandard.jpg', 'thumbnailwidth': 75, 'thumbnailheight': 75}}, {'rank': 0, 'subtype': 'thumbLarge', 'caption': None, 'credit': None, 'type': 'image', 'url': 'images/2023/12/05/multimedia/01sci-spacecalendar-artemis/01sci-spacecalendar-artemis-thumbLarge.jpg', 'height': 150, 'width': 150, 'subType': 'thumbLarge', 'crop_name': 'thumbLarge', 'legacy': {}}], 'headline': {'main': 'November: NASA could launch four astronauts on the Artemis II mission around the moon.', 'kicker': None, 'content_kicker': None, 'print_headline': '', 'name': None, 'seo': None, 'sub': None}, 'keywords': [], 'pub_date': '2024-01-01T17:15:26+0000', 'document_type': 'article', 'news_desk': 'Science', 'section_name': 'Science', 'byline': {'original': '', 'person': [], 'organization': None}, 'type_of_material': 'News', '_id': 'nyt://article/79607da1-2a8b-5c96-9386-378a42179fe1', 'word_count': 81, 'uri': 'nyt://article/79607da1-2a8b-5c96-9386-378a42179fe1'}, {'abstract': 'Even as the Northern Hemisphere experiences winter’s chill, our planet on Tuesday, depending on your time zone, will be at perihelion, the closest it gets to the sun during its elliptical orbit. Learn more about planetary orbits and the search for life around the galaxy.', 'web_url': 'https://www.nytimes.com/article/jan-3-earth-will-be-at-its-closest-point-to-the-sun.html', 'snippet': '', 'lead_paragraph': 'Even as the Northern Hemisphere experiences winter’s chill, our planet on Tuesday, depending on your time zone, will be at perihelion, the closest it gets to the sun during its elliptical orbit. Learn more about planetary orbits and the search for life around the galaxy.', 'source': 'The New York Times', 'multimedia': [{'rank': 0, 'subtype': 'xlarge', 'caption': None, 'credit': None, 'type': 'image', 'url': 'images/2023/01/01/science/01sci-spacecalendar-perihelion/01sci-spacecalendar-perihelion-articleLarge.jpg', 'height': 401, 'width': 600, 'subType': 'xlarge', 'crop_name': 'articleLarge', 'legacy': {'xlarge': 'images/2023/01/01/science/01sci-spacecalendar-perihelion/01sci-spacecalendar-perihelion-articleLarge.jpg', 'xlargewidth': 600, 'xlargeheight': 401}}, {'rank': 0, 'subtype': 'jumbo', 'caption': None, 'credit': None, 'type': 'image', 'url': 'images/2023/01/01/science/01sci-spacecalendar-perihelion/01sci-spacecalendar-perihelion-jumbo.jpg', 'height': 684, 'width': 1024, 'subType': 'jumbo', 'crop_name': 'jumbo', 'legacy': {}}, {'rank': 0, 'subtype': 'superJumbo', 'caption': None, 'credit': None, 'type': 'image', 'url': 'images/2023/01/01/science/01sci-spacecalendar-perihelion/01sci-spacecalendar-perihelion-superJumbo.jpg', 'height': 1367, 'width': 2048, 'subType': 'superJumbo', 'crop_name': 'superJumbo', 'legacy': {}}, {'rank': 0, 'subtype': 'thumbnail', 'caption': None, 'credit': None, 'type': 'image', 'url': 'images/2023/01/01/science/01sci-spacecalendar-perihelion/01sci-spacecalendar-perihelion-thumbStandard.jpg', 'height': 75, 'width': 75, 'subType': 'thumbnail', 'crop_name': 'thumbStandard', 'legacy': {'thumbnail': 'images/2023/01/01/science/01sci-spacecalendar-perihelion/01sci-spacecalendar-perihelion-thumbStandard.jpg', 'thumbnailwidth': 75, 'thumbnailheight': 75}}, {'rank': 0, 'subtype': 'thumbLarge', 'caption': None, 'credit': None, 'type': 'image', 'url': 'images/2023/01/01/science/01sci-spacecalendar-perihelion/01sci-spacecalendar-perihelion-thumbLarge.jpg', 'height': 150, 'width': 150, 'subType': 'thumbLarge', 'crop_name': 'thumbLarge', 'legacy': {}}], 'headline': {'main': 'Jan. 2: Earth will be at its closest point to the sun.', 'kicker': None, 'content_kicker': None, 'print_headline': '', 'name': None, 'seo': None, 'sub': None}, 'keywords': [], 'pub_date': '2024-01-01T17:18:33+0000', 'document_type': 'article', 'news_desk': 'Science', 'section_name': 'Science', 'byline': {'original': '', 'person': [], 'organization': None}, 'type_of_material': 'News', '_id': 'nyt://article/06a12f09-093c-525a-adff-8918d0a5840f', 'word_count': 45, 'uri': 'nyt://article/06a12f09-093c-525a-adff-8918d0a5840f'}, {'abstract': 'The Quadrantids, which the International Meteor Organization has forecast to be one of the strongest meteor showers this year, are also one of the few caused by debris from an asteroid. Best viewed from the Northern Hemisphere, the shower is one of the toughest to catch.', 'web_url': 'https://www.nytimes.com/2024/01/01/science/jan-3-4-the-quadrantid-meteor-shower-will-reach-its-peak.html', 'snippet': '', 'lead_paragraph': 'The Quadrantids, which the International Meteor Organization has forecast to be one of the strongest meteor showers this year, are also one of the few caused by debris from an asteroid. Best viewed from the Northern Hemisphere, the shower is one of the toughest to catch.', 'source': 'The New York Times', 'multimedia': [{'rank': 0, 'subtype': 'xlarge', 'caption': None, 'credit': None, 'type': 'image', 'url': 'images/2022/01/01/multimedia/01sci-spacecalendar-quadrantids-1-031d/01sci-spacecalendar-quadrantids-1-031d-articleLarge.jpg', 'height': 400, 'width': 600, 'subType': 'xlarge', 'crop_name': 'articleLarge', 'legacy': {'xlarge': 'images/2022/01/01/multimedia/01sci-spacecalendar-quadrantids-1-031d/01sci-spacecalendar-quadrantids-1-031d-articleLarge.jpg', 'xlargewidth': 600, 'xlargeheight': 400}}, {'rank': 0, 'subtype': 'jumbo', 'caption': None, 'credit': None, 'type': 'image', 'url': 'images/2022/01/01/multimedia/01sci-spacecalendar-quadrantids-1-031d/01sci-spacecalendar-quadrantids-1-031d-jumbo.jpg', 'height': 683, 'width': 1024, 'subType': 'jumbo', 'crop_name': 'jumbo', 'legacy': {}}, {'rank': 0, 'subtype': 'superJumbo', 'caption': None, 'credit': None, 'type': 'image', 'url': 'images/2022/01/01/multimedia/01sci-spacecalendar-quadrantids-1-031d/01sci-spacecalendar-quadrantids-1-031d-superJumbo.jpg', 'height': 1366, 'width': 2048, 'subType': 'superJumbo', 'crop_name': 'superJumbo', 'legacy': {}}, {'rank': 0, 'subtype': 'thumbnail', 'caption': None, 'credit': None, 'type': 'image', 'url': 'images/2022/01/01/multimedia/01sci-spacecalendar-quadrantids-1-031d/01sci-spacecalendar-quadrantids-1-031d-thumbStandard.jpg', 'height': 75, 'width': 75, 'subType': 'thumbnail', 'crop_name': 'thumbStandard', 'legacy': {'thumbnail': 'images/2022/01/01/multimedia/01sci-spacecalendar-quadrantids-1-031d/01sci-spacecalendar-quadrantids-1-031d-thumbStandard.jpg', 'thumbnailwidth': 75, 'thumbnailheight': 75}}, {'rank': 0, 'subtype': 'thumbLarge', 'caption': None, 'credit': None, 'type': 'image', 'url': 'images/2022/01/01/multimedia/01sci-spacecalendar-quadrantids-1-031d/01sci-spacecalendar-quadrantids-1-031d-thumbLarge.jpg', 'height': 150, 'width': 150, 'subType': 'thumbLarge', 'crop_name': 'thumbLarge', 'legacy': {}}], 'headline': {'main': 'Jan. 3-4: The Quadrantid meteor shower will reach its peak.', 'kicker': None, 'content_kicker': None, 'print_headline': '', 'name': None, 'seo': None, 'sub': None}, 'keywords': [], 'pub_date': '2024-01-01T17:18:43+0000', 'document_type': 'article', 'news_desk': 'Science', 'section_name': 'Science', 'byline': {'original': 'By Katrina Miller', 'person': [{'firstname': 'Katrina', 'middlename': None, 'lastname': 'Miller', 'qualifier': None, 'title': None, 'role': 'reported', 'organization': '', 'rank': 1}], 'organization': None}, 'type_of_material': 'News', '_id': 'nyt://article/8f156d9d-0729-53ea-9f78-a38a7d4643af', 'word_count': 100, 'uri': 'nyt://article/8f156d9d-0729-53ea-9f78-a38a7d4643af'}, {'abstract': 'United Launch Alliance, a joint venture between Boeing and Lockheed Martin, conducted the first flight of Vulcan, its new rocket. The rocket used engines built by Blue Origin, the space company founded by Jeff Bezos of Amazon. It carried Peregrine, a robotic lander built by Astrobotic of Pittsburgh, on a NASA-sponsored mission to Sinus Viscositatis on the moon’s near side. The mission is expected to reach the lunar surface in late February, aiming to be the first privately built moon lander to do so. Look back on the launch here.', 'web_url': 'https://www.nytimes.com/article/jan-8-the-new-vulcan-rocket-may-launch-astrobotics-uncrewed-lander-to-the-moon.html', 'snippet': '', 'lead_paragraph': 'United Launch Alliance, a joint venture between Boeing and Lockheed Martin, conducted the first flight of Vulcan, its new rocket. The rocket used engines built by Blue Origin, the space company founded by Jeff Bezos of Amazon. It carried Peregrine, a robotic lander built by Astrobotic of Pittsburgh, on a NASA-sponsored mission to Sinus Viscositatis on the moon’s near side. The mission is expected to reach the lunar surface in late February, aiming to be the first privately built moon lander to do so. Look back on the launch here.', 'source': 'The New York Times', 'multimedia': [{'rank': 0, 'subtype': 'xlarge', 'caption': None, 'credit': None, 'type': 'image', 'url': 'images/2023/12/22/multimedia/01sci-spacecalendar-vulcan/december-space-images-01-plbg-articleLarge-v2.jpg', 'height': 400, 'width': 600, 'subType': 'xlarge', 'crop_name': 'articleLarge', 'legacy': {'xlarge': 'images/2023/12/22/multimedia/01sci-spacecalendar-vulcan/december-space-images-01-plbg-articleLarge-v2.jpg', 'xlargewidth': 600, 'xlargeheight': 400}}, {'rank': 0, 'subtype': 'jumbo', 'caption': None, 'credit': None, 'type': 'image', 'url': 'images/2023/12/22/multimedia/01sci-spacecalendar-vulcan/december-space-images-01-plbg-jumbo-v2.jpg', 'height': 683, 'width': 1024, 'subType': 'jumbo', 'crop_name': 'jumbo', 'legacy': {}}, {'rank': 0, 'subtype': 'superJumbo', 'caption': None, 'credit': None, 'type': 'image', 'url': 'images/2023/12/22/multimedia/01sci-spacecalendar-vulcan/december-space-images-01-plbg-superJumbo-v2.jpg', 'height': 1365, 'width': 2048, 'subType': 'superJumbo', 'crop_name': 'superJumbo', 'legacy': {}}, {'rank': 0, 'subtype': 'thumbnail', 'caption': None, 'credit': None, 'type': 'image', 'url': 'images/2023/12/22/multimedia/01sci-spacecalendar-vulcan/december-space-images-01-plbg-thumbStandard-v2.jpg', 'height': 75, 'width': 75, 'subType': 'thumbnail', 'crop_name': 'thumbStandard', 'legacy': {'thumbnail': 'images/2023/12/22/multimedia/01sci-spacecalendar-vulcan/december-space-images-01-plbg-thumbStandard-v2.jpg', 'thumbnailwidth': 75, 'thumbnailheight': 75}}, {'rank': 0, 'subtype': 'thumbLarge', 'caption': None, 'credit': None, 'type': 'image', 'url': 'images/2023/12/22/multimedia/01sci-spacecalendar-vulcan/december-space-images-01-plbg-thumbLarge-v2.jpg', 'height': 150, 'width': 150, 'subType': 'thumbLarge', 'crop_name': 'thumbLarge', 'legacy': {}}], 'headline': {'main': 'Jan. 8: The new Vulcan rocket launched Astrobotic’s uncrewed lander toward the moon.', 'kicker': None, 'content_kicker': None, 'print_headline': '', 'name': None, 'seo': None, 'sub': None}, 'keywords': [], 'pub_date': '2024-01-01T17:18:57+0000', 'document_type': 'article', 'news_desk': 'Science', 'section_name': 'Science', 'byline': {'original': '', 'person': [], 'organization': None}, 'type_of_material': 'News', '_id': 'nyt://article/664b4877-0554-5c6d-9c48-c7bada907b98', 'word_count': 90, 'uri': 'nyt://article/664b4877-0554-5c6d-9c48-c7bada907b98'}, {'abstract': 'The Japanese space agency’s Smart Lander for Investigating Moon launched on a long lunar journey in September. The 420-pound spacecraft will attempt to set down after months in deep space, testing sophisticated lunar landing techniques for future space missions. It would be Japan’s first lunar landing, making it the fifth country to reach the moon. It will be Jan. 20 in Japan when the landing occurs. Follow the landing attempt here.', 'web_url': 'https://www.nytimes.com/article/jan-20-japans-slim-moon-lander-may-attempt-to-set-down-on-the-moon.html', 'snippet': '', 'lead_paragraph': 'The Japanese space agency’s Smart Lander for Investigating Moon launched on a long lunar journey in September. The 420-pound spacecraft will attempt to set down after months in deep space, testing sophisticated lunar landing techniques for future space missions. It would be Japan’s first lunar landing, making it the fifth country to reach the moon. It will be Jan. 20 in Japan when the landing occurs. Follow the landing attempt here.', 'source': 'The New York Times', 'multimedia': [{'rank': 0, 'subtype': 'xlarge', 'caption': None, 'credit': None, 'type': 'image', 'url': 'images/2023/01/01/multimedia/01sci-spacecalendar-slim-mjbv/01sci-spacecalendar-slim-mjbv-articleLarge.jpg', 'height': 400, 'width': 600, 'subType': 'xlarge', 'crop_name': 'articleLarge', 'legacy': {'xlarge': 'images/2023/01/01/multimedia/01sci-spacecalendar-slim-mjbv/01sci-spacecalendar-slim-mjbv-articleLarge.jpg', 'xlargewidth': 600, 'xlargeheight': 400}}, {'rank': 0, 'subtype': 'jumbo', 'caption': None, 'credit': None, 'type': 'image', 'url': 'images/2023/01/01/multimedia/01sci-spacecalendar-slim-mjbv/01sci-spacecalendar-slim-mjbv-jumbo.jpg', 'height': 683, 'width': 1024, 'subType': 'jumbo', 'crop_name': 'jumbo', 'legacy': {}}, {'rank': 0, 'subtype': 'superJumbo', 'caption': None, 'credit': None, 'type': 'image', 'url': 'images/2023/01/01/multimedia/01sci-spacecalendar-slim-mjbv/01sci-spacecalendar-slim-mjbv-superJumbo.jpg', 'height': 1365, 'width': 2048, 'subType': 'superJumbo', 'crop_name': 'superJumbo', 'legacy': {}}, {'rank': 0, 'subtype': 'thumbnail', 'caption': None, 'credit': None, 'type': 'image', 'url': 'images/2023/01/01/multimedia/01sci-spacecalendar-slim-mjbv/01sci-spacecalendar-slim-mjbv-thumbStandard.jpg', 'height': 75, 'width': 75, 'subType': 'thumbnail', 'crop_name': 'thumbStandard', 'legacy': {'thumbnail': 'images/2023/01/01/multimedia/01sci-spacecalendar-slim-mjbv/01sci-spacecalendar-slim-mjbv-thumbStandard.jpg', 'thumbnailwidth': 75, 'thumbnailheight': 75}}, {'rank': 0, 'subtype': 'thumbLarge', 'caption': None, 'credit': None, 'type': 'image', 'url': 'images/2023/01/01/multimedia/01sci-spacecalendar-slim-mjbv/01sci-spacecalendar-slim-mjbv-thumbLarge.jpg', 'height': 150, 'width': 150, 'subType': 'thumbLarge', 'crop_name': 'thumbLarge', 'legacy': {}}], 'headline': {'main': 'Jan. 19: Japan’s SLIM moon lander may attempt to set down on the moon.', 'kicker': None, 'content_kicker': None, 'print_headline': '', 'name': None, 'seo': None, 'sub': None}, 'keywords': [], 'pub_date': '2024-01-01T17:19:13+0000', 'document_type': 'article', 'news_desk': 'Science', 'section_name': 'Science', 'byline': {'original': '', 'person': [], 'organization': None}, 'type_of_material': 'News', '_id': 'nyt://article/75536bc9-76d5-594f-9719-4a8eba808e63', 'word_count': 71, 'uri': 'nyt://article/75536bc9-76d5-594f-9719-4a8eba808e63'}, {'abstract': 'The epicenter of the quake was in Ishikawa Prefecture, along the west coast of Japan.', 'web_url': 'https://www.nytimes.com/video/world/asia/100000009246062/japan-earthquake.html', 'snippet': 'The epicenter of the quake was in Ishikawa Prefecture, along the west coast of Japan.', 'lead_paragraph': 'The epicenter of the quake was in Ishikawa Prefecture, along the west coast of Japan.', 'source': 'The New York Times', 'multimedia': [{'rank': 0, 'subtype': 'xlarge', 'caption': None, 'credit': None, 'type': 'image', 'url': 'images/2024/01/01/multimedia/01japan-3-qcft/01japan-3-qcft-articleLarge.jpg', 'height': 400, 'width': 600, 'subType': 'xlarge', 'crop_name': 'articleLarge', 'legacy': {'xlarge': 'images/2024/01/01/multimedia/01japan-3-qcft/01japan-3-qcft-articleLarge.jpg', 'xlargewidth': 600, 'xlargeheight': 400}}, {'rank': 0, 'subtype': 'jumbo', 'caption': None, 'credit': None, 'type': 'image', 'url': 'images/2024/01/01/multimedia/01japan-3-qcft/01japan-3-qcft-jumbo.jpg', 'height': 682, 'width': 1024, 'subType': 'jumbo', 'crop_name': 'jumbo', 'legacy': {}}, {'rank': 0, 'subtype': 'superJumbo', 'caption': None, 'credit': None, 'type': 'image', 'url': 'images/2024/01/01/multimedia/01japan-3-qcft/01japan-3-qcft-superJumbo.jpg', 'height': 1365, 'width': 2048, 'subType': 'superJumbo', 'crop_name': 'superJumbo', 'legacy': {}}, {'rank': 0, 'subtype': 'thumbnail', 'caption': None, 'credit': None, 'type': 'image', 'url': 'images/2024/01/01/multimedia/01japan-3-qcft/01japan-3-qcft-thumbStandard.jpg', 'height': 75, 'width': 75, 'subType': 'thumbnail', 'crop_name': 'thumbStandard', 'legacy': {'thumbnail': 'images/2024/01/01/multimedia/01japan-3-qcft/01japan-3-qcft-thumbStandard.jpg', 'thumbnailwidth': 75, 'thumbnailheight': 75}}, {'rank': 0, 'subtype': 'thumbLarge', 'caption': None, 'credit': None, 'type': 'image', 'url': 'images/2024/01/01/multimedia/01japan-3-qcft/01japan-3-qcft-thumbLarge.jpg', 'height': 150, 'width': 150, 'subType': 'thumbLarge', 'crop_name': 'thumbLarge', 'legacy': {}}], 'headline': {'main': 'Powerful Earthquake Hits Japan, Setting Off Tsunami Warnings', 'kicker': None, 'content_kicker': None, 'print_headline': '', 'name': None, 'seo': None, 'sub': None}, 'keywords': [{'name': 'subject', 'value': 'Earthquakes', 'rank': 1, 'major': 'N'}, {'name': 'subject', 'value': 'Tidal Waves and Tsunamis', 'rank': 2, 'major': 'N'}, {'name': 'glocations', 'value': 'Japan', 'rank': 3, 'major': 'N'}], 'pub_date': '2024-01-01T17:44:57+0000', 'document_type': 'multimedia', 'news_desk': '', 'section_name': 'World', 'subsection_name': 'Asia Pacific', 'byline': {'original': 'By Chevaz Clarke', 'person': [{'firstname': 'Chevaz', 'middlename': None, 'lastname': 'Clarke', 'qualifier': None, 'title': None, 'role': 'reported', 'organization': '', 'rank': 1}], 'organization': None}, 'type_of_material': 'Video', '_id': 'nyt://video/593f0dc4-18f2-5b29-b8b6-4dfa862c5623', 'word_count': 0, 'uri': 'nyt://video/593f0dc4-18f2-5b29-b8b6-4dfa862c5623'}, {'abstract': 'President Vladimir V. Putin of Russia says his country will continue targeting Ukrainian cities in retaliation for a deadly attack on the city of Belgorod on Saturday.', 'web_url': 'https://www.nytimes.com/2024/01/01/world/europe/ukraine-russia-putin-belgorod.html', 'snippet': 'President Vladimir V. Putin of Russia says his country will continue targeting Ukrainian cities in retaliation for a deadly attack on the city of Belgorod on Saturday.', 'lead_paragraph': 'President Vladimir V. Putin of Russia vowed on Monday to continue missile strikes on Ukrainian cities, in retaliation for what he called a “terror” attack on the Russian city of Belgorod last week.', 'print_section': 'A', 'print_page': '6', 'source': 'The New York Times', 'multimedia': [{'rank': 0, 'subtype': 'xlarge', 'caption': None, 'credit': None, 'type': 'image', 'url': 'images/2024/01/01/multimedia/01ukraine-russia-1-qhcm/01ukraine-russia-1-qhcm-articleLarge.jpg', 'height': 400, 'width': 600, 'subType': 'xlarge', 'crop_name': 'articleLarge', 'legacy': {'xlarge': 'images/2024/01/01/multimedia/01ukraine-russia-1-qhcm/01ukraine-russia-1-qhcm-articleLarge.jpg', 'xlargewidth': 600, 'xlargeheight': 400}}, {'rank': 0, 'subtype': 'jumbo', 'caption': None, 'credit': None, 'type': 'image', 'url': 'images/2024/01/01/multimedia/01ukraine-russia-1-qhcm/01ukraine-russia-1-qhcm-jumbo.jpg', 'height': 683, 'width': 1024, 'subType': 'jumbo', 'crop_name': 'jumbo', 'legacy': {}}, {'rank': 0, 'subtype': 'superJumbo', 'caption': None, 'credit': None, 'type': 'image', 'url': 'images/2024/01/01/multimedia/01ukraine-russia-1-qhcm/01ukraine-russia-1-qhcm-superJumbo.jpg', 'height': 1365, 'width': 2048, 'subType': 'superJumbo', 'crop_name': 'superJumbo', 'legacy': {}}, {'rank': 0, 'subtype': 'thumbnail', 'caption': None, 'credit': None, 'type': 'image', 'url': 'images/2024/01/01/multimedia/01ukraine-russia-1-qhcm/01ukraine-russia-1-qhcm-thumbStandard.jpg', 'height': 75, 'width': 75, 'subType': 'thumbnail', 'crop_name': 'thumbStandard', 'legacy': {'thumbnail': 'images/2024/01/01/multimedia/01ukraine-russia-1-qhcm/01ukraine-russia-1-qhcm-thumbStandard.jpg', 'thumbnailwidth': 75, 'thumbnailheight': 75}}, {'rank': 0, 'subtype': 'thumbLarge', 'caption': None, 'credit': None, 'type': 'image', 'url': 'images/2024/01/01/multimedia/01ukraine-russia-1-qhcm/01ukraine-russia-1-qhcm-thumbLarge.jpg', 'height': 150, 'width': 150, 'subType': 'thumbLarge', 'crop_name': 'thumbLarge', 'legacy': {}}], 'headline': {'main': 'Putin Vows to Keep Up Bombardment After a Russian City Is Hit', 'kicker': None, 'content_kicker': None, 'print_headline': 'Putin Vows to ‘Build Up the Strikes’ in Retaliation for an Attack on Belgorod', 'name': None, 'seo': None, 'sub': None}, 'keywords': [{'name': 'subject', 'value': 'Russian Invasion of Ukraine (2022)', 'rank': 1, 'major': 'N'}, {'name': 'subject', 'value': 'Defense and Military Forces', 'rank': 2, 'major': 'N'}, {'name': 'subject', 'value': 'Deaths (Fatalities)', 'rank': 3, 'major': 'N'}, {'name': 'persons', 'value': 'Putin, Vladimir V', 'rank': 4, 'major': 'N'}, {'name': 'persons', 'value': 'Zelensky, Volodymyr', 'rank': 5, 'major': 'N'}, {'name': 'glocations', 'value': 'Belgorod (Russia)', 'rank': 6, 'major': 'N'}, {'name': 'glocations', 'value': 'Kharkiv (Ukraine)', 'rank': 7, 'major': 'N'}, {'name': 'glocations', 'value': 'Lviv (Ukraine)', 'rank': 8, 'major': 'N'}, {'name': 'glocations', 'value': 'Russia', 'rank': 9, 'major': 'N'}, {'name': 'glocations', 'value': 'Ukraine', 'rank': 10, 'major': 'N'}], 'pub_date': '2024-01-01T17:56:50+0000', 'document_type': 'article', 'news_desk': 'Foreign', 'section_name': 'World', 'subsection_name': 'Europe', 'byline': {'original': 'By Anatoly Kurmanaev and Constant Méheut', 'person': [{'firstname': 'Anatoly', 'middlename': None, 'lastname': 'Kurmanaev', 'qualifier': None, 'title': None, 'role': 'reported', 'organization': '', 'rank': 1}, {'firstname': 'Constant', 'middlename': None, 'lastname': 'Méheut', 'qualifier': None, 'title': None, 'role': 'reported', 'organization': '', 'rank': 2}], 'organization': None}, 'type_of_material': 'News', '_id': 'nyt://article/b9e4ce83-aec5-5fc0-a2ad-1c34d7a5cbf6', 'word_count': 540, 'uri': 'nyt://article/b9e4ce83-aec5-5fc0-a2ad-1c34d7a5cbf6'}, {'abstract': 'Speaking at his traditional New Year’s Day message, Francis highlighted the arrests and expulsion of clergy.', 'web_url': 'https://www.nytimes.com/2024/01/01/world/europe/nicaragua-pope-francis-church.html', 'snippet': 'Speaking at his traditional New Year’s Day message, Francis highlighted the arrests and expulsion of clergy.', 'lead_paragraph': 'Pope Francis used his New Year’s Day address to highlight concern over the worsening situation of the Roman Catholic Church in Nicaragua as a result of a protracted crackdown by the government of President Daniel Ortega, which has detained clerics, expelled missionaries, closed Catholic radio stations and limited religious celebrations.', 'print_section': 'A', 'print_page': '7', 'source': 'The New York Times', 'multimedia': [{'rank': 0, 'subtype': 'xlarge', 'caption': None, 'credit': None, 'type': 'image', 'url': 'images/2024/01/01/multimedia/01pope-nigaragua-1-zbqc/01pope-nigaragua-1-zbqc-articleLarge.jpg', 'height': 425, 'width': 600, 'subType': 'xlarge', 'crop_name': 'articleLarge', 'legacy': {'xlarge': 'images/2024/01/01/multimedia/01pope-nigaragua-1-zbqc/01pope-nigaragua-1-zbqc-articleLarge.jpg', 'xlargewidth': 600, 'xlargeheight': 425}}, {'rank': 0, 'subtype': 'jumbo', 'caption': None, 'credit': None, 'type': 'image', 'url': 'images/2024/01/01/multimedia/01pope-nigaragua-1-zbqc/01pope-nigaragua-1-zbqc-jumbo.jpg', 'height': 725, 'width': 1024, 'subType': 'jumbo', 'crop_name': 'jumbo', 'legacy': {}}, {'rank': 0, 'subtype': 'superJumbo', 'caption': None, 'credit': None, 'type': 'image', 'url': 'images/2024/01/01/multimedia/01pope-nigaragua-1-zbqc/01pope-nigaragua-1-zbqc-superJumbo.jpg', 'height': 1450, 'width': 2048, 'subType': 'superJumbo', 'crop_name': 'superJumbo', 'legacy': {}}, {'rank': 0, 'subtype': 'thumbnail', 'caption': None, 'credit': None, 'type': 'image', 'url': 'images/2024/01/01/multimedia/01pope-nigaragua-1-zbqc/01pope-nigaragua-1-zbqc-thumbStandard.jpg', 'height': 75, 'width': 75, 'subType': 'thumbnail', 'crop_name': 'thumbStandard', 'legacy': {'thumbnail': 'images/2024/01/01/multimedia/01pope-nigaragua-1-zbqc/01pope-nigaragua-1-zbqc-thumbStandard.jpg', 'thumbnailwidth': 75, 'thumbnailheight': 75}}, {'rank': 0, 'subtype': 'thumbLarge', 'caption': None, 'credit': None, 'type': 'image', 'url': 'images/2024/01/01/multimedia/01pope-nigaragua-1-zbqc/01pope-nigaragua-1-zbqc-thumbLarge.jpg', 'height': 150, 'width': 150, 'subType': 'thumbLarge', 'crop_name': 'thumbLarge', 'legacy': {}}], 'headline': {'main': 'Pope Raises Concerns About Church in Nicaragua', 'kicker': None, 'content_kicker': None, 'print_headline': 'Pope Raises Concerns About Church in Nicaragua During Annual Address', 'name': None, 'seo': None, 'sub': None}, 'keywords': [{'name': 'subject', 'value': 'New Year', 'rank': 1, 'major': 'N'}, {'name': 'subject', 'value': 'Religion-State Relations', 'rank': 2, 'major': 'N'}, {'name': 'subject', 'value': 'Politics and Government', 'rank': 3, 'major': 'N'}, {'name': 'subject', 'value': 'International Relations', 'rank': 4, 'major': 'N'}, {'name': 'subject', 'value': 'Churches (Buildings)', 'rank': 5, 'major': 'N'}, {'name': 'subject', 'value': 'Clergy', 'rank': 6, 'major': 'N'}, {'name': 'subject', 'value': 'Political Prisoners', 'rank': 7, 'major': 'N'}, {'name': 'subject', 'value': 'Cardinals (Roman Catholic Prelates)', 'rank': 8, 'major': 'N'}, {'name': 'subject', 'value': 'Human Rights and Human Rights Violations', 'rank': 9, 'major': 'N'}, {'name': 'subject', 'value': 'Missionaries', 'rank': 10, 'major': 'N'}, {'name': 'subject', 'value': 'Priests', 'rank': 11, 'major': 'N'}, {'name': 'subject', 'value': 'Prisons and Prisoners', 'rank': 12, 'major': 'N'}, {'name': 'organizations', 'value': 'Roman Catholic Church', 'rank': 13, 'major': 'N'}, {'name': 'persons', 'value': 'Alvarez, Rolando', 'rank': 14, 'major': 'N'}, {'name': 'persons', 'value': 'Casaroli, Cardinal Agostino', 'rank': 15, 'major': 'N'}, {'name': 'persons', 'value': 'Francis', 'rank': 16, 'major': 'N'}, {'name': 'persons', 'value': 'Ortega, Daniel', 'rank': 17, 'major': 'N'}, {'name': 'glocations', 'value': 'Nicaragua', 'rank': 18, 'major': 'N'}], 'pub_date': '2024-01-01T17:59:47+0000', 'document_type': 'article', 'news_desk': 'Foreign', 'section_name': 'World', 'subsection_name': 'Europe', 'byline': {'original': 'By Elisabetta Povoledo', 'person': [{'firstname': 'Elisabetta', 'middlename': None, 'lastname': 'Povoledo', 'qualifier': None, 'title': None, 'role': 'reported', 'organization': '', 'rank': 1}], 'organization': None}, 'type_of_material': 'News', '_id': 'nyt://article/56fabe85-5976-507d-9148-9cb4ccfd69e8', 'word_count': 842, 'uri': 'nyt://article/56fabe85-5976-507d-9148-9cb4ccfd69e8'}, {'abstract': 'The new, simplified version of the college student aid form was supposed to become available in December. It was, kind of, for some people.', 'web_url': 'https://www.nytimes.com/2024/01/01/your-money/college-student-aid-fafsa.html', 'snippet': 'The new, simplified version of the college student aid form was supposed to become available in December. It was, kind of, for some people.', 'lead_paragraph': 'Since 2020, when Congress ordered up simplification of the federal financial aid system, the U.S. Department of Education has faced the complex task of actually making the changes to the ever-important formula for determining who gets what.', 'print_section': 'B', 'print_page': '1', 'source': 'The New York Times', 'multimedia': [{'rank': 0, 'subtype': 'xlarge', 'caption': None, 'credit': None, 'type': 'image', 'url': 'images/2024/01/01/business/01money/01money-articleLarge.png', 'height': 289, 'width': 600, 'subType': 'xlarge', 'crop_name': 'articleLarge', 'legacy': {'xlarge': 'images/2024/01/01/business/01money/01money-articleLarge.png', 'xlargewidth': 600, 'xlargeheight': 289}}, {'rank': 0, 'subtype': 'jumbo', 'caption': None, 'credit': None, 'type': 'image', 'url': 'images/2024/01/01/business/01money/01money-jumbo.png', 'height': 493, 'width': 1024, 'subType': 'jumbo', 'crop_name': 'jumbo', 'legacy': {}}, {'rank': 0, 'subtype': 'superJumbo', 'caption': None, 'credit': None, 'type': 'image', 'url': 'images/2024/01/01/business/01money/01money-superJumbo.png', 'height': 987, 'width': 2048, 'subType': 'superJumbo', 'crop_name': 'superJumbo', 'legacy': {}}, {'rank': 0, 'subtype': 'thumbnail', 'caption': None, 'credit': None, 'type': 'image', 'url': 'images/2024/01/01/business/01money/01money-thumbStandard.png', 'height': 75, 'width': 75, 'subType': 'thumbnail', 'crop_name': 'thumbStandard', 'legacy': {'thumbnail': 'images/2024/01/01/business/01money/01money-thumbStandard.png', 'thumbnailwidth': 75, 'thumbnailheight': 75}}, {'rank': 0, 'subtype': 'thumbLarge', 'caption': None, 'credit': None, 'type': 'image', 'url': 'images/2024/01/01/business/01money/01money-thumbLarge.png', 'height': 150, 'width': 150, 'subType': 'thumbLarge', 'crop_name': 'thumbLarge', 'legacy': {}}], 'headline': {'main': 'I Spent New Year’s Eve Trying to Do the FAFSA. It Didn’t Go Well.', 'kicker': None, 'content_kicker': None, 'print_headline': 'New FAFSA Is Available. Good Luck Filling It Out.', 'name': None, 'seo': None, 'sub': None}, 'keywords': [{'name': 'subject', 'value': 'Colleges and Universities', 'rank': 1, 'major': 'N'}, {'name': 'subject', 'value': 'Education (K-12)', 'rank': 2, 'major': 'N'}, {'name': 'organizations', 'value': 'Education Department (US)', 'rank': 4, 'major': 'N'}, {'name': 'organizations', 'value': 'Internal Revenue Service', 'rank': 5, 'major': 'N'}, {'name': 'glocations', 'value': 'United States', 'rank': 6, 'major': 'N'}, {'name': 'subject', 'value': 'Personal Finances', 'rank': 7, 'major': 'N'}, {'name': 'subject', 'value': 'Financial Aid (Education)', 'rank': 8, 'major': 'N'}], 'pub_date': '2024-01-01T18:13:24+0000', 'document_type': 'article', 'news_desk': 'Business', 'section_name': 'Your Money', 'byline': {'original': 'By Ron Lieber', 'person': [{'firstname': 'Ron', 'middlename': None, 'lastname': 'Lieber', 'qualifier': None, 'title': None, 'role': 'reported', 'organization': '', 'rank': 1}], 'organization': None}, 'type_of_material': 'News', '_id': 'nyt://article/d3ac2323-4f37-5a42-90a8-ae88e5edecf1', 'word_count': 847, 'uri': 'nyt://article/d3ac2323-4f37-5a42-90a8-ae88e5edecf1'}, {'abstract': 'The accident occurred on the Cross Island Parkway, along a part known for its dangerous curve, residents said.', 'web_url': 'https://www.nytimes.com/2024/01/01/nyregion/queens-car-crash-new-years.html', 'snippet': 'The accident occurred on the Cross Island Parkway, along a part known for its dangerous curve, residents said.', 'lead_paragraph': 'Just hours into the New Year on Monday, five people were killed in a two-car crash that involved an overturned vehicle in northern Queens.', 'source': 'The New York Times', 'multimedia': [{'rank': 0, 'subtype': 'xlarge', 'caption': None, 'credit': None, 'type': 'image', 'url': 'images/2024/01/01/nyregion/01ny-car-crash-five-04/01ny-car-crash-five-04-articleLarge.jpg', 'height': 400, 'width': 600, 'subType': 'xlarge', 'crop_name': 'articleLarge', 'legacy': {'xlarge': 'images/2024/01/01/nyregion/01ny-car-crash-five-04/01ny-car-crash-five-04-articleLarge.jpg', 'xlargewidth': 600, 'xlargeheight': 400}}, {'rank': 0, 'subtype': 'jumbo', 'caption': None, 'credit': None, 'type': 'image', 'url': 'images/2024/01/01/nyregion/01ny-car-crash-five-04/01ny-car-crash-five-04-jumbo.jpg', 'height': 683, 'width': 1024, 'subType': 'jumbo', 'crop_name': 'jumbo', 'legacy': {}}, {'rank': 0, 'subtype': 'superJumbo', 'caption': None, 'credit': None, 'type': 'image', 'url': 'images/2024/01/01/nyregion/01ny-car-crash-five-04/01ny-car-crash-five-04-superJumbo.jpg', 'height': 1365, 'width': 2048, 'subType': 'superJumbo', 'crop_name': 'superJumbo', 'legacy': {}}, {'rank': 0, 'subtype': 'thumbnail', 'caption': None, 'credit': None, 'type': 'image', 'url': 'images/2024/01/01/nyregion/01ny-car-crash-five-04/01ny-car-crash-five-04-thumbStandard.jpg', 'height': 75, 'width': 75, 'subType': 'thumbnail', 'crop_name': 'thumbStandard', 'legacy': {'thumbnail': 'images/2024/01/01/nyregion/01ny-car-crash-five-04/01ny-car-crash-five-04-thumbStandard.jpg', 'thumbnailwidth': 75, 'thumbnailheight': 75}}, {'rank': 0, 'subtype': 'thumbLarge', 'caption': None, 'credit': None, 'type': 'image', 'url': 'images/2024/01/01/nyregion/01ny-car-crash-five-04/01ny-car-crash-five-04-thumbLarge.jpg', 'height': 150, 'width': 150, 'subType': 'thumbLarge', 'crop_name': 'thumbLarge', 'legacy': {}}], 'headline': {'main': '5 Killed in Queens Car Crash on New Year’s Day', 'kicker': None, 'content_kicker': None, 'print_headline': '', 'name': None, 'seo': None, 'sub': None}, 'keywords': [{'name': 'subject', 'value': 'Traffic Accidents and Safety', 'rank': 1, 'major': 'N'}, {'name': 'subject', 'value': 'Deaths (Fatalities)', 'rank': 2, 'major': 'N'}, {'name': 'glocations', 'value': 'Queens (NYC)', 'rank': 3, 'major': 'N'}], 'pub_date': '2024-01-01T18:29:20+0000', 'document_type': 'article', 'news_desk': 'Metro', 'section_name': 'New York', 'byline': {'original': 'By Hilary Howard', 'person': [{'firstname': 'Hilary', 'middlename': None, 'lastname': 'Howard', 'qualifier': None, 'title': None, 'role': 'reported', 'organization': '', 'rank': 1}], 'organization': None}, 'type_of_material': 'News', '_id': 'nyt://article/501134c3-8673-5053-9565-6977e53a7201', 'word_count': 252, 'uri': 'nyt://article/501134c3-8673-5053-9565-6977e53a7201'}, {'abstract': 'The 33-year-old librarian from California has become popular on TikTok and Instagram with his upbeat take on libraries.', 'web_url': 'https://www.nytimes.com/2024/01/01/us/mychal-threets-librarian-influencer.html', 'snippet': 'The 33-year-old librarian from California has become popular on TikTok and Instagram with his upbeat take on libraries.', 'lead_paragraph': 'However relevant the stereotypical, silence-enforcing librarian remains in the popular imagination, Mychal Threets wants to dispel any lingering notion of the library as a dry, humorless place, lorded over by rigid pedants.', 'source': 'The New York Times', 'multimedia': [{'rank': 0, 'subtype': 'xlarge', 'caption': None, 'credit': None, 'type': 'image', 'url': 'images/2023/12/24/multimedia/00xp-librarian-1-hfzp/00xp-librarian-1-hfzp-articleLarge.jpg', 'height': 400, 'width': 600, 'subType': 'xlarge', 'crop_name': 'articleLarge', 'legacy': {'xlarge': 'images/2023/12/24/multimedia/00xp-librarian-1-hfzp/00xp-librarian-1-hfzp-articleLarge.jpg', 'xlargewidth': 600, 'xlargeheight': 400}}, {'rank': 0, 'subtype': 'jumbo', 'caption': None, 'credit': None, 'type': 'image', 'url': 'images/2023/12/24/multimedia/00xp-librarian-1-hfzp/00xp-librarian-1-hfzp-jumbo.jpg', 'height': 683, 'width': 1024, 'subType': 'jumbo', 'crop_name': 'jumbo', 'legacy': {}}, {'rank': 0, 'subtype': 'superJumbo', 'caption': None, 'credit': None, 'type': 'image', 'url': 'images/2023/12/24/multimedia/00xp-librarian-1-hfzp/00xp-librarian-1-hfzp-superJumbo.jpg', 'height': 1365, 'width': 2048, 'subType': 'superJumbo', 'crop_name': 'superJumbo', 'legacy': {}}, {'rank': 0, 'subtype': 'thumbnail', 'caption': None, 'credit': None, 'type': 'image', 'url': 'images/2023/12/24/multimedia/00xp-librarian-1-hfzp/00xp-librarian-1-hfzp-thumbStandard.jpg', 'height': 75, 'width': 75, 'subType': 'thumbnail', 'crop_name': 'thumbStandard', 'legacy': {'thumbnail': 'images/2023/12/24/multimedia/00xp-librarian-1-hfzp/00xp-librarian-1-hfzp-thumbStandard.jpg', 'thumbnailwidth': 75, 'thumbnailheight': 75}}, {'rank': 0, 'subtype': 'thumbLarge', 'caption': None, 'credit': None, 'type': 'image', 'url': 'images/2023/12/24/multimedia/00xp-librarian-1-hfzp/00xp-librarian-1-hfzp-thumbLarge.jpg', 'height': 150, 'width': 150, 'subType': 'thumbLarge', 'crop_name': 'thumbLarge', 'legacy': {}}], 'headline': {'main': 'Mychal Threets Wants Everyone to Experience ‘Library Joy’', 'kicker': None, 'content_kicker': None, 'print_headline': '', 'name': None, 'seo': None, 'sub': None}, 'keywords': [{'name': 'subject', 'value': 'Libraries and Librarians', 'rank': 1, 'major': 'N'}, {'name': 'subject', 'value': 'Social Media', 'rank': 2, 'major': 'N'}, {'name': 'subject', 'value': 'Content Type: Personal Profile', 'rank': 3, 'major': 'N'}, {'name': 'glocations', 'value': 'Solano County (Calif)', 'rank': 5, 'major': 'N'}], 'pub_date': '2024-01-01T19:01:25+0000', 'document_type': 'article', 'news_desk': 'Express', 'section_name': 'U.S.', 'byline': {'original': 'By Orlando Mayorquin', 'person': [{'firstname': 'Orlando', 'middlename': None, 'lastname': 'Mayorquin', 'qualifier': None, 'title': None, 'role': 'reported', 'organization': '', 'rank': 1}], 'organization': None}, 'type_of_material': 'News', '_id': 'nyt://article/56a41741-d5c8-527c-b1c4-34af3ed269a3', 'word_count': 1087, 'uri': 'nyt://article/56a41741-d5c8-527c-b1c4-34af3ed269a3'}, {'abstract': 'There were reports of collapsed buildings and people being trapped underneath them. The quake disrupted electricity and phone service, and initially raised fears of a tsunami.', 'web_url': 'https://www.nytimes.com/2024/01/01/world/asia/japan-earthquake.html', 'snippet': 'There were reports of collapsed buildings and people being trapped underneath them. The quake disrupted electricity and phone service, and initially raised fears of a tsunami.', 'lead_paragraph': 'A powerful earthquake struck western Japan on Monday, triggering tsunami warnings and evacuation orders, trapping people under collapsed buildings and disrupting electricity and mobile phone services in Ishikawa Prefecture, the epicenter of the quake, the Japanese authorities said.', 'print_section': 'A', 'print_page': '7', 'source': 'The New York Times', 'multimedia': [], 'headline': {'main': 'Powerful Earthquake Hits Japan, and Officials Warn of Aftershocks', 'kicker': None, 'content_kicker': None, 'print_headline': 'Powerful Earthquake Jolts Western Japan', 'name': None, 'seo': None, 'sub': None}, 'keywords': [{'name': 'glocations', 'value': 'Japan', 'rank': 1, 'major': 'N'}, {'name': 'subject', 'value': 'Earthquakes', 'rank': 2, 'major': 'N'}, {'name': 'subject', 'value': 'vis-video', 'rank': 3, 'major': 'N'}], 'pub_date': '2024-01-01T19:06:41+0000', 'document_type': 'article', 'news_desk': 'Foreign', 'section_name': 'World', 'subsection_name': 'Asia Pacific', 'byline': {'original': 'By Motoko Rich', 'person': [{'firstname': 'Motoko', 'middlename': None, 'lastname': 'Rich', 'qualifier': None, 'title': None, 'role': 'reported', 'organization': '', 'rank': 1}], 'organization': None}, 'type_of_material': 'News', '_id': 'nyt://article/2aee5d48-9702-58a8-b07c-265adc2e0cd4', 'word_count': 767, 'uri': 'nyt://article/2aee5d48-9702-58a8-b07c-265adc2e0cd4'}, {'abstract': 'Migrants, sent mostly from Texas, arrived at train stops outside New York City over the weekend to sidestep a new order limiting how they arrive.', 'web_url': 'https://www.nytimes.com/2024/01/01/nyregion/ny-nj-migrants-buses.html', 'snippet': 'Migrants, sent mostly from Texas, arrived at train stops outside New York City over the weekend to sidestep a new order limiting how they arrive.', 'lead_paragraph': 'Hundreds of migrants bound for New York City took a detour in New Jersey over the holiday weekend, in an apparent attempt to bypass a city order that seeks to limit the chaotic flow of arrivals.', 'print_section': 'A', 'print_page': '14', 'source': 'The New York Times', 'multimedia': [{'rank': 0, 'subtype': 'xlarge', 'caption': None, 'credit': None, 'type': 'image', 'url': 'images/2024/01/01/multimedia/00ny-Secaucus-migrants-qgfj/00ny-seacaucus-migrants-qgfj-articleLarge.jpg', 'height': 400, 'width': 600, 'subType': 'xlarge', 'crop_name': 'articleLarge', 'legacy': {'xlarge': 'images/2024/01/01/multimedia/00ny-Secaucus-migrants-qgfj/00ny-seacaucus-migrants-qgfj-articleLarge.jpg', 'xlargewidth': 600, 'xlargeheight': 400}}, {'rank': 0, 'subtype': 'jumbo', 'caption': None, 'credit': None, 'type': 'image', 'url': 'images/2024/01/01/multimedia/00ny-Secaucus-migrants-qgfj/00ny-seacaucus-migrants-qgfj-jumbo.jpg', 'height': 683, 'width': 1024, 'subType': 'jumbo', 'crop_name': 'jumbo', 'legacy': {}}, {'rank': 0, 'subtype': 'superJumbo', 'caption': None, 'credit': None, 'type': 'image', 'url': 'images/2024/01/01/multimedia/00ny-Secaucus-migrants-qgfj/00ny-seacaucus-migrants-qgfj-superJumbo.jpg', 'height': 1365, 'width': 2048, 'subType': 'superJumbo', 'crop_name': 'superJumbo', 'legacy': {}}, {'rank': 0, 'subtype': 'thumbnail', 'caption': None, 'credit': None, 'type': 'image', 'url': 'images/2024/01/01/multimedia/00ny-Secaucus-migrants-qgfj/00ny-seacaucus-migrants-qgfj-thumbStandard.jpg', 'height': 75, 'width': 75, 'subType': 'thumbnail', 'crop_name': 'thumbStandard', 'legacy': {'thumbnail': 'images/2024/01/01/multimedia/00ny-Secaucus-migrants-qgfj/00ny-seacaucus-migrants-qgfj-thumbStandard.jpg', 'thumbnailwidth': 75, 'thumbnailheight': 75}}, {'rank': 0, 'subtype': 'thumbLarge', 'caption': None, 'credit': None, 'type': 'image', 'url': 'images/2024/01/01/multimedia/00ny-Secaucus-migrants-qgfj/00ny-seacaucus-migrants-qgfj-thumbLarge.jpg', 'height': 150, 'width': 150, 'subType': 'thumbLarge', 'crop_name': 'thumbLarge', 'legacy': {}}], 'headline': {'main': 'To Avoid New York Rules, Hundreds of Migrants Dropped Off in New Jersey', 'kicker': None, 'content_kicker': None, 'print_headline': 'Busloads of Migrants Arrive in New Jersey To Avoid New York Rule', 'name': None, 'seo': None, 'sub': None}, 'keywords': [{'name': 'subject', 'value': 'Asylum, Right of', 'rank': 1, 'major': 'N'}, {'name': 'subject', 'value': 'Illegal Immigration', 'rank': 2, 'major': 'N'}, {'name': 'subject', 'value': 'Local Government', 'rank': 3, 'major': 'N'}, {'name': 'persons', 'value': 'Abbott, Gregory W (1957- )', 'rank': 4, 'major': 'N'}, {'name': 'persons', 'value': 'Adams, Eric L', 'rank': 5, 'major': 'N'}, {'name': 'persons', 'value': 'Fulop, Steven M', 'rank': 6, 'major': 'N'}], 'pub_date': '2024-01-01T20:14:01+0000', 'document_type': 'article', 'news_desk': 'Metro', 'section_name': 'New York', 'byline': {'original': 'By Stefanos Chen and Jeffery C. Mays', 'person': [{'firstname': 'Stefanos', 'middlename': None, 'lastname': 'Chen', 'qualifier': None, 'title': None, 'role': 'reported', 'organization': '', 'rank': 1}, {'firstname': 'Jeffery', 'middlename': 'C.', 'lastname': 'Mays', 'qualifier': None, 'title': None, 'role': 'reported', 'organization': '', 'rank': 2}], 'organization': None}, 'type_of_material': 'News', '_id': 'nyt://article/e163a61a-dbec-522f-ac3e-20dbae86fbc6', 'word_count': 963, 'uri': 'nyt://article/e163a61a-dbec-522f-ac3e-20dbae86fbc6'}, {'abstract': 'Plus New Year’s offerings to the sea in Brazil.', 'web_url': 'https://www.nytimes.com/2024/01/01/briefing/israel-judicial-overhaul-japan-earthquake-china-us.html', 'snippet': 'Plus New Year’s offerings to the sea in Brazil.', 'lead_paragraph': 'Israel’s Supreme Court narrowly struck down a law proposed by Prime Minister Benjamin Netanyahu that was meant to limit the court’s own powers. The momentous ruling, which was decided by a majority of eight judges to seven, could ignite a constitutional crisis.', 'source': 'The New York Times', 'multimedia': [{'rank': 0, 'subtype': 'xlarge', 'caption': None, 'credit': None, 'type': 'image', 'url': 'images/2024/01/02/multimedia/010224ambriefing-asia-promo/02ambriefing-asia-netanyahu2-lvzq-articleLarge.jpg', 'height': 480, 'width': 600, 'subType': 'xlarge', 'crop_name': 'articleLarge', 'legacy': {'xlarge': 'images/2024/01/02/multimedia/010224ambriefing-asia-promo/02ambriefing-asia-netanyahu2-lvzq-articleLarge.jpg', 'xlargewidth': 600, 'xlargeheight': 480}}, {'rank': 0, 'subtype': 'jumbo', 'caption': None, 'credit': None, 'type': 'image', 'url': 'images/2024/01/02/multimedia/010224ambriefing-asia-promo/02ambriefing-asia-netanyahu2-lvzq-jumbo.jpg', 'height': 819, 'width': 1024, 'subType': 'jumbo', 'crop_name': 'jumbo', 'legacy': {}}, {'rank': 0, 'subtype': 'superJumbo', 'caption': None, 'credit': None, 'type': 'image', 'url': 'images/2024/01/02/multimedia/010224ambriefing-asia-promo/02ambriefing-asia-netanyahu2-lvzq-superJumbo.jpg', 'height': 1639, 'width': 2048, 'subType': 'superJumbo', 'crop_name': 'superJumbo', 'legacy': {}}, {'rank': 0, 'subtype': 'thumbnail', 'caption': None, 'credit': None, 'type': 'image', 'url': 'images/2024/01/02/multimedia/010224ambriefing-asia-promo/02ambriefing-asia-netanyahu2-lvzq-thumbStandard.jpg', 'height': 75, 'width': 75, 'subType': 'thumbnail', 'crop_name': 'thumbStandard', 'legacy': {'thumbnail': 'images/2024/01/02/multimedia/010224ambriefing-asia-promo/02ambriefing-asia-netanyahu2-lvzq-thumbStandard.jpg', 'thumbnailwidth': 75, 'thumbnailheight': 75}}, {'rank': 0, 'subtype': 'thumbLarge', 'caption': None, 'credit': None, 'type': 'image', 'url': 'images/2024/01/02/multimedia/010224ambriefing-asia-promo/02ambriefing-asia-netanyahu2-lvzq-thumbLarge.jpg', 'height': 150, 'width': 150, 'subType': 'thumbLarge', 'crop_name': 'thumbLarge', 'legacy': {}}], 'headline': {'main': 'Tuesday Briefing: Israel’s Top Court Rejects Move to Limit It', 'kicker': None, 'content_kicker': None, 'print_headline': '', 'name': None, 'seo': None, 'sub': None}, 'keywords': [{'name': 'glocations', 'value': 'Far East, South and Southeast Asia and Pacific Areas', 'rank': 1, 'major': 'N'}, {'name': 'persons', 'value': 'Netanyahu, Benjamin', 'rank': 2, 'major': 'N'}, {'name': 'glocations', 'value': 'Japan', 'rank': 3, 'major': 'N'}, {'name': 'glocations', 'value': 'United States', 'rank': 4, 'major': 'N'}, {'name': 'glocations', 'value': 'China', 'rank': 5, 'major': 'N'}], 'pub_date': '2024-01-01T20:41:37+0000', 'document_type': 'article', 'news_desk': 'NYTNow', 'section_name': 'Briefing', 'byline': {'original': 'By Justin Porter', 'person': [{'firstname': 'Justin', 'middlename': None, 'lastname': 'Porter', 'qualifier': None, 'title': None, 'role': 'reported', 'organization': '', 'rank': 1}], 'organization': None}, 'type_of_material': 'briefing', '_id': 'nyt://article/ade1fe8f-d593-5ecf-b64b-c6ffd79a546a', 'word_count': 979, 'uri': 'nyt://article/ade1fe8f-d593-5ecf-b64b-c6ffd79a546a'}, {'abstract': 'The Supreme Court, by the narrowest of margins, rejected a law pushed by Netanyahu allies that limited its authority to review government decisions.', 'web_url': 'https://www.nytimes.com/2024/01/01/world/middleeast/israel-supreme-court-netanyahu.html', 'snippet': 'The Supreme Court, by the narrowest of margins, rejected a law pushed by Netanyahu allies that limited its authority to review government decisions.', 'lead_paragraph': 'Israel’s Supreme Court on Monday struck down a law limiting its own powers, a momentous step in the legal and political crisis that gripped the country before the war with Hamas, and pitted the court against Prime Minister Benjamin Netanyahu’s right-wing government.', 'print_section': 'A', 'print_page': '1', 'source': 'The New York Times', 'multimedia': [{'rank': 0, 'subtype': 'xlarge', 'caption': None, 'credit': None, 'type': 'image', 'url': 'images/2024/01/01/multimedia/01israel-1-wlgb/01israel-1-wlgb-articleLarge.jpg', 'height': 400, 'width': 600, 'subType': 'xlarge', 'crop_name': 'articleLarge', 'legacy': {'xlarge': 'images/2024/01/01/multimedia/01israel-1-wlgb/01israel-1-wlgb-articleLarge.jpg', 'xlargewidth': 600, 'xlargeheight': 400}}, {'rank': 0, 'subtype': 'jumbo', 'caption': None, 'credit': None, 'type': 'image', 'url': 'images/2024/01/01/multimedia/01israel-1-wlgb/01israel-1-wlgb-jumbo.jpg', 'height': 683, 'width': 1024, 'subType': 'jumbo', 'crop_name': 'jumbo', 'legacy': {}}, {'rank': 0, 'subtype': 'superJumbo', 'caption': None, 'credit': None, 'type': 'image', 'url': 'images/2024/01/01/multimedia/01israel-1-wlgb/01israel-1-wlgb-superJumbo.jpg', 'height': 1365, 'width': 2048, 'subType': 'superJumbo', 'crop_name': 'superJumbo', 'legacy': {}}, {'rank': 0, 'subtype': 'thumbnail', 'caption': None, 'credit': None, 'type': 'image', 'url': 'images/2024/01/01/multimedia/01israel-1-wlgb/01israel-1-wlgb-thumbStandard.jpg', 'height': 75, 'width': 75, 'subType': 'thumbnail', 'crop_name': 'thumbStandard', 'legacy': {'thumbnail': 'images/2024/01/01/multimedia/01israel-1-wlgb/01israel-1-wlgb-thumbStandard.jpg', 'thumbnailwidth': 75, 'thumbnailheight': 75}}, {'rank': 0, 'subtype': 'thumbLarge', 'caption': None, 'credit': None, 'type': 'image', 'url': 'images/2024/01/01/multimedia/01israel-1-wlgb/01israel-1-wlgb-thumbLarge.jpg', 'height': 150, 'width': 150, 'subType': 'thumbLarge', 'crop_name': 'thumbLarge', 'legacy': {}}], 'headline': {'main': 'Israel’s Top Court Strikes Down Move to Curb Its Powers', 'kicker': None, 'content_kicker': None, 'print_headline': 'Court Overturns  Netanyahu’s Bid  To Limit Justices', 'name': None, 'seo': None, 'sub': None}, 'keywords': [{'name': 'organizations', 'value': 'Supreme Court of Israel', 'rank': 1, 'major': 'N'}, {'name': 'glocations', 'value': 'Israel', 'rank': 2, 'major': 'N'}, {'name': 'subject', 'value': 'Decisions and Verdicts', 'rank': 3, 'major': 'N'}, {'name': 'persons', 'value': 'Netanyahu, Benjamin', 'rank': 4, 'major': 'N'}, {'name': 'subject', 'value': 'Politics and Government', 'rank': 5, 'major': 'N'}, {'name': 'subject', 'value': 'Israel-Gaza War (2023- )', 'rank': 6, 'major': 'N'}, {'name': 'subject', 'value': 'Law and Legislation', 'rank': 7, 'major': 'N'}, {'name': 'subject', 'value': 'Demonstrations, Protests and Riots', 'rank': 8, 'major': 'N'}, {'name': 'persons', 'value': 'Levin, Yariv (1969- )', 'rank': 9, 'major': 'N'}, {'name': 'glocations', 'value': 'Gaza Strip', 'rank': 10, 'major': 'N'}], 'pub_date': '2024-01-01T22:08:55+0000', 'document_type': 'article', 'news_desk': 'Foreign', 'section_name': 'World', 'subsection_name': 'Middle East', 'byline': {'original': 'By Isabel Kershner, Aaron Boxerman and Thomas Fuller', 'person': [{'firstname': 'Isabel', 'middlename': None, 'lastname': 'Kershner', 'qualifier': None, 'title': None, 'role': 'reported', 'organization': '', 'rank': 1}, {'firstname': 'Aaron', 'middlename': None, 'lastname': 'Boxerman', 'qualifier': None, 'title': None, 'role': 'reported', 'organization': '', 'rank': 2}, {'firstname': 'Thomas', 'middlename': None, 'lastname': 'Fuller', 'qualifier': None, 'title': None, 'role': 'reported', 'organization': '', 'rank': 3}], 'organization': None}, 'type_of_material': 'News', '_id': 'nyt://article/9c9bfbe4-904b-5e37-8f58-ea258aa6e25a', 'word_count': 1338, 'uri': 'nyt://article/9c9bfbe4-904b-5e37-8f58-ea258aa6e25a'}, {'abstract': 'The full decision, which exceeded 250,000 words, marked the first time that Israel’s highest court had struck down a quasi-constitutional Basic Law.', 'web_url': 'https://www.nytimes.com/2024/01/01/world/middleeast/israel-supreme-court-justices-ruling.html', 'snippet': 'The full decision, which exceeded 250,000 words, marked the first time that Israel’s highest court had struck down a quasi-constitutional Basic Law.', 'lead_paragraph': 'The eight Israeli justices who struck down a key part of the judicial overhaul on Monday argued that they had little choice given the law’s potential danger to Israeli democracy.', 'source': 'The New York Times', 'multimedia': [{'rank': 0, 'subtype': 'xlarge', 'caption': None, 'credit': None, 'type': 'image', 'url': 'images/2024/01/01/multimedia/01israel-hamas-excerpts-pkjv/01israel-hamas-excerpts-pkjv-articleLarge.jpg', 'height': 400, 'width': 600, 'subType': 'xlarge', 'crop_name': 'articleLarge', 'legacy': {'xlarge': 'images/2024/01/01/multimedia/01israel-hamas-excerpts-pkjv/01israel-hamas-excerpts-pkjv-articleLarge.jpg', 'xlargewidth': 600, 'xlargeheight': 400}}, {'rank': 0, 'subtype': 'jumbo', 'caption': None, 'credit': None, 'type': 'image', 'url': 'images/2024/01/01/multimedia/01israel-hamas-excerpts-pkjv/01israel-hamas-excerpts-pkjv-jumbo.jpg', 'height': 683, 'width': 1024, 'subType': 'jumbo', 'crop_name': 'jumbo', 'legacy': {}}, {'rank': 0, 'subtype': 'superJumbo', 'caption': None, 'credit': None, 'type': 'image', 'url': 'images/2024/01/01/multimedia/01israel-hamas-excerpts-pkjv/01israel-hamas-excerpts-pkjv-superJumbo.jpg', 'height': 1365, 'width': 2048, 'subType': 'superJumbo', 'crop_name': 'superJumbo', 'legacy': {}}, {'rank': 0, 'subtype': 'thumbnail', 'caption': None, 'credit': None, 'type': 'image', 'url': 'images/2024/01/01/multimedia/01israel-hamas-excerpts-pkjv/01israel-hamas-excerpts-pkjv-thumbStandard.jpg', 'height': 75, 'width': 75, 'subType': 'thumbnail', 'crop_name': 'thumbStandard', 'legacy': {'thumbnail': 'images/2024/01/01/multimedia/01israel-hamas-excerpts-pkjv/01israel-hamas-excerpts-pkjv-thumbStandard.jpg', 'thumbnailwidth': 75, 'thumbnailheight': 75}}, {'rank': 0, 'subtype': 'thumbLarge', 'caption': None, 'credit': None, 'type': 'image', 'url': 'images/2024/01/01/multimedia/01israel-hamas-excerpts-pkjv/01israel-hamas-excerpts-pkjv-thumbLarge.jpg', 'height': 150, 'width': 150, 'subType': 'thumbLarge', 'crop_name': 'thumbLarge', 'legacy': {}}], 'headline': {'main': 'What Israel’s Supreme Court Justices Wrote in Their Landmark Ruling', 'kicker': None, 'content_kicker': None, 'print_headline': '', 'name': None, 'seo': None, 'sub': None}, 'keywords': [{'name': 'glocations', 'value': 'Israel', 'rank': 1, 'major': 'N'}, {'name': 'subject', 'value': 'Courts and the Judiciary', 'rank': 2, 'major': 'N'}, {'name': 'subject', 'value': 'Israel-Gaza War (2023- )', 'rank': 3, 'major': 'N'}, {'name': 'persons', 'value': 'Netanyahu, Benjamin', 'rank': 4, 'major': 'N'}], 'pub_date': '2024-01-01T22:55:13+0000', 'document_type': 'article', 'news_desk': 'Foreign', 'section_name': 'World', 'subsection_name': 'Middle East', 'byline': {'original': 'By Aaron Boxerman', 'person': [{'firstname': 'Aaron', 'middlename': None, 'lastname': 'Boxerman', 'qualifier': None, 'title': None, 'role': 'reported', 'organization': '', 'rank': 1}], 'organization': None}, 'type_of_material': 'News', '_id': 'nyt://article/56be8161-b2db-5781-a83c-b6d6ca26437b', 'word_count': 678, 'uri': 'nyt://article/56be8161-b2db-5781-a83c-b6d6ca26437b'}, {'abstract': 'He documented the cruelties of white South African rule, and he was made to pay for it, enduring beatings and 586 consecutive days in solitary confinement.', 'web_url': 'https://www.nytimes.com/2024/01/01/world/africa/peter-magubane-dead.html', 'snippet': 'He documented the cruelties of white South African rule, and he was made to pay for it, enduring beatings and 586 consecutive days in solitary confinement.', 'lead_paragraph': 'Peter Magubane, a Black South African photographer whose images documenting the cruelties and violence of apartheid drew global acclaim but punishment at home, including beatings, imprisonment and 586 consecutive days of solitary confinement, died on Monday. He was 91. ', 'print_section': 'A', 'print_page': '16', 'source': 'The New York Times', 'multimedia': [{'rank': 0, 'subtype': 'xlarge', 'caption': None, 'credit': None, 'type': 'image', 'url': 'images/2024/01/03/opinion/01magubane_3-print3/01magubane_3-articleLarge.jpg', 'height': 360, 'width': 600, 'subType': 'xlarge', 'crop_name': 'articleLarge', 'legacy': {'xlarge': 'images/2024/01/03/opinion/01magubane_3-print3/01magubane_3-articleLarge.jpg', 'xlargewidth': 600, 'xlargeheight': 360}}, {'rank': 0, 'subtype': 'jumbo', 'caption': None, 'credit': None, 'type': 'image', 'url': 'images/2024/01/03/opinion/01magubane_3-print3/01magubane_3-jumbo.jpg', 'height': 614, 'width': 1024, 'subType': 'jumbo', 'crop_name': 'jumbo', 'legacy': {}}, {'rank': 0, 'subtype': 'superJumbo', 'caption': None, 'credit': None, 'type': 'image', 'url': 'images/2024/01/03/opinion/01magubane_3-print3/01magubane_3-superJumbo.jpg', 'height': 960, 'width': 1600, 'subType': 'superJumbo', 'crop_name': 'superJumbo', 'legacy': {}}, {'rank': 0, 'subtype': 'thumbnail', 'caption': None, 'credit': None, 'type': 'image', 'url': 'images/2024/01/03/opinion/01magubane_3-print3/01magubane_3-thumbStandard.jpg', 'height': 75, 'width': 75, 'subType': 'thumbnail', 'crop_name': 'thumbStandard', 'legacy': {'thumbnail': 'images/2024/01/03/opinion/01magubane_3-print3/01magubane_3-thumbStandard.jpg', 'thumbnailwidth': 75, 'thumbnailheight': 75}}, {'rank': 0, 'subtype': 'thumbLarge', 'caption': None, 'credit': None, 'type': 'image', 'url': 'images/2024/01/03/opinion/01magubane_3-print3/01magubane_3-thumbLarge.jpg', 'height': 150, 'width': 150, 'subType': 'thumbLarge', 'crop_name': 'thumbLarge', 'legacy': {}}], 'headline': {'main': 'Peter Magubane, 91, Who Fought Apartheid With His Camera, Is Dead', 'kicker': None, 'content_kicker': None, 'print_headline': 'Peter Magubane, Who Fought Apartheid With a Camera, Dies at 91', 'name': None, 'seo': None, 'sub': None}, 'keywords': [{'name': 'persons', 'value': 'Magubane, Peter (1932-2024)', 'rank': 1, 'major': 'N'}, {'name': 'subject', 'value': 'Photography', 'rank': 2, 'major': 'N'}, {'name': 'subject', 'value': 'News and News Media', 'rank': 3, 'major': 'N'}, {'name': 'subject', 'value': 'Apartheid (Policy)', 'rank': 4, 'major': 'N'}, {'name': 'subject', 'value': 'Solitary Confinement', 'rank': 5, 'major': 'N'}, {'name': 'subject', 'value': 'Black People', 'rank': 6, 'major': 'N'}, {'name': 'subject', 'value': 'Blacks', 'rank': 7, 'major': 'N'}, {'name': 'glocations', 'value': 'South Africa', 'rank': 8, 'major': 'N'}, {'name': 'subject', 'value': 'Deaths (Obituaries)', 'rank': 9, 'major': 'N'}], 'pub_date': '2024-01-01T23:40:01+0000', 'document_type': 'article', 'news_desk': 'Obits', 'section_name': 'World', 'subsection_name': 'Africa', 'byline': {'original': 'By Alan Cowell', 'person': [{'firstname': 'Alan', 'middlename': None, 'lastname': 'Cowell', 'qualifier': None, 'title': None, 'role': 'reported', 'organization': '', 'rank': 1}], 'organization': None}, 'type_of_material': 'Obituary (Obit)', '_id': 'nyt://article/a909e1b7-98f7-5f55-8058-f55ab2810699', 'word_count': 1678, 'uri': 'nyt://article/a909e1b7-98f7-5f55-8058-f55ab2810699'}]\n"
     ]
    }
   ],
   "source": [
    "#pubdate = \"2024-02-01\"\n",
    "\n",
    "#print(len(articlestoday(2024, 1, 1, myAPIkey)))\n",
    "print(articlestoday(2024, 1, 1, myAPIkey))"
   ]
  },
  {
   "cell_type": "markdown",
   "id": "758fc30c",
   "metadata": {},
   "source": [
    "### Problem 2"
   ]
  },
  {
   "cell_type": "code",
   "execution_count": 27,
   "id": "4f94f73a",
   "metadata": {},
   "outputs": [
    {
     "name": "stdout",
     "output_type": "stream",
     "text": [
      "3791\n",
      "How many articles: 3791\n",
      "How many abstracts longer than snippets: 20\n",
      "How many snippets longer than abstract : 1\n",
      "How many snippets and abstracts are the same: 3770\n"
     ]
    }
   ],
   "source": [
    "#2\n",
    "abstract_snippet = {} #0 if equal, 1 if abstract is greater, 2 is if snippet is greater\n",
    "counter = 0\n",
    "abstract_greater_snippet = 0\n",
    "snippet_greater_abstract = 0\n",
    "equal = 0\n",
    "print(len(articles['response']['docs']))\n",
    "for article in articles['response']['docs']:\n",
    "    abstract = article['abstract']\n",
    "    snippet = article['snippet']\n",
    "    counter += 1\n",
    "    if abstract == snippet:\n",
    "        abstract_snippet[counter] = 0\n",
    "        equal += 1                            #count how many are equal\n",
    "    else:\n",
    "        if len(abstract) > len(snippet):\n",
    "            abstract_snippet[counter] = 1\n",
    "            abstract_greater_snippet += 1    #count how many if abstract longer than abstract more complex\n",
    "        else:\n",
    "            abstract_snippet[counter] = 2\n",
    "            snippet_greater_abstract += 1 #count how many snippet is longer means snippet more complex\n",
    "print('How many articles: ' + str(counter))\n",
    "print('How many abstracts longer than snippets: ' + str(abstract_greater_snippet))\n",
    "print('How many snippets longer than abstract : ' + str(snippet_greater_abstract))\n",
    "print('How many snippets and abstracts are the same: ' + str(equal))"
   ]
  },
  {
   "cell_type": "markdown",
   "id": "189824ae",
   "metadata": {},
   "source": [
    "General it seems like abstracts and snippets contain the same thing. However in most cases (20/3770), when they do differ, abstracts are longer than the snippets which seems to show that snippets are a shorter version of abstracts and contain less information if the abstract exceeds a certain number of words."
   ]
  },
  {
   "cell_type": "markdown",
   "id": "9383fbd7",
   "metadata": {},
   "source": [
    "### Problem 3"
   ]
  },
  {
   "cell_type": "code",
   "execution_count": 71,
   "id": "9e6a68c4-e845-4fae-b891-43d64ebb1acd",
   "metadata": {},
   "outputs": [],
   "source": [
    "def flatdictionary(article):\n",
    "    summarydict = {}\n",
    "    summarydict['abstract'] = article['abstract']\n",
    "    summarydict['lead_paragraph'] = article['lead_paragraph']\n",
    "    summarydict['headline'] = article['headline']['main']\n",
    "    #for keyword need to turn list into string\n",
    "    keywordstring = ''\n",
    "    totalkeywords = len(article['keywords'])\n",
    "    counter = 1 #counter to see when we reach the last keyword we don't add semicolon\n",
    "    for keyword in article['keywords']:\n",
    "        #print(keyword['value'])     #tested name, value, rank, major in keywords to see which one contained keywords\n",
    "        if counter < totalkeywords:\n",
    "            keywordstring = keywordstring + keyword['value'] + '; '\n",
    "        else:\n",
    "            keywordstring = keywordstring + keyword['value']\n",
    "        counter += 1\n",
    "    summarydict['keywords'] = keywordstring\n",
    "    summarydict['pub_date'] = article['pub_date']\n",
    "    summarydict['document_type'] = article['document_type']\n",
    "    summarydict['section_name'] = article['section_name']\n",
    "    summarydict['type_of_material'] = article['type_of_material']\n",
    "    return summarydict"
   ]
  },
  {
   "cell_type": "code",
   "execution_count": 74,
   "id": "ebc239e0",
   "metadata": {},
   "outputs": [
    {
     "name": "stdout",
     "output_type": "stream",
     "text": [
      "abstract Periods of backlash take shape after surges of Black progress. We have entered another such period.\n",
      "lead_paragraph I am fascinated, and alarmed, by the swiftness with which periods of backlash take shape after surges of Black progress, and I believe that we have entered another such period.\n",
      "headline The Dawn of a New Era of Oppression\n",
      "keywords Hate Crimes; Black People; Blacks; Discrimination; Civil Rights Movement (1954-68); Reconstruction Era; Segregation and Desegregation; Nixon, Richard Milhous\n",
      "pub_date 2024-02-01T00:00:08+0000\n",
      "document_type article\n",
      "section_name Opinion\n",
      "type_of_material Op-Ed\n"
     ]
    }
   ],
   "source": [
    "examplearticle = flatdictionary(articles['response']['docs'][0])\n",
    "#for key in examplearticle:                 #used to figure out if all were strings\n",
    "#    print(key, type(examplearticle[key]))\n",
    "for key in examplearticle:\n",
    "    print(key, examplearticle[key])\n",
    "#for key in examplearticle['headline']:                     #what did headline dictionary hold\n",
    " #    print(key, examplearticle['headline'][key])"
   ]
  },
  {
   "cell_type": "markdown",
   "id": "db9ed559",
   "metadata": {},
   "source": [
    "### Problem 4"
   ]
  },
  {
   "cell_type": "code",
   "execution_count": 87,
   "id": "e7b73abc",
   "metadata": {},
   "outputs": [],
   "source": [
    "import pandas as pd\n",
    "from datetime import datetime"
   ]
  },
  {
   "cell_type": "code",
   "execution_count": 106,
   "id": "93617f41",
   "metadata": {},
   "outputs": [],
   "source": [
    "def csv_summarizedarticles(article):  #asume article is the list of articles from a certain day so everyone has same pub date\n",
    "    flatarticles = []\n",
    "    for article in articles['response']['docs']:   #each article\n",
    "        flatarticles.append(flatdictionary(article))\n",
    "    pubdate = datetime.strptime(flatarticles[0]['pub_date'], \"%Y-%m-%dT%H:%M:%S%z\")#*     Also use datetime to get year, month, day from the given date\n",
    "    pubyear = pubdate.year\n",
    "    pubmonth = pubdate.month\n",
    "    pubday = pubdate.day\n",
    "    #len(flatarticles)\n",
    "    df = pd.DataFrame(flatarticles)    #to dataframe\n",
    "    \n",
    "    #return df   #just testing if df actually made correctly\n",
    "    \n",
    "    #to csv\n",
    "    csv = df.to_csv(f'{pubday}-{pubmonth}-{pubyear}.csv', index=False)\n",
    "    return csv\n",
    "    "
   ]
  },
  {
   "cell_type": "code",
   "execution_count": 94,
   "id": "ddbd8d5c",
   "metadata": {},
   "outputs": [],
   "source": [
    "#testing\n",
    "csv_summarizedarticles(article) #testing on the articles from a particualar month, 2024 month 2 from first section above\n"
   ]
  },
  {
   "cell_type": "markdown",
   "id": "84f09749",
   "metadata": {},
   "source": [
    "### Problem 5"
   ]
  },
  {
   "cell_type": "code",
   "execution_count": 95,
   "id": "2a55d621",
   "metadata": {},
   "outputs": [],
   "source": [
    "import os"
   ]
  },
  {
   "cell_type": "code",
   "execution_count": 99,
   "id": "01ffe652",
   "metadata": {},
   "outputs": [],
   "source": [
    "def articlesfromdate(day, month, year, apiKey):\n",
    "    #does a csv with cleaned articles ins tyle of year month day already exist\n",
    "    filename = '{year}-{month}-{day}.csv'\n",
    "    filepath = os.path.join(os.getcwd(), filename)\n",
    "    if os.path.exists(filepath):\n",
    "        print(\"Articles from this day already exist in folder.\")\n",
    "    else:\n",
    "        articles_list = articlestoday(year, month, day, apiKey)\n",
    "        csv_articles_list = csv_summarizedarticles(articles_list)\n",
    "\n",
    "#quesiton asks for filtering to get the articles from a certain date but when we create a csv file it is for articles of a certain date in problem 4"
   ]
  },
  {
   "cell_type": "code",
   "execution_count": 108,
   "id": "5dd95ece",
   "metadata": {},
   "outputs": [
    {
     "name": "stdout",
     "output_type": "stream",
     "text": [
      "Successfully got the data.\n"
     ]
    }
   ],
   "source": [
    "articlesfromdate(2024, 1, 1, myAPIkey) #in form of day, month, year "
   ]
  },
  {
   "cell_type": "markdown",
   "id": "061baf0d-6c54-457b-b3d7-aecd0fd29b10",
   "metadata": {},
   "source": [
    "<a id=\"sec2\"></a>\n",
    "## Part 2: Cosine Similarity for Text"
   ]
  },
  {
   "cell_type": "markdown",
   "id": "875ba378-a8b9-44c2-806c-d46672d67d12",
   "metadata": {},
   "source": [
    "We will start with the example that was in the slides. There, we initially used the Jaccard similarity to rank sentences most similar to a query, and when that didn't work as expected, we looked at the cosine similarity."
   ]
  },
  {
   "cell_type": "markdown",
   "id": "ae02ccfc-4467-4bc5-9361-6e934c24c4dc",
   "metadata": {},
   "source": [
    "### Use Jaccard similarity for a query phrase and a list of sentences"
   ]
  },
  {
   "cell_type": "code",
   "execution_count": null,
   "id": "e5c2df6d-775c-4c58-b3d4-d72ae5ee94c8",
   "metadata": {},
   "outputs": [],
   "source": [
    "q = \"red dress\"\n",
    "\n",
    "sentences = [\n",
    "\"she wore a dress and red earrings\",\n",
    "\"the dress has a red wine stain\",\n",
    "\"tomorrow I will wear my new red dress\",\n",
    "\"the red dress in the photo resembles the red dress she is wearing\",\n",
    "\"short dress\",\n",
    "\"red lipstick\"\n",
    "]\n",
    "\n",
    "def jaccard(text1, text2):\n",
    "    \"\"\"Implement Jaccard similarity. Assumes there is no punctuation in text.\"\"\"\n",
    "    sw1 = set(text1.lower().split()) # turn into a set of words\n",
    "    sw2 = set(text2.lower().split())\n",
    "    sim = len(sw1.intersection(sw2)) / len(sw1.union(sw2))\n",
    "    return round(sim, 4) # round to 4 digits after the comma\n",
    "\n",
    "def applyJaccard(query, sentences):\n",
    "    \"\"\"Appl the Jaccard similarity between query and each sentence\"\"\"\n",
    "    results = []\n",
    "    for sent in sentences:\n",
    "        jac = jaccard(query, sent)\n",
    "        results.append((jac, sent))\n",
    "    \n",
    "        # Sort in descending order\n",
    "        results.sort(reverse=True)\n",
    "\n",
    "    return results\n",
    "\n",
    "# call the function\n",
    "\n",
    "applyJaccard(q, sentences)"
   ]
  },
  {
   "cell_type": "markdown",
   "id": "1a902535-3e2f-40cb-b1e1-83f12d9cfbdd",
   "metadata": {},
   "source": [
    "As we discussed in class, the Jaccard similarity is not doing well with our data (showing as similar text that, thus, we will try the cosine similarity. However, in order to apply the cosine similarity, we need some other steps:\n",
    "\n",
    "1. Create the vocabulary of words that will serve as the dimensions of our vector space\n",
    "2. Represent each document as a vector in the vector space"
   ]
  },
  {
   "cell_type": "markdown",
   "id": "fc9b7baa-d3e9-4ab5-936b-d157ceb4ecaa",
   "metadata": {},
   "source": [
    "### Create Vocabulary\n",
    "\n",
    "While our sentences in the example don't have punctuation, most of the time text will have it, thus, we need to be prepared to remove it. This will be necesary in order to avoid a word show multiple times, with and without punctuation."
   ]
  },
  {
   "cell_type": "code",
   "execution_count": null,
   "id": "54eada87-b484-4ff6-86ae-8e3da3b44f45",
   "metadata": {},
   "outputs": [],
   "source": [
    "phrase = \"that, that is the thing I want: dancing by the river! ah, the river, I have missed it so much!\"\n",
    "phrase.lower().split()"
   ]
  },
  {
   "cell_type": "markdown",
   "id": "9a10a224-8a04-4cf6-902f-5be5bc39acbc",
   "metadata": {},
   "source": [
    "Notice how we have both \"that!\" and \"that\", and also \"river,\" and \"river!\". This is why we will remove punctuation. Luckily, Python has a library that lists all punctuation:"
   ]
  },
  {
   "cell_type": "code",
   "execution_count": null,
   "id": "ed7a24b4-dbed-47a5-aef3-6932ae997af6",
   "metadata": {},
   "outputs": [],
   "source": [
    "import string\n",
    "string.punctuation"
   ]
  },
  {
   "cell_type": "markdown",
   "id": "d721a72c-0d0a-4b72-9dfc-da57935f5cd4",
   "metadata": {},
   "source": [
    "One way to go about it is the following:"
   ]
  },
  {
   "cell_type": "code",
   "execution_count": null,
   "id": "6edbb783-deea-4385-8133-3ba596115a76",
   "metadata": {},
   "outputs": [],
   "source": [
    "\"\".join(char for char in phrase if char not in string.punctuation)"
   ]
  },
  {
   "cell_type": "markdown",
   "id": "c3885419-d1b4-470f-b877-7b352eb43522",
   "metadata": {},
   "source": [
    "Notice how all the punctuation is gone. Now that we know how to do this, we can write our function."
   ]
  },
  {
   "cell_type": "code",
   "execution_count": null,
   "id": "f3b23d86-8bd4-48a6-96b8-5acea2294f6e",
   "metadata": {},
   "outputs": [],
   "source": [
    "def getVocabulary(textchunk):\n",
    "    \"\"\"Given some text, create the vocabulary of unique words.\"\"\"\n",
    "    textchunk = textchunk.lower()\n",
    "    cleantext = \"\".join(char for char in textchunk if char not in string.punctuation)\n",
    "    words = set(cleantext.split())\n",
    "    voc = sorted(words)\n",
    "\n",
    "    return voc"
   ]
  },
  {
   "cell_type": "markdown",
   "id": "e0ec90fd-b1d9-41b5-bf1d-b0ff75d8576c",
   "metadata": {},
   "source": [
    "Let's test it with our sentences. Since they are a list, we turn them into a string first:"
   ]
  },
  {
   "cell_type": "code",
   "execution_count": null,
   "id": "bb8530bd-7e6c-423b-a6c1-9d8a5a3d3b41",
   "metadata": {},
   "outputs": [],
   "source": [
    "getVocabulary(\" \".join(sentences))"
   ]
  },
  {
   "cell_type": "markdown",
   "id": "570aa541-20e6-4649-a072-e7747c8c0e7c",
   "metadata": {},
   "source": [
    "It looks good, no word is repeated. "
   ]
  },
  {
   "cell_type": "markdown",
   "id": "801b4d6b-ed75-46dd-8eb7-cdc086929acb",
   "metadata": {},
   "source": [
    "### Vector representation\n",
    "\n",
    "Now that we have a vocabulary, we can easily convert every sentence into a vector of numbers. Remember, all the vectors will have the same length. They will have 0 for a dimension (word) that they don't have, and the count of word for a dimension they have."
   ]
  },
  {
   "cell_type": "code",
   "execution_count": null,
   "id": "df263f81-89fe-43e0-b8c2-c3a7389cbe17",
   "metadata": {},
   "outputs": [],
   "source": [
    "def text2vector(sentence, voc):\n",
    "    \"\"\"Given a sentence and the vocabulary for the problem,\n",
    "    turn every sentence into a vector.\n",
    "    \"\"\"\n",
    "    cleantext = \"\".join(char for char in sentence if char not in string.punctuation)\n",
    "    words = cleantext.lower().split()\n",
    "    vector = [words.count(w) for w in voc]\n",
    "    return vector"
   ]
  },
  {
   "cell_type": "markdown",
   "id": "8373e862-7388-441f-be8c-df4858a5049d",
   "metadata": {},
   "source": [
    "Let's try it with one sentence:"
   ]
  },
  {
   "cell_type": "code",
   "execution_count": null,
   "id": "fb41a829-15bb-4cfb-87b6-71fe59f1eee8",
   "metadata": {},
   "outputs": [],
   "source": [
    "voc = getVocabulary(\" \".join(sentences))\n",
    "text2vector(sentences[0], voc)"
   ]
  },
  {
   "cell_type": "markdown",
   "id": "0f3160b6-9859-4232-9633-8c7c9d1554df",
   "metadata": {},
   "source": [
    "Let's verify that this is done right by checking what sentence was turned into a vector:"
   ]
  },
  {
   "cell_type": "code",
   "execution_count": null,
   "id": "cd0bd5c3-d39d-45df-b299-d68985f95e45",
   "metadata": {},
   "outputs": [],
   "source": [
    "sentences[0]"
   ]
  },
  {
   "cell_type": "markdown",
   "id": "283598ad-4b39-4971-8678-07e9e58a5fe8",
   "metadata": {},
   "source": [
    "Let's combine the vocabulary and the vector to see the pairs:"
   ]
  },
  {
   "cell_type": "code",
   "execution_count": null,
   "id": "07681d03-9145-4d0d-bc62-35d8e7d08091",
   "metadata": {},
   "outputs": [],
   "source": [
    "list(zip(voc, text2vector(sentences[0], voc)))"
   ]
  },
  {
   "cell_type": "markdown",
   "id": "0044674c-702e-41cd-acf7-a256ad70319b",
   "metadata": {},
   "source": [
    "Notice how each word in our sentence has a 1 next to it and all the other words have a 0."
   ]
  },
  {
   "cell_type": "markdown",
   "id": "324cbe7f-5532-4400-9072-e5be860c9c29",
   "metadata": {},
   "source": [
    "We will now convert all the sentences to vectors:"
   ]
  },
  {
   "cell_type": "code",
   "execution_count": null,
   "id": "a40f4537-e117-4a85-9abc-9f7d5a0f232c",
   "metadata": {},
   "outputs": [],
   "source": [
    "sent2vec = [text2vector(sent, voc) for sent in sentences]\n",
    "sent2vec"
   ]
  },
  {
   "cell_type": "markdown",
   "id": "b19d6ada-dfdd-46c2-819c-78eeef345a0c",
   "metadata": {},
   "source": [
    "We represent this in pandas:"
   ]
  },
  {
   "cell_type": "code",
   "execution_count": null,
   "id": "80266fcd-74f1-425c-b9f7-7d5cf5e2fa24",
   "metadata": {},
   "outputs": [],
   "source": [
    "import pandas as pd\n",
    "df = pd.DataFrame(sent2vec, \n",
    "                  columns=voc,\n",
    "                  index=[f\"doc_{i+1}\" for i in range(len(sentences))])\n",
    "df"
   ]
  },
  {
   "cell_type": "markdown",
   "id": "68bb0b24-529d-4729-9536-07133eed7954",
   "metadata": {},
   "source": [
    "### Cosine Similarity\n",
    "\n",
    "We discussed the implementation of cosine similarity in class. Below is the function that implements it."
   ]
  },
  {
   "cell_type": "code",
   "execution_count": null,
   "id": "7c56ea1c-ad57-4932-897f-853683b8dfa1",
   "metadata": {},
   "outputs": [],
   "source": [
    "import numpy as np\n",
    "from numpy.linalg import norm\n",
    " \n",
    "def cosineSimilarity(vec1, vec2):\n",
    "    \"\"\"Calculate the cosine similarity between two vectors.\"\"\"\n",
    "    V1 = np.array(vec1)\n",
    "    V2 = np.array(vec2)\n",
    "    cosine = np.dot(V1, V2)/(norm(V1)*norm(V2))\n",
    "    return cosine"
   ]
  },
  {
   "cell_type": "markdown",
   "id": "d180583c-772e-417d-9bb3-5a757cd4b02a",
   "metadata": {},
   "source": [
    "Now that we have the cosine similarity function, we will write a function that given a query and a list of sentences, calculates the similarity score for each pair (query, sentence)."
   ]
  },
  {
   "cell_type": "code",
   "execution_count": null,
   "id": "df84fcec-d7b6-4778-b325-f71186be5da8",
   "metadata": {},
   "outputs": [],
   "source": [
    "def rankDocuments(query, sentences):\n",
    "    \"\"\"Given a query and some sentences, rank the sentences for \n",
    "    which are the most similar to the query.\n",
    "    \"\"\"\n",
    "    # Step 1: create vocabulary\n",
    "    voc = getVocabulary(\" \".join(sentences))\n",
    "\n",
    "    # Step 2: generate vector for query\n",
    "    queryVec = text2vector(query, voc)\n",
    "\n",
    "    # Step 3: generate vector for sentences and calculate cosine similarity at once\n",
    "    similarities = []\n",
    "    for sent in sentences:\n",
    "        sentVec = text2vector(sent, voc)\n",
    "        sim = cosineSimilarity(queryVec, sentVec)\n",
    "        similarities.append((round(sim, 4), sent)) # keep track of sentences\n",
    "\n",
    "    similarities.sort(reverse=True) # most similar sentence at the top\n",
    "    return similarities"
   ]
  },
  {
   "cell_type": "markdown",
   "id": "34727669-66b5-457a-bd42-179a69b7e0dd",
   "metadata": {},
   "source": [
    "Now we can call the function for our query \"red dress\" and the list of sentences:"
   ]
  },
  {
   "cell_type": "code",
   "execution_count": null,
   "id": "dab2c623-8e46-41c2-a5c8-44f16ef214a5",
   "metadata": {},
   "outputs": [],
   "source": [
    "rankDocuments(\"red dress\", sentences)"
   ]
  },
  {
   "cell_type": "markdown",
   "id": "61f57d06-5e24-499b-ba9d-71206812ee93",
   "metadata": {},
   "source": [
    "**Note:** These values are slightly different from the ones in the slides. There was a bug with the word \"I\", which was not lowercased in the sentences, so it didn't count in the vector. The bug has been fixed in this version."
   ]
  },
  {
   "cell_type": "markdown",
   "id": "dc31052f-a095-4a3b-963d-93ea3d8aa447",
   "metadata": {},
   "source": [
    "<a id=\"sec3\"></a>\n",
    "## Part 3: Similarity of Spring and Summer sentences\n",
    "\n",
    "You were given the following sentences in the slides of Day 10. These were created by GenAI to capture the spirit of \"spring\" and \"summer\"."
   ]
  },
  {
   "cell_type": "code",
   "execution_count": null,
   "id": "43ac7add-0cab-4e15-8c8c-670a22bd24a6",
   "metadata": {},
   "outputs": [],
   "source": [
    "springSentences = [\n",
    "\"As spring unfolds, the warmth of the season encourages the first blossoms to open, signaling longer days ahead.\",\n",
    "\"Spring brings not only blooming flowers but also the anticipation of sunny days and outdoor activities.\",\n",
    "\"With the arrival of spring, people begin planning their summer vacations, eager to enjoy the seasonal warmth.\",\n",
    "\"The mild spring weather marks the transition from the cold winter to the inviting warmth of summer.\",\n",
    "\"During spring, families often start spending more time outdoors, enjoying the season's pleasant temperatures and the promise of summer fun.\"\n",
    "]\n",
    "\n",
    "summerSentences = [\n",
    "\"Summer continues the season's trend of growth and warmth, with gardens full of life and days filled with sunlight.\",\n",
    "\"The summer season is synonymous with outdoor adventures and enjoying the extended daylight hours that began in spring.\",\n",
    "\"As summer arrives, the warm weather invites a continuation of the outdoor activities that people began enjoying in spring.\",\n",
    "\"The transition into summer brings even warmer temperatures, allowing for beach visits and swimming, much awaited since the spring.\",\n",
    "\"Summer vacations are often planned as the days grow longer, a pattern that starts in the spring, culminating in peak summer leisure.\"\n",
    "]"
   ]
  },
  {
   "cell_type": "markdown",
   "id": "f84d7cfd-7d88-4ae0-a4d8-fd57d7abf98f",
   "metadata": {},
   "source": [
    "**Our Goal:**\n",
    "\n",
    "We want to generate a heatmap of the similarity scores between all sentences to one another to find out how similar they are. To achieve this goal, we need to break down the task:\n",
    "\n",
    "1. We need to create first the vocabulary of all terms (or the dimensions of our vector space).\n",
    "2. We will turn every sentence into a vector.\n",
    "3. We will compare every sentence to every other sentence through the cosine similartiy to create the similarity matrix.\n",
    "4. We will draw the heatmap with seaborn."
   ]
  },
  {
   "cell_type": "markdown",
   "id": "c06d4566-ff9e-440f-8270-28266576f1d4",
   "metadata": {},
   "source": [
    "### Create Vocabulary\n",
    "\n",
    "We will call the function `getVocabulary` that we created before."
   ]
  },
  {
   "cell_type": "code",
   "execution_count": null,
   "id": "ba76cc83-44a6-483a-8b62-504aa457b808",
   "metadata": {},
   "outputs": [],
   "source": [
    "allSentences = \" \".join(springSentences) + \" \" + \" \".join(summerSentences)\n",
    "voc = getVocabulary(allSentences)\n",
    "print(f\"Vocabulary has {len(voc)} words.\")"
   ]
  },
  {
   "cell_type": "markdown",
   "id": "9b1e8c8e-3ba6-4186-888c-419c40f4371d",
   "metadata": {},
   "source": [
    "### Convert sentences to vectors\n",
    "\n",
    "We will call the function `text2vector` on every sentence:"
   ]
  },
  {
   "cell_type": "code",
   "execution_count": null,
   "id": "039cb611-dbc2-4758-949d-8106223faa39",
   "metadata": {},
   "outputs": [],
   "source": [
    "sentVectors = [text2vector(sent, voc) for sent in springSentences+summerSentences]\n",
    "print(len(sentVectors), len(sentVectors[0]))"
   ]
  },
  {
   "cell_type": "markdown",
   "id": "301c7b5a-af95-4c18-8055-2595ad5c325c",
   "metadata": {},
   "source": [
    "This means that we created 10 vectors, each with a length of 102 dimensions.  \n",
    "Let's check our work:"
   ]
  },
  {
   "cell_type": "code",
   "execution_count": null,
   "id": "0cf70219-42ae-470d-a1ee-ed77b5f6df3f",
   "metadata": {},
   "outputs": [],
   "source": [
    "oneSent = springSentences[0]\n",
    "oneSent"
   ]
  },
  {
   "cell_type": "code",
   "execution_count": null,
   "id": "4588ad7d-9c4f-4fb5-8c5b-92d9701e3e0c",
   "metadata": {},
   "outputs": [],
   "source": [
    "pairs = list(zip(text2vector(oneSent, voc), voc))\n",
    "nonZero = [pair for pair in pairs if pair[0] != 0]\n",
    "nonZero"
   ]
  },
  {
   "cell_type": "code",
   "execution_count": null,
   "id": "8ed0ed94-87d4-4709-ba59-9554e5ff6d21",
   "metadata": {},
   "outputs": [],
   "source": [
    "print(f\"Words in sentence: {len(oneSent.split())}; nonzero terms in vector: {len(nonZero)}\")"
   ]
  },
  {
   "cell_type": "markdown",
   "id": "b4e0a4c2-acfb-40d6-b15e-dda74d2f5f12",
   "metadata": {},
   "source": [
    "This looks good. There are 16 unique words, and the word \"the\" is repeated two more times, that explains the numbers 16 and 18. "
   ]
  },
  {
   "cell_type": "markdown",
   "id": "e45c5533-86e8-4829-9de5-e3e8ac0d8cd0",
   "metadata": {},
   "source": [
    "### Calculating the similarity matrix\n",
    "\n",
    "We will calculate the cosine similarity for every pair of sentences. This makes sense because we only have 10 sentences, if we had way more, we will try to be more efficient and not repeat the calculations (since we know that the matrix is symmetrical). "
   ]
  },
  {
   "cell_type": "code",
   "execution_count": null,
   "id": "da6b9b81-d5b1-43f2-b029-1b15a78014e3",
   "metadata": {},
   "outputs": [],
   "source": [
    "simMatrix = []\n",
    "for vec1 in sentVectors:\n",
    "    simRow = []\n",
    "    for vec2 in sentVectors:\n",
    "        simRow.append(cosineSimilarity(vec1, vec2))\n",
    "    simMatrix.append(simRow)\n",
    "\n",
    "print(simMatrix)"
   ]
  },
  {
   "cell_type": "markdown",
   "id": "f8ee2c37-ac61-41de-be5c-1c4d0ed65905",
   "metadata": {},
   "source": [
    "### Generate the heatmap"
   ]
  },
  {
   "cell_type": "code",
   "execution_count": null,
   "id": "15937a9a-5ed7-4f45-b2a9-8fa4d9b15f32",
   "metadata": {},
   "outputs": [],
   "source": [
    "import seaborn as sns\n",
    "import matplotlib.pyplot as plt\n",
    "\n",
    "def drawHeatmap(sentLabels, simMtrx, plotTitle):\n",
    "    \"\"\"Draws a heatmap for the similarity matrix.\n",
    "    \"\"\"\n",
    "    sns.set(font_scale=0.9)\n",
    "    g = sns.heatmap(\n",
    "          simMtrx, # similarity matrix with the cosine sim values\n",
    "          xticklabels=sentLabels,\n",
    "          yticklabels=sentLabels,\n",
    "          vmin=0,\n",
    "          vmax=1,\n",
    "          cmap=\"YlOrRd\")\n",
    "    g.set_xticklabels(sentLabels, rotation=90)\n",
    "    g.set_title(plotTitle, fontsize=14)\n",
    "    plt.show()"
   ]
  },
  {
   "cell_type": "code",
   "execution_count": null,
   "id": "fab0d895-0cbc-46e0-abc4-039dac2e69b4",
   "metadata": {},
   "outputs": [],
   "source": [
    "shortSent = [sent[:25] for sent in springSentences+summerSentences]\n",
    "drawHeatmap(shortSent, simMatrix, \"Cosine similarity matrix\")"
   ]
  },
  {
   "cell_type": "markdown",
   "id": "ccb27fe5-0ad2-4e5d-b3ea-d50ae4d1fccb",
   "metadata": {},
   "source": [
    "### Short Exploration\n",
    "\n",
    "Let's look at the similarity matrix in a pandas dataframe:"
   ]
  },
  {
   "cell_type": "code",
   "execution_count": null,
   "id": "d6a402d1-8fd8-439c-85b5-2ec2524cb011",
   "metadata": {},
   "outputs": [],
   "source": [
    "labels = [f\"s{i+1}\" for i in range(10)]\n",
    "df = pd.DataFrame(simMatrix, columns=labels, index=labels)\n",
    "df"
   ]
  },
  {
   "cell_type": "markdown",
   "id": "7db3f119-4464-43e2-ac5f-351e6526db01",
   "metadata": {},
   "source": [
    "I will write some code to compare sentences that have a high similarity score:"
   ]
  },
  {
   "cell_type": "code",
   "execution_count": null,
   "id": "6081a313-7a0b-4504-9077-cc8af1d2d6f9",
   "metadata": {},
   "outputs": [],
   "source": [
    "def getWords(sent):\n",
    "    \"\"\"Get the words of a sentence after lowercasing and removing punctuation.\"\"\"\n",
    "    cleantext = \"\".join(char for char in sent.lower() if char not in string.punctuation)\n",
    "    cleanWords = cleantext.split()\n",
    "    return cleanWords"
   ]
  },
  {
   "cell_type": "code",
   "execution_count": null,
   "id": "9ca5258d-495a-4ba3-b498-65b080bcf912",
   "metadata": {},
   "outputs": [],
   "source": [
    "def compareSentences(sent1, sent2):\n",
    "    \"\"\"Compare the content of two sentences.\"\"\"\n",
    "    words1 = getWords(sent1)\n",
    "    words2 = getWords(sent2)\n",
    "    commonWords = sorted([w for w in words1 if w in words2])\n",
    "    print(\"COMPARISON RESULTS\")\n",
    "    print(\"Sent1: \", sent1)\n",
    "    print(\"Sent2: \", sent2)\n",
    "    print(f\"Lengths of sentences: {len(words1)} and {len(words2)}. Words in common: {len(commonWords)}\")\n",
    "    print(\"Common words:\", commonWords)"
   ]
  },
  {
   "cell_type": "markdown",
   "id": "5021a92a-4bb4-4fc8-8689-4b13e9f31307",
   "metadata": {},
   "source": [
    "Let's check s1 and s4, in the group os Spring sentences:"
   ]
  },
  {
   "cell_type": "code",
   "execution_count": null,
   "id": "f31164c1-f33b-4be3-a43b-ec5eb5c2bec3",
   "metadata": {},
   "outputs": [],
   "source": [
    "compareSentences(springSentences[0], springSentences[3])"
   ]
  },
  {
   "cell_type": "markdown",
   "id": "98fab4a1-d4f6-4572-bc2d-23814324f8c1",
   "metadata": {},
   "source": [
    "What about the sentences s7 and s8, in the group of Summer sentences?"
   ]
  },
  {
   "cell_type": "code",
   "execution_count": null,
   "id": "24e7e464-6db4-4e99-9b17-77b911ffb9cd",
   "metadata": {},
   "outputs": [],
   "source": [
    "compareSentences(summerSentences[1], summerSentences[2])"
   ]
  },
  {
   "cell_type": "code",
   "execution_count": null,
   "id": "f4d6a16c-48d8-48ab-bfd2-eeadbaf356ee",
   "metadata": {},
   "outputs": [],
   "source": []
  }
 ],
 "metadata": {
  "kernelspec": {
   "display_name": "Python 3 (ipykernel)",
   "language": "python",
   "name": "python3"
  },
  "language_info": {
   "codemirror_mode": {
    "name": "ipython",
    "version": 3
   },
   "file_extension": ".py",
   "mimetype": "text/x-python",
   "name": "python",
   "nbconvert_exporter": "python",
   "pygments_lexer": "ipython3",
   "version": "3.12.1"
  }
 },
 "nbformat": 4,
 "nbformat_minor": 5
}
